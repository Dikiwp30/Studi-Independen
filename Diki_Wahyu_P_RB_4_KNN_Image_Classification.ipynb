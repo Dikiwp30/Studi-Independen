{
  "nbformat": 4,
  "nbformat_minor": 0,
  "metadata": {
    "colab": {
      "name": "Diki Wahyu P_RB-4-KNN Image Classification.ipynb",
      "provenance": [],
      "collapsed_sections": [],
      "include_colab_link": true
    },
    "kernelspec": {
      "name": "python3",
      "display_name": "Python 3"
    }
  },
  "cells": [
    {
      "cell_type": "markdown",
      "metadata": {
        "id": "view-in-github",
        "colab_type": "text"
      },
      "source": [
        "<a href=\"https://colab.research.google.com/github/Dikiwp30/Studi-Independen/blob/main/Diki_Wahyu_P_RB_4_KNN_Image_Classification.ipynb\" target=\"_parent\"><img src=\"https://colab.research.google.com/assets/colab-badge.svg\" alt=\"Open In Colab\"/></a>"
      ]
    },
    {
      "cell_type": "markdown",
      "source": [
        "# Import Library"
      ],
      "metadata": {
        "id": "luqavRgdU8kz"
      }
    },
    {
      "cell_type": "code",
      "metadata": {
        "id": "8vM89u9B8uD7"
      },
      "source": [
        "#import library yang akan digunakan\n",
        "import matplotlib.pyplot as plt\n",
        "import pickle, gzip\n",
        "import numpy as np\n",
        "import urllib.request\n",
        "\n",
        "#import KNN Classifier\n",
        "from sklearn.neighbors import KNeighborsClassifier\n",
        "from sklearn.metrics import classification_report\n",
        "from sklearn.metrics import confusion_matrix\n",
        "from sklearn.model_selection import cross_val_score"
      ],
      "execution_count": 1,
      "outputs": []
    },
    {
      "cell_type": "markdown",
      "source": [
        "# Import Dataset dari DropBox"
      ],
      "metadata": {
        "id": "vxMhxKGZVgHz"
      }
    },
    {
      "cell_type": "code",
      "metadata": {
        "id": "0yTy6p0iR9jX"
      },
      "source": [
        "#Download dataset dari dropbox\n",
        "url = \"https://www.dropbox.com/s/d3hz2dli4z6imfl/mnist_1000.pkl.gz?dl=1\"\n",
        "u = urllib.request.urlopen(url) # Respon HTTP\n",
        "data = u.read() # Data mnist berbentuk byte\n",
        "u.close()\n",
        " \n",
        "with open('mnist_1000.pkl.gz', \"wb\") as f :\n",
        "    f.write(data)"
      ],
      "execution_count": 2,
      "outputs": []
    },
    {
      "cell_type": "code",
      "metadata": {
        "id": "Jm7p-Q-583hE"
      },
      "source": [
        "# load dataset\n",
        "f = gzip.open('/content/mnist_1000.pkl.gz', 'rb')\n",
        "trainData, trainLabels, valData, valLabels, testData, testLabels = pickle.load(\n",
        "    f, encoding='latin1')\n",
        "f.close()"
      ],
      "execution_count": 3,
      "outputs": []
    },
    {
      "cell_type": "markdown",
      "source": [
        "# Data Exploration"
      ],
      "metadata": {
        "id": "_5KClzC8U01R"
      }
    },
    {
      "cell_type": "code",
      "source": [
        "# Melihat jumlah data dalam dataset\n",
        "\n",
        "print(\"training data points: {}\".format(len(trainLabels)))\n",
        "print(\"validation data points: {}\".format(len(valLabels)))\n",
        "print(\"testing data points: {}\".format(len(testLabels)))"
      ],
      "metadata": {
        "colab": {
          "base_uri": "https://localhost:8080/"
        },
        "id": "WIhP5FT1U63Y",
        "outputId": "7945d7f8-d344-47e5-88f8-2e40d09bf9f0"
      },
      "execution_count": 4,
      "outputs": [
        {
          "output_type": "stream",
          "name": "stdout",
          "text": [
            "training data points: 1000\n",
            "validation data points: 200\n",
            "testing data points: 200\n"
          ]
        }
      ]
    },
    {
      "cell_type": "code",
      "metadata": {
        "colab": {
          "base_uri": "https://localhost:8080/"
        },
        "id": "BaMPcVPmSEfJ",
        "outputId": "b79b139b-0f4a-4e04-ce04-86621e4aaf63"
      },
      "source": [
        "#Lihat label data\n",
        "\n",
        "print('Label datanya : ', np.unique(trainLabels))\n",
        "print('Ukuran matriks tiap datanya : ', trainData[0].shape) # ukuran datanya sudah dalam bentuk vektor (ukuran panjang dan lebarnya 28 x28)"
      ],
      "execution_count": 5,
      "outputs": [
        {
          "output_type": "stream",
          "name": "stdout",
          "text": [
            "Label datanya :  [0 1 2 3 4 5 6 7 8 9]\n",
            "Ukuran matriks tiap datanya :  (784,)\n"
          ]
        }
      ]
    },
    {
      "cell_type": "code",
      "metadata": {
        "colab": {
          "base_uri": "https://localhost:8080/",
          "height": 1000
        },
        "id": "6v-A6BehUdD-",
        "outputId": "55cc4164-c6a0-48cd-a7fc-03efa7c7f9e9"
      },
      "source": [
        "# Visualisasikan 10 data training pertama:\n",
        "\n",
        "for i in range(10):\n",
        "  image = trainData[i].reshape((28,28))\n",
        "  print('label = ', trainLabels[i])\n",
        "  plt.imshow(image, cmap=\"Greys\") # cmap bisa diganti, coba ganti gray, Blues, Orange, Inferno\n",
        "  plt.show()"
      ],
      "execution_count": 6,
      "outputs": [
        {
          "output_type": "stream",
          "name": "stdout",
          "text": [
            "label =  5\n"
          ]
        },
        {
          "output_type": "display_data",
          "data": {
            "text/plain": [
              "<Figure size 432x288 with 1 Axes>"
            ],
            "image/png": "[encoded data removed]"
          },
          "metadata": {
            "needs_background": "light"
          }
        },
        {
          "output_type": "stream",
          "name": "stdout",
          "text": [
            "label =  0\n"
          ]
        },
        {
          "output_type": "display_data",
          "data": {
            "text/plain": [
              "<Figure size 432x288 with 1 Axes>"
            ],
            "image/png": "[encoded data removed]"
          },
          "metadata": {
            "needs_background": "light"
          }
        },
        {
          "output_type": "stream",
          "name": "stdout",
          "text": [
            "label =  4\n"
          ]
        },
        {
          "output_type": "display_data",
          "data": {
            "text/plain": [
              "<Figure size 432x288 with 1 Axes>"
            ],
            "image/png": "[encoded data removed]"
          },
          "metadata": {
            "needs_background": "light"
          }
        },
        {
          "output_type": "stream",
          "name": "stdout",
          "text": [
            "label =  1\n"
          ]
        },
        {
          "output_type": "display_data",
          "data": {
            "text/plain": [
              "<Figure size 432x288 with 1 Axes>"
            ],
            "image/png": "[encoded data removed]"
          },
          "metadata": {
            "needs_background": "light"
          }
        },
        {
          "output_type": "stream",
          "name": "stdout",
          "text": [
            "label =  9\n"
          ]
        },
        {
          "output_type": "display_data",
          "data": {
            "text/plain": [
              "<Figure size 432x288 with 1 Axes>"
            ],
            "image/png": "[encoded data removed]"
          },
          "metadata": {
            "needs_background": "light"
          }
        },
        {
          "output_type": "stream",
          "name": "stdout",
          "text": [
            "label =  2\n"
          ]
        },
        {
          "output_type": "display_data",
          "data": {
            "text/plain": [
              "<Figure size 432x288 with 1 Axes>"
            ],
            "image/png": "[encoded data removed]"
          },
          "metadata": {
            "needs_background": "light"
          }
        },
        {
          "output_type": "stream",
          "name": "stdout",
          "text": [
            "label =  1\n"
          ]
        },
        {
          "output_type": "display_data",
          "data": {
            "text/plain": [
              "<Figure size 432x288 with 1 Axes>"
            ],
            "image/png": "[encoded data removed]"
          },
          "metadata": {
            "needs_background": "light"
          }
        },
        {
          "output_type": "stream",
          "name": "stdout",
          "text": [
            "label =  3\n"
          ]
        },
        {
          "output_type": "display_data",
          "data": {
            "text/plain": [
              "<Figure size 432x288 with 1 Axes>"
            ],
            "image/png": "[encoded data removed]"
          },
          "metadata": {
            "needs_background": "light"
          }
        },
        {
          "output_type": "stream",
          "name": "stdout",
          "text": [
            "label =  1\n"
          ]
        },
        {
          "output_type": "display_data",
          "data": {
            "text/plain": [
              "<Figure size 432x288 with 1 Axes>"
            ],
            "image/png": "[encoded data removed]"
          },
          "metadata": {
            "needs_background": "light"
          }
        },
        {
          "output_type": "stream",
          "name": "stdout",
          "text": [
            "label =  4\n"
          ]
        },
        {
          "output_type": "display_data",
          "data": {
            "text/plain": [
              "<Figure size 432x288 with 1 Axes>"
            ],
            "image/png": "[encoded data removed]"
          },
          "metadata": {
            "needs_background": "light"
          }
        }
      ]
    },
    {
      "cell_type": "markdown",
      "source": [
        "# Membangun Model CV menggunakan k-NN"
      ],
      "metadata": {
        "id": "X6_tszaNUXqW"
      }
    },
    {
      "cell_type": "markdown",
      "source": [
        "Referensi: [Precision, Recall, F1-Scores](https://towardsdatascience.com/accuracy-precision-recall-or-f1-331fb37c5cb9) \n",
        "\n",
        "Referensi: [Cross Validation](https://scikit-learn.org/stable/modules/cross_validation.html)"
      ],
      "metadata": {
        "id": "PfLLBPSLWwwr"
      }
    },
    {
      "cell_type": "code",
      "metadata": {
        "id": "Mq8AUd4W9HE1",
        "colab": {
          "base_uri": "https://localhost:8080/"
        },
        "outputId": "26dc34a6-30c5-4e93-97c7-b942412d2185"
      },
      "source": [
        "# Melatih model untuk menentukan k Optimal\n",
        " \n",
        "for k in range (1, 20):\n",
        "    model = KNeighborsClassifier(n_neighbors=k)\n",
        "    model.fit(trainData, trainLabels)\n",
        " \n",
        "    score = model.score(valData, valLabels)\n",
        "    scores = cross_val_score(model, valData, valLabels, cv = 5)\n",
        "    print(\"k = %d | akurasi = %0.2f | akurasi cv: %0.2f\" %(k, score, scores.mean())) "
      ],
      "execution_count": 7,
      "outputs": [
        {
          "output_type": "stream",
          "name": "stdout",
          "text": [
            "k = 1 | akurasi = 0.88 | akurasi cv: 0.85\n",
            "k = 2 | akurasi = 0.84 | akurasi cv: 0.81\n",
            "k = 3 | akurasi = 0.88 | akurasi cv: 0.82\n",
            "k = 4 | akurasi = 0.88 | akurasi cv: 0.80\n",
            "k = 5 | akurasi = 0.86 | akurasi cv: 0.80\n",
            "k = 6 | akurasi = 0.85 | akurasi cv: 0.81\n",
            "k = 7 | akurasi = 0.84 | akurasi cv: 0.77\n",
            "k = 8 | akurasi = 0.85 | akurasi cv: 0.77\n",
            "k = 9 | akurasi = 0.85 | akurasi cv: 0.74\n",
            "k = 10 | akurasi = 0.83 | akurasi cv: 0.74\n",
            "k = 11 | akurasi = 0.83 | akurasi cv: 0.74\n",
            "k = 12 | akurasi = 0.81 | akurasi cv: 0.72\n",
            "k = 13 | akurasi = 0.81 | akurasi cv: 0.73\n",
            "k = 14 | akurasi = 0.81 | akurasi cv: 0.69\n",
            "k = 15 | akurasi = 0.81 | akurasi cv: 0.70\n",
            "k = 16 | akurasi = 0.81 | akurasi cv: 0.68\n",
            "k = 17 | akurasi = 0.80 | akurasi cv: 0.68\n",
            "k = 18 | akurasi = 0.81 | akurasi cv: 0.66\n",
            "k = 19 | akurasi = 0.81 | akurasi cv: 0.64\n"
          ]
        }
      ]
    },
    {
      "cell_type": "code",
      "metadata": {
        "id": "pUfWJP719KQE",
        "colab": {
          "base_uri": "https://localhost:8080/"
        },
        "outputId": "a254641b-a226-4591-dec2-070a61503088"
      },
      "source": [
        "# melatih ulang classifier menggunakan nilai k terbaik value dan memprediksikan label\n",
        "\n",
        "model = KNeighborsClassifier(n_neighbors=3)\n",
        "model.fit(trainData, trainLabels)"
      ],
      "execution_count": 8,
      "outputs": [
        {
          "output_type": "execute_result",
          "data": {
            "text/plain": [
              "KNeighborsClassifier(n_neighbors=3)"
            ]
          },
          "metadata": {},
          "execution_count": 8
        }
      ]
    },
    {
      "cell_type": "markdown",
      "source": [
        "# Evaluation"
      ],
      "metadata": {
        "id": "6qn34ICHYnGT"
      }
    },
    {
      "cell_type": "code",
      "source": [
        "test_accuracy = model.score(testData, testLabels)\n",
        "print(f\"Achieved accuracy of {test_accuracy*100}% on test data\")"
      ],
      "metadata": {
        "colab": {
          "base_uri": "https://localhost:8080/"
        },
        "id": "ZaOQFHb1Yr0S",
        "outputId": "18c8f273-22d9-45c5-db81-a8973e8e43fc"
      },
      "execution_count": 9,
      "outputs": [
        {
          "output_type": "stream",
          "name": "stdout",
          "text": [
            "Achieved accuracy of 85.5% on test data\n"
          ]
        }
      ]
    },
    {
      "cell_type": "code",
      "metadata": {
        "id": "cUT2rBwY9MRh",
        "colab": {
          "base_uri": "https://localhost:8080/"
        },
        "outputId": "a426323f-8faf-46f9-bc1f-477518fff359"
      },
      "source": [
        "predictions = model.predict(testData)\n",
        "print(\"Classification Report\")\n",
        "print(classification_report(testLabels, predictions))"
      ],
      "execution_count": 10,
      "outputs": [
        {
          "output_type": "stream",
          "name": "stdout",
          "text": [
            "Classification Report\n",
            "              precision    recall  f1-score   support\n",
            "\n",
            "           0       0.85      1.00      0.92        17\n",
            "           1       0.80      1.00      0.89        28\n",
            "           2       0.80      0.75      0.77        16\n",
            "           3       0.92      0.75      0.83        16\n",
            "           4       0.95      0.68      0.79        28\n",
            "           5       0.94      0.85      0.89        20\n",
            "           6       1.00      0.90      0.95        20\n",
            "           7       0.88      0.92      0.90        24\n",
            "           8       1.00      0.70      0.82        10\n",
            "           9       0.66      0.90      0.76        21\n",
            "\n",
            "    accuracy                           0.85       200\n",
            "   macro avg       0.88      0.84      0.85       200\n",
            "weighted avg       0.87      0.85      0.85       200\n",
            "\n"
          ]
        }
      ]
    },
    {
      "cell_type": "markdown",
      "source": [
        "Skor F1 mungkin merupakan ukuran yang lebih baik untuk digunakan jika kita perlu mencari keseimbangan antara nilai Precision dan Recall. "
      ],
      "metadata": {
        "id": "9-H3HGNdZj5L"
      }
    },
    {
      "cell_type": "code",
      "metadata": {
        "id": "Ug62-h8d9OK3",
        "colab": {
          "base_uri": "https://localhost:8080/",
          "height": 351
        },
        "outputId": "79324283-1dc0-4622-ee31-04f4cafa337f"
      },
      "source": [
        "from sklearn.metrics import plot_confusion_matrix\n",
        "\n",
        "plot_confusion_matrix(model, testData, testLabels, xticks_rotation='vertical', values_format='d')"
      ],
      "execution_count": 11,
      "outputs": [
        {
          "output_type": "stream",
          "name": "stderr",
          "text": [
            "/usr/local/lib/python3.7/dist-packages/sklearn/utils/deprecation.py:87: FutureWarning: Function plot_confusion_matrix is deprecated; Function `plot_confusion_matrix` is deprecated in 1.0 and will be removed in 1.2. Use one of the class methods: ConfusionMatrixDisplay.from_predictions or ConfusionMatrixDisplay.from_estimator.\n",
            "  warnings.warn(msg, category=FutureWarning)\n"
          ]
        },
        {
          "output_type": "execute_result",
          "data": {
            "text/plain": [
              "<sklearn.metrics._plot.confusion_matrix.ConfusionMatrixDisplay at 0x7fa646368fd0>"
            ]
          },
          "metadata": {},
          "execution_count": 11
        },
        {
          "output_type": "display_data",
          "data": {
            "text/plain": [
              "<Figure size 432x288 with 2 Axes>"
            ],
            "image/png": "[encoded data removed]"
          },
          "metadata": {
            "needs_background": "light"
          }
        }
      ]
    },
    {
      "cell_type": "code",
      "source": [
        "# Menyimpan model yang telah dibuat\n",
        "\n",
        "import pickle\n",
        "filename = 'knn_model.sav'\n",
        "pickle.dump(model, open(filename, 'wb'))"
      ],
      "metadata": {
        "id": "ompLtbWTveGQ"
      },
      "execution_count": 12,
      "outputs": []
    }
  ]
}