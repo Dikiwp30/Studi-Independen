{
  "cells": [
    {
      "cell_type": "markdown",
      "metadata": {
        "id": "view-in-github",
        "colab_type": "text"
      },
      "source": [
        "<a href=\"https://colab.research.google.com/github/Dikiwp30/Studi-Independen/blob/main/Diki_Wahyu_P_simple_data_pre_processing_steps.ipynb\" target=\"_parent\"><img src=\"https://colab.research.google.com/assets/colab-badge.svg\" alt=\"Open In Colab\"/></a>"
      ]
    },
    {
      "cell_type": "markdown",
      "metadata": {
        "_uuid": "674378297bf7f78937a4f1aa466932e68466efcd",
        "id": "aHVs03v-AzSF"
      },
      "source": [
        "### Data Pre-processing Stage\n",
        "\n",
        " \n",
        "  Pada notebook ini berisi tentang basic dalam data pre-processing\n"
      ]
    },
    {
      "cell_type": "markdown",
      "source": [
        ""
      ],
      "metadata": {
        "id": "2XDGRBbsuzmP"
      }
    },
    {
      "cell_type": "markdown",
      "metadata": {
        "_uuid": "fe10f16ae89b1e2579469abba5542de59d18ca7d",
        "id": "AUrlhn8VAzSN"
      },
      "source": [
        "#### Why preprocessing ?\n",
        "1. Data yang kita punya dalam dunia nyata biasanya:\n",
        "    * Incomplete: lacking attribute values, lacking certain attributes of interest, or containing only aggregate data.\n",
        "    * Noisy: mengandung error seperti missing values dan outliers.\n",
        "    * Inconsistent: mengandung perbedaan dalam penulisan kolom."
      ]
    },
    {
      "cell_type": "markdown",
      "metadata": {
        "_uuid": "a30f7f7e2a855e2f0ef0bfc096bd4cc61a3399d9",
        "id": "Ve5cSSfRAzSO"
      },
      "source": [
        "Mari kita pakai sebuah dataset sederhana untuk latihan.\n",
        "Dataset \"data.csv\" mengandung informasi dimana apakah user akan membeli sebuah product atau tidak.\n",
        "User mempunya fitur age,salary, dan negara tempat mereka tinggal."
      ]
    },
    {
      "cell_type": "markdown",
      "metadata": {
        "id": "UsaspOaeAzSQ"
      },
      "source": [
        "## 1. Import library\n",
        "\n",
        "Pada percobaan kali ini kita hanya membutuhkan 2 library yaitu pandas dan numpy. Pandas berguna untuk mengimport datasetnya sedangkan numpy akan kita gunakan dalam mempreproses datanya."
      ]
    },
    {
      "cell_type": "code",
      "execution_count": 1,
      "metadata": {
        "_uuid": "3ed37978d39bc4b4497ed16fd66a99a40df07561",
        "id": "rjEjd4dkAzSR"
      },
      "outputs": [],
      "source": [
        "import numpy as np\n",
        "import pandas as pd"
      ]
    },
    {
      "cell_type": "markdown",
      "metadata": {
        "id": "NhNbdaDAAzSU"
      },
      "source": [
        "## 2 Import dataset"
      ]
    },
    {
      "cell_type": "code",
      "execution_count": 2,
      "metadata": {
        "_uuid": "d09edc61b5ef258b23b6de01c4745613a4d00eca",
        "id": "fCEKEhYyAzSV",
        "outputId": "99e7b2c2-3c4f-4852-c5da-114ec653af42",
        "colab": {
          "base_uri": "https://localhost:8080/"
        }
      },
      "outputs": [
        {
          "output_type": "stream",
          "name": "stdout",
          "text": [
            "dataset: (15, 4)\n"
          ]
        }
      ],
      "source": [
        "dataset = pd.read_csv(\"Data.csv\")\n",
        "\n",
        "\n",
        "# Menampilkan shape dari data yg kita punya\n",
        "print('dataset:', (str(dataset.shape)))\n"
      ]
    },
    {
      "cell_type": "markdown",
      "metadata": {
        "_uuid": "f2255fd0287097870845b0b4dbfd4e4ac04ea9f9",
        "id": "TfDhOsqNAzSY"
      },
      "source": [
        "Dataset kita mengandung 15 rows dan 4 columns.\n",
        "Itu artinya kita mempunyai 15 data dan 4 Kolom"
      ]
    },
    {
      "cell_type": "code",
      "source": [
        "dataset.info()"
      ],
      "metadata": {
        "colab": {
          "base_uri": "https://localhost:8080/"
        },
        "id": "2pUwMNXwf5ss",
        "outputId": "5d21664e-26b2-4df4-dabf-e2e92cc94a48"
      },
      "execution_count": 3,
      "outputs": [
        {
          "output_type": "stream",
          "name": "stdout",
          "text": [
            "<class 'pandas.core.frame.DataFrame'>\n",
            "RangeIndex: 15 entries, 0 to 14\n",
            "Data columns (total 4 columns):\n",
            " #   Column     Non-Null Count  Dtype  \n",
            "---  ------     --------------  -----  \n",
            " 0   Country    15 non-null     object \n",
            " 1   Age        14 non-null     float64\n",
            " 2   Salary     14 non-null     float64\n",
            " 3   Purchased  15 non-null     object \n",
            "dtypes: float64(2), object(2)\n",
            "memory usage: 608.0+ bytes\n"
          ]
        }
      ]
    },
    {
      "cell_type": "code",
      "source": [
        "dataset.duplicated().sum()"
      ],
      "metadata": {
        "colab": {
          "base_uri": "https://localhost:8080/"
        },
        "id": "bduHDf4p6rY4",
        "outputId": "89804feb-6e7c-4952-f76b-921dde6d0fcd"
      },
      "execution_count": 6,
      "outputs": [
        {
          "output_type": "execute_result",
          "data": {
            "text/plain": [
              "0"
            ]
          },
          "metadata": {},
          "execution_count": 6
        }
      ]
    },
    {
      "cell_type": "code",
      "execution_count": 7,
      "metadata": {
        "_uuid": "2764bded9c4328f4ca9902a333d882b12d09223e",
        "id": "D9sXEHE3AzSa",
        "outputId": "5621191e-2d28-49a7-a260-2de6f8c3b075",
        "colab": {
          "base_uri": "https://localhost:8080/",
          "height": 520
        }
      },
      "outputs": [
        {
          "output_type": "execute_result",
          "data": {
            "text/plain": [
              "      Country   Age   Salary Purchased\n",
              "0       India  34.0  92000.0       Yes\n",
              "1   Sri lanka  22.0  25000.0       Yes\n",
              "2       China  31.0  74000.0       Yes\n",
              "3   Sri lanka  29.0      NaN        No\n",
              "4       China  55.0  98000.0       Yes\n",
              "5       India  24.0  30000.0        No\n",
              "6   Sri lanka  28.0  40000.0        No\n",
              "7       India   NaN  60000.0        No\n",
              "8       China  51.0  89000.0       Yes\n",
              "9       India  44.0  78000.0       Yes\n",
              "10  Sri lanka  21.0  20000.0        No\n",
              "11      China  25.0  30000.0       Yes\n",
              "12      India  33.0  45000.0       Yes\n",
              "13      India  42.0  65000.0       Yes\n",
              "14  Sri lanka  33.0  22000.0        No"
            ],
            "text/html": [
              "\n",
              "  <div id=\"df-26147921-ae2e-440f-99f3-f75b6dcce6ee\">\n",
              "    <div class=\"colab-df-container\">\n",
              "      <div>\n",
              "<style scoped>\n",
              "    .dataframe tbody tr th:only-of-type {\n",
              "        vertical-align: middle;\n",
              "    }\n",
              "\n",
              "    .dataframe tbody tr th {\n",
              "        vertical-align: top;\n",
              "    }\n",
              "\n",
              "    .dataframe thead th {\n",
              "        text-align: right;\n",
              "    }\n",
              "</style>\n",
              "<table border=\"1\" class=\"dataframe\">\n",
              "  <thead>\n",
              "    <tr style=\"text-align: right;\">\n",
              "      <th></th>\n",
              "      <th>Country</th>\n",
              "      <th>Age</th>\n",
              "      <th>Salary</th>\n",
              "      <th>Purchased</th>\n",
              "    </tr>\n",
              "  </thead>\n",
              "  <tbody>\n",
              "    <tr>\n",
              "      <th>0</th>\n",
              "      <td>India</td>\n",
              "      <td>34.0</td>\n",
              "      <td>92000.0</td>\n",
              "      <td>Yes</td>\n",
              "    </tr>\n",
              "    <tr>\n",
              "      <th>1</th>\n",
              "      <td>Sri lanka</td>\n",
              "      <td>22.0</td>\n",
              "      <td>25000.0</td>\n",
              "      <td>Yes</td>\n",
              "    </tr>\n",
              "    <tr>\n",
              "      <th>2</th>\n",
              "      <td>China</td>\n",
              "      <td>31.0</td>\n",
              "      <td>74000.0</td>\n",
              "      <td>Yes</td>\n",
              "    </tr>\n",
              "    <tr>\n",
              "      <th>3</th>\n",
              "      <td>Sri lanka</td>\n",
              "      <td>29.0</td>\n",
              "      <td>NaN</td>\n",
              "      <td>No</td>\n",
              "    </tr>\n",
              "    <tr>\n",
              "      <th>4</th>\n",
              "      <td>China</td>\n",
              "      <td>55.0</td>\n",
              "      <td>98000.0</td>\n",
              "      <td>Yes</td>\n",
              "    </tr>\n",
              "    <tr>\n",
              "      <th>5</th>\n",
              "      <td>India</td>\n",
              "      <td>24.0</td>\n",
              "      <td>30000.0</td>\n",
              "      <td>No</td>\n",
              "    </tr>\n",
              "    <tr>\n",
              "      <th>6</th>\n",
              "      <td>Sri lanka</td>\n",
              "      <td>28.0</td>\n",
              "      <td>40000.0</td>\n",
              "      <td>No</td>\n",
              "    </tr>\n",
              "    <tr>\n",
              "      <th>7</th>\n",
              "      <td>India</td>\n",
              "      <td>NaN</td>\n",
              "      <td>60000.0</td>\n",
              "      <td>No</td>\n",
              "    </tr>\n",
              "    <tr>\n",
              "      <th>8</th>\n",
              "      <td>China</td>\n",
              "      <td>51.0</td>\n",
              "      <td>89000.0</td>\n",
              "      <td>Yes</td>\n",
              "    </tr>\n",
              "    <tr>\n",
              "      <th>9</th>\n",
              "      <td>India</td>\n",
              "      <td>44.0</td>\n",
              "      <td>78000.0</td>\n",
              "      <td>Yes</td>\n",
              "    </tr>\n",
              "    <tr>\n",
              "      <th>10</th>\n",
              "      <td>Sri lanka</td>\n",
              "      <td>21.0</td>\n",
              "      <td>20000.0</td>\n",
              "      <td>No</td>\n",
              "    </tr>\n",
              "    <tr>\n",
              "      <th>11</th>\n",
              "      <td>China</td>\n",
              "      <td>25.0</td>\n",
              "      <td>30000.0</td>\n",
              "      <td>Yes</td>\n",
              "    </tr>\n",
              "    <tr>\n",
              "      <th>12</th>\n",
              "      <td>India</td>\n",
              "      <td>33.0</td>\n",
              "      <td>45000.0</td>\n",
              "      <td>Yes</td>\n",
              "    </tr>\n",
              "    <tr>\n",
              "      <th>13</th>\n",
              "      <td>India</td>\n",
              "      <td>42.0</td>\n",
              "      <td>65000.0</td>\n",
              "      <td>Yes</td>\n",
              "    </tr>\n",
              "    <tr>\n",
              "      <th>14</th>\n",
              "      <td>Sri lanka</td>\n",
              "      <td>33.0</td>\n",
              "      <td>22000.0</td>\n",
              "      <td>No</td>\n",
              "    </tr>\n",
              "  </tbody>\n",
              "</table>\n",
              "</div>\n",
              "      <button class=\"colab-df-convert\" onclick=\"convertToInteractive('df-26147921-ae2e-440f-99f3-f75b6dcce6ee')\"\n",
              "              title=\"Convert this dataframe to an interactive table.\"\n",
              "              style=\"display:none;\">\n",
              "        \n",
              "  <svg xmlns=\"http://www.w3.org/2000/svg\" height=\"24px\"viewBox=\"0 0 24 24\"\n",
              "       width=\"24px\">\n",
              "    <path d=\"M0 0h24v24H0V0z\" fill=\"none\"/>\n",
              "    <path d=\"M18.56 5.44l.94 2.06.94-2.06 2.06-.94-2.06-.94-.94-2.06-.94 2.06-2.06.94zm-11 1L8.5 8.5l.94-2.06 2.06-.94-2.06-.94L8.5 2.5l-.94 2.06-2.06.94zm10 10l.94 2.06.94-2.06 2.06-.94-2.06-.94-.94-2.06-.94 2.06-2.06.94z\"/><path d=\"M17.41 7.96l-1.37-1.37c-.4-.4-.92-.59-1.43-.59-.52 0-1.04.2-1.43.59L10.3 9.45l-7.72 7.72c-.78.78-.78 2.05 0 2.83L4 21.41c.39.39.9.59 1.41.59.51 0 1.02-.2 1.41-.59l7.78-7.78 2.81-2.81c.8-.78.8-2.07 0-2.86zM5.41 20L4 18.59l7.72-7.72 1.47 1.35L5.41 20z\"/>\n",
              "  </svg>\n",
              "      </button>\n",
              "      \n",
              "  <style>\n",
              "    .colab-df-container {\n",
              "      display:flex;\n",
              "      flex-wrap:wrap;\n",
              "      gap: 12px;\n",
              "    }\n",
              "\n",
              "    .colab-df-convert {\n",
              "      background-color: #E8F0FE;\n",
              "      border: none;\n",
              "      border-radius: 50%;\n",
              "      cursor: pointer;\n",
              "      display: none;\n",
              "      fill: #1967D2;\n",
              "      height: 32px;\n",
              "      padding: 0 0 0 0;\n",
              "      width: 32px;\n",
              "    }\n",
              "\n",
              "    .colab-df-convert:hover {\n",
              "      background-color: #E2EBFA;\n",
              "      box-shadow: 0px 1px 2px rgba(60, 64, 67, 0.3), 0px 1px 3px 1px rgba(60, 64, 67, 0.15);\n",
              "      fill: #174EA6;\n",
              "    }\n",
              "\n",
              "    [theme=dark] .colab-df-convert {\n",
              "      background-color: #3B4455;\n",
              "      fill: #D2E3FC;\n",
              "    }\n",
              "\n",
              "    [theme=dark] .colab-df-convert:hover {\n",
              "      background-color: #434B5C;\n",
              "      box-shadow: 0px 1px 3px 1px rgba(0, 0, 0, 0.15);\n",
              "      filter: drop-shadow(0px 1px 2px rgba(0, 0, 0, 0.3));\n",
              "      fill: #FFFFFF;\n",
              "    }\n",
              "  </style>\n",
              "\n",
              "      <script>\n",
              "        const buttonEl =\n",
              "          document.querySelector('#df-26147921-ae2e-440f-99f3-f75b6dcce6ee button.colab-df-convert');\n",
              "        buttonEl.style.display =\n",
              "          google.colab.kernel.accessAllowed ? 'block' : 'none';\n",
              "\n",
              "        async function convertToInteractive(key) {\n",
              "          const element = document.querySelector('#df-26147921-ae2e-440f-99f3-f75b6dcce6ee');\n",
              "          const dataTable =\n",
              "            await google.colab.kernel.invokeFunction('convertToInteractive',\n",
              "                                                     [key], {});\n",
              "          if (!dataTable) return;\n",
              "\n",
              "          const docLinkHtml = 'Like what you see? Visit the ' +\n",
              "            '<a target=\"_blank\" href=https://colab.research.google.com/notebooks/data_table.ipynb>data table notebook</a>'\n",
              "            + ' to learn more about interactive tables.';\n",
              "          element.innerHTML = '';\n",
              "          dataTable['output_type'] = 'display_data';\n",
              "          await google.colab.output.renderOutput(dataTable, element);\n",
              "          const docLink = document.createElement('div');\n",
              "          docLink.innerHTML = docLinkHtml;\n",
              "          element.appendChild(docLink);\n",
              "        }\n",
              "      </script>\n",
              "    </div>\n",
              "  </div>\n",
              "  "
            ]
          },
          "metadata": {},
          "execution_count": 7
        }
      ],
      "source": [
        "# print the dataset\n",
        "dataset"
      ]
    },
    {
      "cell_type": "markdown",
      "source": [
        "![image.png](data:image/png;base64,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)"
      ],
      "metadata": {
        "id": "2Sq1OaEHFtIx"
      }
    },
    {
      "cell_type": "code",
      "execution_count": 8,
      "metadata": {
        "_uuid": "0b51a61e0f0b243b1b3c5650a30dcf02d6f943a5",
        "id": "YhEK-KtzAzSc"
      },
      "outputs": [],
      "source": [
        "X = dataset.iloc[:,:3].values\n",
        "\n",
        "Y = dataset.iloc[:,3].values"
      ]
    },
    {
      "cell_type": "markdown",
      "source": [
        "![image.png](data:image/png;base64,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)"
      ],
      "metadata": {
        "id": "t10yM5OdF9tH"
      }
    },
    {
      "cell_type": "code",
      "execution_count": 16,
      "metadata": {
        "_uuid": "5351fbd6905b93aad9c455ee99cb0814e55cfc58",
        "id": "Y541owAUAzSe",
        "outputId": "4646ca20-88e9-4d82-a237-5d27bc126c1d",
        "colab": {
          "base_uri": "https://localhost:8080/"
        }
      },
      "outputs": [
        {
          "output_type": "stream",
          "name": "stdout",
          "text": [
            "Fitur (X): [['India' 34.0 92000.0]\n",
            " ['Sri lanka' 22.0 25000.0]\n",
            " ['China' 31.0 74000.0]\n",
            " ['Sri lanka' 29.0 nan]\n",
            " ['China' 55.0 98000.0]\n",
            " ['India' 24.0 30000.0]\n",
            " ['Sri lanka' 28.0 40000.0]\n",
            " ['India' nan 60000.0]\n",
            " ['China' 51.0 89000.0]\n",
            " ['India' 44.0 78000.0]\n",
            " ['Sri lanka' 21.0 20000.0]\n",
            " ['China' 25.0 30000.0]\n",
            " ['India' 33.0 45000.0]\n",
            " ['India' 42.0 65000.0]\n",
            " ['Sri lanka' 33.0 22000.0]]\n",
            "\n",
            "..........................\n",
            "\n",
            "Label (Y):  ['Yes' 'Yes' 'Yes' 'No' 'Yes' 'No' 'No' 'No' 'Yes' 'Yes' 'No' 'Yes' 'Yes'\n",
            " 'Yes' 'No']\n"
          ]
        }
      ],
      "source": [
        "print ('Fitur (X):',X)\n",
        "print ('\\n..........................')\n",
        "print ('\\nLabel (Y): ',Y)"
      ]
    },
    {
      "cell_type": "markdown",
      "metadata": {
        "_uuid": "dffee0eb70165f04561442a9f05bf2fd0c0d205f",
        "id": "GsPax0KOAzSf"
      },
      "source": [
        "## 3. Handle Missing Data\n"
      ]
    },
    {
      "cell_type": "code",
      "execution_count": 17,
      "metadata": {
        "id": "__Cy3QngAzSg",
        "outputId": "d873ebe8-d1af-42d2-efee-7d466d6ebb2c",
        "colab": {
          "base_uri": "https://localhost:8080/"
        }
      },
      "outputs": [
        {
          "output_type": "execute_result",
          "data": {
            "text/plain": [
              "Country      0\n",
              "Age          1\n",
              "Salary       1\n",
              "Purchased    0\n",
              "dtype: int64"
            ]
          },
          "metadata": {},
          "execution_count": 17
        }
      ],
      "source": [
        "dataset.isnull().sum()"
      ]
    },
    {
      "cell_type": "markdown",
      "metadata": {
        "id": "VVtWH9FaAzSh"
      },
      "source": [
        "Dengan menggunakan fungsi isnull().sum() kita dapat melihat jumlah data yg memiliki missing value dari tiap kolom yang ada.\n",
        "Disini kita dapat melihat kalau terdapat 2 kolom yang memiliki masalah missing value, yaitu pada kolom 'Age' dan 'Salary'.\n",
        "\n",
        "Untuk menangangi masalah missing value, kita bisa melakukan 2 hal. Pertama kita bisa menghapus datanya atau kita bisa mengisi nilai yang kosong itu menggunakan nilai mean/modus/median.\n",
        "\n",
        "Pada percobaan kali ini kita akan menggunakan nilai Mean untuk mengisi missing value tersebut menggunakan bantuan Simple Imputer dari module sklearn"
      ]
    },
    {
      "cell_type": "markdown",
      "source": [
        "![image.png](data:image/png;base64,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)"
      ],
      "metadata": {
        "id": "R55iEv1nGVkH"
      }
    },
    {
      "cell_type": "code",
      "execution_count": 18,
      "metadata": {
        "_uuid": "bc0f9fc1fde9aff85963ee3db02f1fd943d01d93",
        "id": "D9l2UsSFAzSi"
      },
      "outputs": [],
      "source": [
        "from sklearn.impute import SimpleImputer\n",
        "imputer = SimpleImputer(missing_values = np.nan ,strategy = 'mean')\n",
        "imputer = imputer.fit(X[:,1:3])\n",
        "X[:,1:3] = imputer.transform(X[:,1:3])\n"
      ]
    },
    {
      "cell_type": "markdown",
      "metadata": {
        "id": "K1K66iQpAzSj"
      },
      "source": [
        "Dibawah ini kita bisa melihat bahwa tidak ada nilai 'Nan' pada data X"
      ]
    },
    {
      "cell_type": "code",
      "execution_count": 19,
      "metadata": {
        "_uuid": "cbb90e1ca86164287023c7fc38197bf087e0ef0e",
        "id": "VC834b8SAzSk",
        "outputId": "bb2df869-64ff-456c-cf06-69edc923fd02",
        "colab": {
          "base_uri": "https://localhost:8080/"
        }
      },
      "outputs": [
        {
          "output_type": "stream",
          "name": "stdout",
          "text": [
            "X:  [['India' 34.0 92000.0]\n",
            " ['Sri lanka' 22.0 25000.0]\n",
            " ['China' 31.0 74000.0]\n",
            " ['Sri lanka' 29.0 54857.142857142855]\n",
            " ['China' 55.0 98000.0]\n",
            " ['India' 24.0 30000.0]\n",
            " ['Sri lanka' 28.0 40000.0]\n",
            " ['India' 33.714285714285715 60000.0]\n",
            " ['China' 51.0 89000.0]\n",
            " ['India' 44.0 78000.0]\n",
            " ['Sri lanka' 21.0 20000.0]\n",
            " ['China' 25.0 30000.0]\n",
            " ['India' 33.0 45000.0]\n",
            " ['India' 42.0 65000.0]\n",
            " ['Sri lanka' 33.0 22000.0]]\n"
          ]
        }
      ],
      "source": [
        "print ('X: ', X)"
      ]
    },
    {
      "cell_type": "markdown",
      "metadata": {
        "_uuid": "e06044bf541de146377c72fe4f34eb83100c2f49",
        "id": "GohULbW3AzSl"
      },
      "source": [
        "* Mean Value of Age    = Sum of all age values /14   = 33.714285714285715\n",
        "* Mean Value of Salary = Sum of all Salary value /14 = 54857.142857142855"
      ]
    },
    {
      "cell_type": "markdown",
      "metadata": {
        "_uuid": "0504a7e75bde4ac7779062a37f144d9b9a096a17",
        "id": "BvcHCIXiAzSm"
      },
      "source": [
        "## 3. Encode the Categorical data\n",
        "\n",
        "Categorical data biasanya biasanya memiliki tipe data string.\n",
        "Beberapa algoritma dapat memproses categorical data yg berbentuka string secara langsung seperti decision tree.\n",
        "\n",
        "Akan tetapi banyak machine learning algorithms tidak dapat memproses categorical data yg berbentuk string secara langsung. Mereka membutuhkan variabel yg berbentuk numeric.\n",
        "\n",
        "Itu artinya categorical data harus dikonversi bentukanya kedalam numerical form."
      ]
    },
    {
      "cell_type": "markdown",
      "metadata": {
        "_uuid": "a8261920df0d266e0551cdae8264a07c96cdd7f8",
        "id": "tn75j9SvAzSn"
      },
      "source": [
        "Pada Dataset kita terdapat dua kolom categorical data\n",
        "\n",
        "Yaitu kolom 'Country' dan 'Purchased'"
      ]
    },
    {
      "cell_type": "markdown",
      "metadata": {
        "_uuid": "28a61d344d1556bdac352ac69e2ed0eb0e9a0cbc",
        "id": "n9xS0rH0AzSo"
      },
      "source": [
        "#### Label Encoder: \n",
        "\n",
        "    * Metode ini bisa digunakan untuk mentranform non-numerical labels kedalam bentuk numerical labels (or nominal\n",
        "      categorical variables).\n",
        "    * Numerical labels akan selalu ada diantara 0 sampai n_classes-1. \n",
        "      Misalkan ada 3 kelas, berarti labelnya ada di 0, 1, dan 2."
      ]
    },
    {
      "cell_type": "markdown",
      "source": [
        "![image.png](data:image/png;base64,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)"
      ],
      "metadata": {
        "id": "QKN7pP4dGgF5"
      }
    },
    {
      "cell_type": "code",
      "execution_count": 20,
      "metadata": {
        "_uuid": "ad860887b31ba69dfe706ccd320b9cebe4fe931b",
        "id": "R46Ho6BlAzSo",
        "outputId": "4f5ab434-d428-4628-8903-3b94e8d08009",
        "colab": {
          "base_uri": "https://localhost:8080/"
        }
      },
      "outputs": [
        {
          "output_type": "execute_result",
          "data": {
            "text/plain": [
              "array([1, 2, 0, 2, 0, 1, 2, 1, 0, 1, 2, 0, 1, 1, 2], dtype=object)"
            ]
          },
          "metadata": {},
          "execution_count": 20
        }
      ],
      "source": [
        "from sklearn.preprocessing import LabelEncoder, OneHotEncoder\n",
        "labelencoder_X = LabelEncoder()\n",
        "X[:,0] = labelencoder_X.fit_transform(X[:,0])\n",
        "X[:,0]\n"
      ]
    },
    {
      "cell_type": "markdown",
      "metadata": {
        "_uuid": "5f745a4a68c5e1d90dc1537940af301e69d9c164",
        "id": "_rGRujMMAzSo"
      },
      "source": [
        "Sekarang categorical value untuk kolom 'Country' dirbah ke dalam bentuk kategorikal\n",
        "\n",
        "| Country | Value |\n",
        "|:--------|:------|\n",
        "| China   |   0   |  \n",
        "| India   |   1   |   \n",
        "| Srilanka|   2   |   \n"
      ]
    },
    {
      "cell_type": "code",
      "execution_count": 21,
      "metadata": {
        "id": "aTdX9oEUAzSq",
        "outputId": "0503c395-ff72-41dc-f738-56d898a6e6d4",
        "colab": {
          "base_uri": "https://localhost:8080/"
        }
      },
      "outputs": [
        {
          "output_type": "execute_result",
          "data": {
            "text/plain": [
              "array([[1, 34.0, 92000.0],\n",
              "       [2, 22.0, 25000.0],\n",
              "       [0, 31.0, 74000.0],\n",
              "       [2, 29.0, 54857.142857142855],\n",
              "       [0, 55.0, 98000.0],\n",
              "       [1, 24.0, 30000.0],\n",
              "       [2, 28.0, 40000.0],\n",
              "       [1, 33.714285714285715, 60000.0],\n",
              "       [0, 51.0, 89000.0],\n",
              "       [1, 44.0, 78000.0],\n",
              "       [2, 21.0, 20000.0],\n",
              "       [0, 25.0, 30000.0],\n",
              "       [1, 33.0, 45000.0],\n",
              "       [1, 42.0, 65000.0],\n",
              "       [2, 33.0, 22000.0]], dtype=object)"
            ]
          },
          "metadata": {},
          "execution_count": 21
        }
      ],
      "source": [
        "X"
      ]
    },
    {
      "cell_type": "markdown",
      "source": [
        "![image.png](data:image/png;base64,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)"
      ],
      "metadata": {
        "id": "uCJegb8kJOWu"
      }
    },
    {
      "cell_type": "code",
      "execution_count": 22,
      "metadata": {
        "_uuid": "614c26108b7dcd141f65bf14b67e178aee962f19",
        "id": "MaChlPr2AzSr",
        "outputId": "acb119f4-694a-4458-f424-6e506b332f83",
        "colab": {
          "base_uri": "https://localhost:8080/"
        }
      },
      "outputs": [
        {
          "output_type": "execute_result",
          "data": {
            "text/plain": [
              "array([1, 1, 1, 0, 1, 0, 0, 0, 1, 1, 0, 1, 1, 1, 0])"
            ]
          },
          "metadata": {},
          "execution_count": 22
        }
      ],
      "source": [
        "labelencoder_Y = LabelEncoder()\n",
        "Y = labelencoder_X.fit_transform(Y)\n",
        "Y\n",
        "\n",
        "#Yes = []"
      ]
    },
    {
      "cell_type": "markdown",
      "metadata": {
        "id": "b5YKYrCYAzSr"
      },
      "source": [
        "## 4. Splitting Dataset"
      ]
    },
    {
      "cell_type": "markdown",
      "source": [
        "![image.png](data:image/png;base64,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)"
      ],
      "metadata": {
        "id": "vL8hM5ZlKehX"
      }
    },
    {
      "cell_type": "code",
      "execution_count": 23,
      "metadata": {
        "_uuid": "19b3d19ab1e4b1c1ff425d55b0eb79317bf7ab86",
        "id": "TZngyDLOAzSr"
      },
      "outputs": [],
      "source": [
        "from sklearn.model_selection import train_test_split\n",
        "X_train,X_test,Y_train,Y_test = train_test_split(X,Y,test_size = 0.2,random_state = 0)\n"
      ]
    },
    {
      "cell_type": "code",
      "execution_count": 24,
      "metadata": {
        "_uuid": "780861983da7a12d75a1a3c7e6e03a1602d41c07",
        "scrolled": true,
        "id": "KXJOtiWLAzSs",
        "outputId": "ae8a8975-6cce-49a6-a89c-c43d08028292",
        "colab": {
          "base_uri": "https://localhost:8080/"
        }
      },
      "outputs": [
        {
          "output_type": "stream",
          "name": "stdout",
          "text": [
            "X_train: (12, 3)\n",
            "----------------\n",
            "X_test: (3, 3)\n",
            "----------------\n",
            "Y_train: (12,)\n",
            "----------------\n",
            "Y_test: (3,)\n",
            "----------------\n"
          ]
        }
      ],
      "source": [
        "# Print the shape of the dataset\n",
        "print ('X_train:', (str(X_train.shape)))\n",
        "print ('----------------')\n",
        "print ('X_test:', (str(X_test.shape)))\n",
        "print ('----------------')\n",
        "print ('Y_train:', (str(Y_train.shape)))\n",
        "print ('----------------')\n",
        "print ('Y_test:', (str(Y_test.shape)))\n",
        "print ('----------------')"
      ]
    },
    {
      "cell_type": "markdown",
      "metadata": {
        "_uuid": "0ef42f4efa7b7ed1f21966153a9a0de7a14d1d2e",
        "id": "s5RrWfVeAzSs"
      },
      "source": [
        "## 5. Scale your Features\n",
        " \n",
        "\n",
        "Dalam sebuah dataset, biasanya nilai pada tiap fitur mempunyai range yg berbeda. Hal ini dapat menjadikan masalah untuk\n",
        "beberapa model machine learning. Untuk itu kita harus melakukan scaling agar semua nilai pada fitur memiliki range yang sama. Pada kasus ini kita menggunakan StandardScaler\n",
        "      \n",
        "      "
      ]
    },
    {
      "cell_type": "markdown",
      "source": [
        "![image.png](data:image/png;base64,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)"
      ],
      "metadata": {
        "id": "oTWdcEwwKqIn"
      }
    },
    {
      "cell_type": "code",
      "execution_count": 25,
      "metadata": {
        "_uuid": "d7b0722d744c2da299c42cc2b6e50f6a21a87d20",
        "id": "frcVyE12AzSt"
      },
      "outputs": [],
      "source": [
        "from sklearn.preprocessing import StandardScaler\n",
        "sc_X = StandardScaler()\n",
        "X_train = sc_X.fit_transform(X_train)\n",
        "X_test = sc_X.transform(X_test)\n"
      ]
    },
    {
      "cell_type": "code",
      "execution_count": 26,
      "metadata": {
        "_uuid": "19edd09629c93a036a69dbb5adc2fa526c1403db",
        "id": "yOQftxbjAzSt",
        "outputId": "ac24c22f-e7d6-49b9-c3f8-2ff0a908aac3",
        "colab": {
          "base_uri": "https://localhost:8080/"
        }
      },
      "outputs": [
        {
          "output_type": "execute_result",
          "data": {
            "text/plain": [
              "array([[ 0.00000000e+00,  1.13100526e+00,  8.68162753e-01],\n",
              "       [ 1.41421356e+00, -7.99435932e-02, -1.31570762e+00],\n",
              "       [-1.41421356e+00,  2.34195411e+00,  1.64811646e+00],\n",
              "       [-1.41421356e+00, -3.00116112e-01,  7.12172013e-01],\n",
              "       [ 0.00000000e+00,  9.10832742e-01,  3.61192846e-01],\n",
              "       [ 1.41421356e+00, -1.40097871e+00, -1.39370299e+00],\n",
              "       [ 0.00000000e+00, -1.31055071e-03,  1.66204420e-01],\n",
              "       [-1.41421356e+00, -9.60633669e-01, -1.00372614e+00],\n",
              "       [ 1.41421356e+00, -5.20288631e-01, -3.43551036e-02],\n",
              "       [ 0.00000000e+00,  3.01426663e-02,  1.41413035e+00],\n",
              "       [ 0.00000000e+00, -1.07071993e+00, -1.00372614e+00],\n",
              "       [ 0.00000000e+00, -7.99435932e-02, -4.18760858e-01]])"
            ]
          },
          "metadata": {},
          "execution_count": 26
        }
      ],
      "source": [
        "X_train"
      ]
    },
    {
      "cell_type": "code",
      "execution_count": 27,
      "metadata": {
        "_uuid": "047b9e920be562717de782098c416e0bcc6e9bd5",
        "id": "xYqUfFy8AzSu",
        "outputId": "d9337276-277c-4b7b-ce9e-e71321480445",
        "colab": {
          "base_uri": "https://localhost:8080/"
        }
      },
      "outputs": [
        {
          "output_type": "execute_result",
          "data": {
            "text/plain": [
              "array([[ 1.41421356, -1.29089245, -1.19871456],\n",
              "       [ 1.41421356, -0.63037489, -0.61374928],\n",
              "       [-1.41421356,  1.90160908,  1.29713729]])"
            ]
          },
          "metadata": {},
          "execution_count": 27
        }
      ],
      "source": [
        "X_test"
      ]
    },
    {
      "cell_type": "markdown",
      "metadata": {
        "_uuid": "d884daf43f80af5c65844fbc763ea18c738890ec",
        "id": "5hTbkcfAAzSu"
      },
      "source": [
        "Nah Sekarang semua data dalam fitur sudah berada dalam range yg sama, data ini bisa lgsg kita masukan kedalam model machine learning."
      ]
    },
    {
      "cell_type": "markdown",
      "metadata": {
        "id": "sp9AldPOAzSu"
      },
      "source": [
        "Dalam percobaan kali ini kita akan mencoba memasukkan data kedalam model KNN"
      ]
    },
    {
      "cell_type": "markdown",
      "source": [
        "![image.png](data:image/png;base64,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)"
      ],
      "metadata": {
        "id": "DoPKT6XqK2MU"
      }
    },
    {
      "cell_type": "code",
      "execution_count": 28,
      "metadata": {
        "id": "LOPfa5SpAzSv",
        "outputId": "66e06b29-df21-4701-8727-de91f6316a63",
        "colab": {
          "base_uri": "https://localhost:8080/"
        }
      },
      "outputs": [
        {
          "output_type": "execute_result",
          "data": {
            "text/plain": [
              "KNeighborsClassifier(n_neighbors=3)"
            ]
          },
          "metadata": {},
          "execution_count": 28
        }
      ],
      "source": [
        "from sklearn.neighbors import KNeighborsClassifier\n",
        "k =3\n",
        "knn = KNeighborsClassifier(n_neighbors = k).fit(X_train,Y_train)\n",
        "knn"
      ]
    },
    {
      "cell_type": "code",
      "execution_count": 29,
      "metadata": {
        "id": "dS85c1VJAzSv"
      },
      "outputs": [],
      "source": [
        "y_predict = knn.predict(X_test)"
      ]
    },
    {
      "cell_type": "code",
      "execution_count": 30,
      "metadata": {
        "id": "mRauUIycAzSw",
        "outputId": "fce3580a-6e12-47e1-9918-f251860e8650",
        "colab": {
          "base_uri": "https://localhost:8080/"
        }
      },
      "outputs": [
        {
          "output_type": "stream",
          "name": "stdout",
          "text": [
            "Test set Accuracy:  0.6666666666666666\n"
          ]
        }
      ],
      "source": [
        "from sklearn import metrics\n",
        "print(\"Test set Accuracy: \", metrics.accuracy_score(Y_test, y_predict))"
      ]
    },
    {
      "cell_type": "markdown",
      "metadata": {
        "id": "9PPXTB5_AzSw"
      },
      "source": [
        "Dalam hal ini kita hanya mendapat akurasi 67%, ini terhitung kecil. ini bisa disebabkan karena data yg kita punya hanyaa sedikit. "
      ]
    },
    {
      "cell_type": "code",
      "execution_count": null,
      "metadata": {
        "id": "0pAPNZ9EAzSx"
      },
      "outputs": [],
      "source": [
        ""
      ]
    }
  ],
  "metadata": {
    "kernelspec": {
      "display_name": "Python 3",
      "language": "python",
      "name": "python3"
    },
    "language_info": {
      "codemirror_mode": {
        "name": "ipython",
        "version": 3
      },
      "file_extension": ".py",
      "mimetype": "text/x-python",
      "name": "python",
      "nbconvert_exporter": "python",
      "pygments_lexer": "ipython3",
      "version": "3.7.6"
    },
    "colab": {
      "name": "Diki Wahyu P_simple-data-pre-processing-steps.ipynb",
      "provenance": [],
      "collapsed_sections": [],
      "include_colab_link": true
    }
  },
  "nbformat": 4,
  "nbformat_minor": 0
}