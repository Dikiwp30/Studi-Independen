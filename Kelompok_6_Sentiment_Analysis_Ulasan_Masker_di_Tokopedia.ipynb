{
  "cells": [
    {
      "cell_type": "markdown",
      "metadata": {
        "id": "view-in-github",
        "colab_type": "text"
      },
      "source": [
        "<a href=\"https://colab.research.google.com/github/Dikiwp30/Studi-Independen/blob/main/Kelompok_6_Sentiment_Analysis_Ulasan_Masker_di_Tokopedia.ipynb\" target=\"_parent\"><img src=\"https://colab.research.google.com/assets/colab-badge.svg\" alt=\"Open In Colab\"/></a>"
      ]
    },
    {
      "cell_type": "markdown",
      "source": [
        "# <strong>Natural Processing Language\n",
        "# Kelompok 6 - Sentiment Analysis Ulasan Masker Di Tokopedia\n",
        "\n",
        "1. Ayu Tri Rahmawati             - Winning Eleven\n",
        "2. Sonia Bintang                 - Winning Eleven\n",
        "3. Vigia Rahayu Meilani          - Winning Eleven\n",
        "4. Diki Wahyu Pratama            - Jumatec\n",
        "5. Sinta Puspa Sari              - Jumatec\n",
        "6. Laili Miftachur Rohmah        - Jumatec\n",
        "7. Maulidia Nur Zahrotun Na`Imah - Jumatec"
      ],
      "metadata": {
        "id": "ozuls3YKO7i7"
      },
      "id": "ozuls3YKO7i7"
    },
    {
      "cell_type": "markdown",
      "source": [
        "# 1. Problem Scoping"
      ],
      "metadata": {
        "id": "aC8rwajXTG51"
      },
      "id": "aC8rwajXTG51"
    },
    {
      "cell_type": "markdown",
      "id": "complicated-twins",
      "metadata": {
        "papermill": {
          "duration": 0.047151,
          "end_time": "2021-06-25T04:23:13.290744",
          "exception": false,
          "start_time": "2021-06-25T04:23:13.243593",
          "status": "completed"
        },
        "tags": [],
        "id": "complicated-twins"
      },
      "source": [
        "Adanya pandemi covid-19 membuat permintaan akan kebutuhan alat kesehatan meningkat khususnya masker. Pada awal covid masuk ke Indonesia terjadi pembelian masker besar-besaran oleh masyarakat. Banyak ulasan yang disampaikan oleh masyarakat, ada yang positif dan ada juga yang negatif. Oleh karena itu kelompok kami memutuskan untuk melakukan sentiment analysis terhadap ulasan masker medis di marketplace yang cukup terkenal yaitu Tokopedia. Sentiment Analysis yang kami lakukan menggunakan TF-IDF."
      ]
    },
    {
      "cell_type": "markdown",
      "id": "centered-mystery",
      "metadata": {
        "id": "centered-mystery",
        "papermill": {
          "duration": 0.041773,
          "end_time": "2021-06-25T04:23:13.372808",
          "exception": false,
          "start_time": "2021-06-25T04:23:13.331035",
          "status": "completed"
        },
        "tags": []
      },
      "source": [
        "# 2. Data Acquisition"
      ]
    },
    {
      "cell_type": "markdown",
      "source": [
        "**Import Dataset**"
      ],
      "metadata": {
        "id": "yekslHAeTcC7"
      },
      "id": "yekslHAeTcC7"
    },
    {
      "cell_type": "code",
      "execution_count": 1,
      "id": "strong-agriculture",
      "metadata": {
        "execution": {
          "iopub.execute_input": "2021-06-25T04:23:13.485165Z",
          "iopub.status.busy": "2021-06-25T04:23:13.484542Z",
          "iopub.status.idle": "2021-06-25T04:23:13.488160Z",
          "shell.execute_reply": "2021-06-25T04:23:13.487601Z",
          "shell.execute_reply.started": "2021-06-25T04:00:06.9683Z"
        },
        "id": "strong-agriculture",
        "papermill": {
          "duration": 0.065101,
          "end_time": "2021-06-25T04:23:13.488294",
          "exception": false,
          "start_time": "2021-06-25T04:23:13.423193",
          "status": "completed"
        },
        "tags": []
      },
      "outputs": [],
      "source": [
        "import pandas as pd\n",
        "import matplotlib.pyplot as plt"
      ]
    },
    {
      "cell_type": "code",
      "execution_count": 2,
      "id": "aquatic-great",
      "metadata": {
        "execution": {
          "iopub.execute_input": "2021-06-25T04:23:13.594157Z",
          "iopub.status.busy": "2021-06-25T04:23:13.581805Z",
          "iopub.status.idle": "2021-06-25T04:23:21.997391Z",
          "shell.execute_reply": "2021-06-25T04:23:21.996789Z",
          "shell.execute_reply.started": "2021-06-25T03:58:46.692452Z"
        },
        "papermill": {
          "duration": 8.469182,
          "end_time": "2021-06-25T04:23:21.997521",
          "exception": false,
          "start_time": "2021-06-25T04:23:13.528339",
          "status": "completed"
        },
        "tags": [],
        "colab": {
          "base_uri": "https://localhost:8080/"
        },
        "id": "aquatic-great",
        "outputId": "d34a7639-600d-478c-e824-be0d197e0654"
      },
      "outputs": [
        {
          "output_type": "stream",
          "name": "stdout",
          "text": [
            "Requirement already satisfied: openpyxl in /usr/local/lib/python3.7/dist-packages (3.0.9)\n",
            "Requirement already satisfied: et-xmlfile in /usr/local/lib/python3.7/dist-packages (from openpyxl) (1.1.0)\n"
          ]
        }
      ],
      "source": [
        "pip install openpyxl #OpenPyXL adalah librari yang digunakan untuk membaca dan menulis file Excel"
      ]
    },
    {
      "cell_type": "code",
      "execution_count": 3,
      "id": "military-philippines",
      "metadata": {
        "execution": {
          "iopub.execute_input": "2021-06-25T04:23:22.088645Z",
          "iopub.status.busy": "2021-06-25T04:23:22.088038Z",
          "iopub.status.idle": "2021-06-25T04:23:22.431436Z",
          "shell.execute_reply": "2021-06-25T04:23:22.431886Z",
          "shell.execute_reply.started": "2021-06-25T03:58:56.134068Z"
        },
        "id": "military-philippines",
        "outputId": "4674800d-9cdc-4dbf-d844-73570896f09a",
        "papermill": {
          "duration": 0.391051,
          "end_time": "2021-06-25T04:23:22.432041",
          "exception": false,
          "start_time": "2021-06-25T04:23:22.040990",
          "status": "completed"
        },
        "tags": [],
        "colab": {
          "base_uri": "https://localhost:8080/",
          "height": 423
        }
      },
      "outputs": [
        {
          "output_type": "execute_result",
          "data": {
            "text/plain": [
              "                                         Nama_Produk       Akun  \\\n",
              "1  Masker KF94 4 Ply Isi 10 Pcs Masker Medis Kese...  Stephanus   \n",
              "2  Masker KF94 4 Ply Isi 10 Pcs Masker Medis Kese...       Yati   \n",
              "3  Masker KF94 4 Ply Isi 10 Pcs Masker Medis Kese...      Husin   \n",
              "4  Masker KF94 4 Ply Isi 10 Pcs Masker Medis Kese...      Febby   \n",
              "5  Masker KF94 4 Ply Isi 10 Pcs Masker Medis Kese...     Rahmat   \n",
              "\n",
              "                                              Ulasan  rate  \\\n",
              "1  keduakali beli tapi sayang yang kedua lambat d...     3   \n",
              "2                             bagus pengiriman cepat     5   \n",
              "3                              barang sesuai pesanan     4   \n",
              "4                             agak panas pas dipakai     5   \n",
              "5  barang sesuai permintaan dan bagus namun komun...     3   \n",
              "\n",
              "                                     Ulasan_tokenize  \\\n",
              "1  ['keduakali', 'beli', 'tapi', 'sayang', 'yang'...   \n",
              "2                   ['bagus', 'pengiriman', 'cepat']   \n",
              "3                    ['barang', 'sesuai', 'pesanan']   \n",
              "4                ['agak', 'panas', 'pas', 'dipakai']   \n",
              "5  ['barang', 'sesuai', 'permintaan', 'dan', 'bag...   \n",
              "\n",
              "                                   Ulasan_normalized  \\\n",
              "1  ['kedua kali', 'beli', 'tapi', 'sayang', 'yang...   \n",
              "2                   ['bagus', 'pengiriman', 'cepat']   \n",
              "3                    ['barang', 'sesuai', 'pesanan']   \n",
              "4            ['sedikit', 'panas', 'saat', 'dipakai']   \n",
              "5  ['barang', 'sesuai', 'permintaan', 'dan', 'bag...   \n",
              "\n",
              "                                 Ulasan_stop_removed  \\\n",
              "1  ['kedua kali', 'beli', 'sayang', 'lambat', 're...   \n",
              "2                   ['bagus', 'pengiriman', 'cepat']   \n",
              "3                    ['barang', 'sesuai', 'pesanan']   \n",
              "4                               ['panas', 'dipakai']   \n",
              "5  ['barang', 'sesuai', 'permintaan', 'bagus', 'k...   \n",
              "\n",
              "                                      Ulasan_Stemmed  \\\n",
              "1  ['dua kali', 'beli', 'sayang', 'lambat', 'resp...   \n",
              "2                        ['bagus', 'kirim', 'cepat']   \n",
              "3                      ['barang', 'sesuai', 'pesan']   \n",
              "4                                 ['panas', 'pakai']   \n",
              "5  ['barang', 'sesuai', 'minta', 'bagus', 'komuni...   \n",
              "\n",
              "                                        Ulasan_clean  \n",
              "1  dua kali beli sayang lambat respon order pagi ...  \n",
              "2                                  bagus kirim cepat  \n",
              "3                                barang sesuai pesan  \n",
              "4                                        panas pakai  \n",
              "5  barang sesuai minta bagus komunikasi jual beli...  "
            ],
            "text/html": [
              "\n",
              "  <div id=\"df-c929cb40-2f15-4e55-a70d-220774403a93\">\n",
              "    <div class=\"colab-df-container\">\n",
              "      <div>\n",
              "<style scoped>\n",
              "    .dataframe tbody tr th:only-of-type {\n",
              "        vertical-align: middle;\n",
              "    }\n",
              "\n",
              "    .dataframe tbody tr th {\n",
              "        vertical-align: top;\n",
              "    }\n",
              "\n",
              "    .dataframe thead th {\n",
              "        text-align: right;\n",
              "    }\n",
              "</style>\n",
              "<table border=\"1\" class=\"dataframe\">\n",
              "  <thead>\n",
              "    <tr style=\"text-align: right;\">\n",
              "      <th></th>\n",
              "      <th>Nama_Produk</th>\n",
              "      <th>Akun</th>\n",
              "      <th>Ulasan</th>\n",
              "      <th>rate</th>\n",
              "      <th>Ulasan_tokenize</th>\n",
              "      <th>Ulasan_normalized</th>\n",
              "      <th>Ulasan_stop_removed</th>\n",
              "      <th>Ulasan_Stemmed</th>\n",
              "      <th>Ulasan_clean</th>\n",
              "    </tr>\n",
              "  </thead>\n",
              "  <tbody>\n",
              "    <tr>\n",
              "      <th>1</th>\n",
              "      <td>Masker KF94 4 Ply Isi 10 Pcs Masker Medis Kese...</td>\n",
              "      <td>Stephanus</td>\n",
              "      <td>keduakali beli tapi sayang yang kedua lambat d...</td>\n",
              "      <td>3</td>\n",
              "      <td>['keduakali', 'beli', 'tapi', 'sayang', 'yang'...</td>\n",
              "      <td>['kedua kali', 'beli', 'tapi', 'sayang', 'yang...</td>\n",
              "      <td>['kedua kali', 'beli', 'sayang', 'lambat', 're...</td>\n",
              "      <td>['dua kali', 'beli', 'sayang', 'lambat', 'resp...</td>\n",
              "      <td>dua kali beli sayang lambat respon order pagi ...</td>\n",
              "    </tr>\n",
              "    <tr>\n",
              "      <th>2</th>\n",
              "      <td>Masker KF94 4 Ply Isi 10 Pcs Masker Medis Kese...</td>\n",
              "      <td>Yati</td>\n",
              "      <td>bagus pengiriman cepat</td>\n",
              "      <td>5</td>\n",
              "      <td>['bagus', 'pengiriman', 'cepat']</td>\n",
              "      <td>['bagus', 'pengiriman', 'cepat']</td>\n",
              "      <td>['bagus', 'pengiriman', 'cepat']</td>\n",
              "      <td>['bagus', 'kirim', 'cepat']</td>\n",
              "      <td>bagus kirim cepat</td>\n",
              "    </tr>\n",
              "    <tr>\n",
              "      <th>3</th>\n",
              "      <td>Masker KF94 4 Ply Isi 10 Pcs Masker Medis Kese...</td>\n",
              "      <td>Husin</td>\n",
              "      <td>barang sesuai pesanan</td>\n",
              "      <td>4</td>\n",
              "      <td>['barang', 'sesuai', 'pesanan']</td>\n",
              "      <td>['barang', 'sesuai', 'pesanan']</td>\n",
              "      <td>['barang', 'sesuai', 'pesanan']</td>\n",
              "      <td>['barang', 'sesuai', 'pesan']</td>\n",
              "      <td>barang sesuai pesan</td>\n",
              "    </tr>\n",
              "    <tr>\n",
              "      <th>4</th>\n",
              "      <td>Masker KF94 4 Ply Isi 10 Pcs Masker Medis Kese...</td>\n",
              "      <td>Febby</td>\n",
              "      <td>agak panas pas dipakai</td>\n",
              "      <td>5</td>\n",
              "      <td>['agak', 'panas', 'pas', 'dipakai']</td>\n",
              "      <td>['sedikit', 'panas', 'saat', 'dipakai']</td>\n",
              "      <td>['panas', 'dipakai']</td>\n",
              "      <td>['panas', 'pakai']</td>\n",
              "      <td>panas pakai</td>\n",
              "    </tr>\n",
              "    <tr>\n",
              "      <th>5</th>\n",
              "      <td>Masker KF94 4 Ply Isi 10 Pcs Masker Medis Kese...</td>\n",
              "      <td>Rahmat</td>\n",
              "      <td>barang sesuai permintaan dan bagus namun komun...</td>\n",
              "      <td>3</td>\n",
              "      <td>['barang', 'sesuai', 'permintaan', 'dan', 'bag...</td>\n",
              "      <td>['barang', 'sesuai', 'permintaan', 'dan', 'bag...</td>\n",
              "      <td>['barang', 'sesuai', 'permintaan', 'bagus', 'k...</td>\n",
              "      <td>['barang', 'sesuai', 'minta', 'bagus', 'komuni...</td>\n",
              "      <td>barang sesuai minta bagus komunikasi jual beli...</td>\n",
              "    </tr>\n",
              "  </tbody>\n",
              "</table>\n",
              "</div>\n",
              "      <button class=\"colab-df-convert\" onclick=\"convertToInteractive('df-c929cb40-2f15-4e55-a70d-220774403a93')\"\n",
              "              title=\"Convert this dataframe to an interactive table.\"\n",
              "              style=\"display:none;\">\n",
              "        \n",
              "  <svg xmlns=\"http://www.w3.org/2000/svg\" height=\"24px\"viewBox=\"0 0 24 24\"\n",
              "       width=\"24px\">\n",
              "    <path d=\"M0 0h24v24H0V0z\" fill=\"none\"/>\n",
              "    <path d=\"M18.56 5.44l.94 2.06.94-2.06 2.06-.94-2.06-.94-.94-2.06-.94 2.06-2.06.94zm-11 1L8.5 8.5l.94-2.06 2.06-.94-2.06-.94L8.5 2.5l-.94 2.06-2.06.94zm10 10l.94 2.06.94-2.06 2.06-.94-2.06-.94-.94-2.06-.94 2.06-2.06.94z\"/><path d=\"M17.41 7.96l-1.37-1.37c-.4-.4-.92-.59-1.43-.59-.52 0-1.04.2-1.43.59L10.3 9.45l-7.72 7.72c-.78.78-.78 2.05 0 2.83L4 21.41c.39.39.9.59 1.41.59.51 0 1.02-.2 1.41-.59l7.78-7.78 2.81-2.81c.8-.78.8-2.07 0-2.86zM5.41 20L4 18.59l7.72-7.72 1.47 1.35L5.41 20z\"/>\n",
              "  </svg>\n",
              "      </button>\n",
              "      \n",
              "  <style>\n",
              "    .colab-df-container {\n",
              "      display:flex;\n",
              "      flex-wrap:wrap;\n",
              "      gap: 12px;\n",
              "    }\n",
              "\n",
              "    .colab-df-convert {\n",
              "      background-color: #E8F0FE;\n",
              "      border: none;\n",
              "      border-radius: 50%;\n",
              "      cursor: pointer;\n",
              "      display: none;\n",
              "      fill: #1967D2;\n",
              "      height: 32px;\n",
              "      padding: 0 0 0 0;\n",
              "      width: 32px;\n",
              "    }\n",
              "\n",
              "    .colab-df-convert:hover {\n",
              "      background-color: #E2EBFA;\n",
              "      box-shadow: 0px 1px 2px rgba(60, 64, 67, 0.3), 0px 1px 3px 1px rgba(60, 64, 67, 0.15);\n",
              "      fill: #174EA6;\n",
              "    }\n",
              "\n",
              "    [theme=dark] .colab-df-convert {\n",
              "      background-color: #3B4455;\n",
              "      fill: #D2E3FC;\n",
              "    }\n",
              "\n",
              "    [theme=dark] .colab-df-convert:hover {\n",
              "      background-color: #434B5C;\n",
              "      box-shadow: 0px 1px 3px 1px rgba(0, 0, 0, 0.15);\n",
              "      filter: drop-shadow(0px 1px 2px rgba(0, 0, 0, 0.3));\n",
              "      fill: #FFFFFF;\n",
              "    }\n",
              "  </style>\n",
              "\n",
              "      <script>\n",
              "        const buttonEl =\n",
              "          document.querySelector('#df-c929cb40-2f15-4e55-a70d-220774403a93 button.colab-df-convert');\n",
              "        buttonEl.style.display =\n",
              "          google.colab.kernel.accessAllowed ? 'block' : 'none';\n",
              "\n",
              "        async function convertToInteractive(key) {\n",
              "          const element = document.querySelector('#df-c929cb40-2f15-4e55-a70d-220774403a93');\n",
              "          const dataTable =\n",
              "            await google.colab.kernel.invokeFunction('convertToInteractive',\n",
              "                                                     [key], {});\n",
              "          if (!dataTable) return;\n",
              "\n",
              "          const docLinkHtml = 'Like what you see? Visit the ' +\n",
              "            '<a target=\"_blank\" href=https://colab.research.google.com/notebooks/data_table.ipynb>data table notebook</a>'\n",
              "            + ' to learn more about interactive tables.';\n",
              "          element.innerHTML = '';\n",
              "          dataTable['output_type'] = 'display_data';\n",
              "          await google.colab.output.renderOutput(dataTable, element);\n",
              "          const docLink = document.createElement('div');\n",
              "          docLink.innerHTML = docLinkHtml;\n",
              "          element.appendChild(docLink);\n",
              "        }\n",
              "      </script>\n",
              "    </div>\n",
              "  </div>\n",
              "  "
            ]
          },
          "metadata": {},
          "execution_count": 3
        }
      ],
      "source": [
        "data = pd.read_excel(\"tokped_text.xlsx\", index_col=0)\n",
        "\n",
        "data.head()"
      ]
    },
    {
      "cell_type": "markdown",
      "id": "furnished-fitting",
      "metadata": {
        "id": "furnished-fitting",
        "papermill": {
          "duration": 0.04108,
          "end_time": "2021-06-25T04:23:22.515366",
          "exception": false,
          "start_time": "2021-06-25T04:23:22.474286",
          "status": "completed"
        },
        "tags": []
      },
      "source": [
        "**Labeling**"
      ]
    },
    {
      "cell_type": "markdown",
      "id": "pleased-interpretation",
      "metadata": {
        "papermill": {
          "duration": 0.042487,
          "end_time": "2021-06-25T04:23:22.600744",
          "exception": false,
          "start_time": "2021-06-25T04:23:22.558257",
          "status": "completed"
        },
        "tags": [],
        "id": "pleased-interpretation"
      },
      "source": [
        "Diberi label positif dan negatif dengan angka 1 untuk positif dan angka 0 untuk negatif.\n",
        "(rating 4 dan 5 = sentimen positif dan\n",
        "rating 3, 2, dan 1 = sentimen negatif)"
      ]
    },
    {
      "cell_type": "code",
      "execution_count": 4,
      "id": "distant-monitor",
      "metadata": {
        "execution": {
          "iopub.execute_input": "2021-06-25T04:23:22.688932Z",
          "iopub.status.busy": "2021-06-25T04:23:22.688343Z",
          "iopub.status.idle": "2021-06-25T04:23:22.734727Z",
          "shell.execute_reply": "2021-06-25T04:23:22.735270Z",
          "shell.execute_reply.started": "2021-06-25T03:59:02.479727Z"
        },
        "id": "distant-monitor",
        "outputId": "9b30cdfa-d3ed-4ce5-a56a-2efc5b4044d8",
        "papermill": {
          "duration": 0.092208,
          "end_time": "2021-06-25T04:23:22.735430",
          "exception": false,
          "start_time": "2021-06-25T04:23:22.643222",
          "status": "completed"
        },
        "tags": [],
        "colab": {
          "base_uri": "https://localhost:8080/",
          "height": 814
        }
      },
      "outputs": [
        {
          "output_type": "execute_result",
          "data": {
            "text/plain": [
              "                                           Nama_Produk       Akun  \\\n",
              "1    Masker KF94 4 Ply Isi 10 Pcs Masker Medis Kese...  Stephanus   \n",
              "2    Masker KF94 4 Ply Isi 10 Pcs Masker Medis Kese...       Yati   \n",
              "3    Masker KF94 4 Ply Isi 10 Pcs Masker Medis Kese...      Husin   \n",
              "4    Masker KF94 4 Ply Isi 10 Pcs Masker Medis Kese...      Febby   \n",
              "5    Masker KF94 4 Ply Isi 10 Pcs Masker Medis Kese...     Rahmat   \n",
              "..                                                 ...        ...   \n",
              "296              Buy 1 Get 1 - Masker Primero - Sachet      a***a   \n",
              "297              Buy 1 Get 1 - Masker Primero - Sachet      Teguh   \n",
              "298              Buy 1 Get 1 - Masker Primero - Sachet      F***a   \n",
              "299              Buy 1 Get 1 - Masker Primero - Sachet      N***a   \n",
              "300              Buy 1 Get 1 - Masker Primero - Sachet      G***g   \n",
              "\n",
              "                                                Ulasan  rate  \\\n",
              "1    keduakali beli tapi sayang yang kedua lambat d...     3   \n",
              "2                               bagus pengiriman cepat     5   \n",
              "3                                barang sesuai pesanan     4   \n",
              "4                               agak panas pas dipakai     5   \n",
              "5    barang sesuai permintaan dan bagus namun komun...     3   \n",
              "..                                                 ...   ...   \n",
              "296  barang yg dikirim tdk sesuai deskripsi tidak t...     1   \n",
              "297  kotaknya penyok disana sini mngkn dr pihak exp...     5   \n",
              "298  barang sesuai dan kualitas baik cuma kardusnya...     5   \n",
              "299  dapet harga promo jadi murah pengiriman agak l...     5   \n",
              "300  agak lama emang diproses sampe dikirim dan nya...     5   \n",
              "\n",
              "                                       Ulasan_tokenize  \\\n",
              "1    ['keduakali', 'beli', 'tapi', 'sayang', 'yang'...   \n",
              "2                     ['bagus', 'pengiriman', 'cepat']   \n",
              "3                      ['barang', 'sesuai', 'pesanan']   \n",
              "4                  ['agak', 'panas', 'pas', 'dipakai']   \n",
              "5    ['barang', 'sesuai', 'permintaan', 'dan', 'bag...   \n",
              "..                                                 ...   \n",
              "296  ['barang', 'yg', 'dikirim', 'tdk', 'sesuai', '...   \n",
              "297  ['kotaknya', 'penyok', 'disana', 'sini', 'mngk...   \n",
              "298  ['barang', 'sesuai', 'dan', 'kualitas', 'baik'...   \n",
              "299  ['dapet', 'harga', 'promo', 'jadi', 'murah', '...   \n",
              "300  ['agak', 'lama', 'emang', 'diproses', 'sampe',...   \n",
              "\n",
              "                                     Ulasan_normalized  \\\n",
              "1    ['kedua kali', 'beli', 'tapi', 'sayang', 'yang...   \n",
              "2                     ['bagus', 'pengiriman', 'cepat']   \n",
              "3                      ['barang', 'sesuai', 'pesanan']   \n",
              "4              ['sedikit', 'panas', 'saat', 'dipakai']   \n",
              "5    ['barang', 'sesuai', 'permintaan', 'dan', 'bag...   \n",
              "..                                                 ...   \n",
              "296  ['barang', 'yang', 'dikirim', 'tidak', 'sesuai...   \n",
              "297  ['kotaknya', 'penyok', 'disana', 'sini', 'mngk...   \n",
              "298  ['barang', 'sesuai', 'dan', 'kualitas', 'baik'...   \n",
              "299  ['dapat', 'harga', 'promo', 'jadi', 'murah', '...   \n",
              "300  ['sedikit', 'lama', 'memang', 'diproses', 'sam...   \n",
              "\n",
              "                                   Ulasan_stop_removed  \\\n",
              "1    ['kedua kali', 'beli', 'sayang', 'lambat', 're...   \n",
              "2                     ['bagus', 'pengiriman', 'cepat']   \n",
              "3                      ['barang', 'sesuai', 'pesanan']   \n",
              "4                                 ['panas', 'dipakai']   \n",
              "5    ['barang', 'sesuai', 'permintaan', 'bagus', 'k...   \n",
              "..                                                 ...   \n",
              "296  ['barang', 'dikirim', 'sesuai', 'deskripsi', '...   \n",
              "297  ['kotaknya', 'penyok', 'disana', 'mngkn', 'exp...   \n",
              "298  ['barang', 'sesuai', 'kualitas', 'kardusnya', ...   \n",
              "299  ['harga', 'promo', 'murah', 'pengiriman', 'pro...   \n",
              "300  ['diproses', 'dikirim', 'sabar', 'ya', 'temant...   \n",
              "\n",
              "                                        Ulasan_Stemmed  \\\n",
              "1    ['dua kali', 'beli', 'sayang', 'lambat', 'resp...   \n",
              "2                          ['bagus', 'kirim', 'cepat']   \n",
              "3                        ['barang', 'sesuai', 'pesan']   \n",
              "4                                   ['panas', 'pakai']   \n",
              "5    ['barang', 'sesuai', 'minta', 'bagus', 'komuni...   \n",
              "..                                                 ...   \n",
              "296  ['barang', 'kirim', 'sesuai', 'deskripsi', 'te...   \n",
              "297   ['kotak', 'penyok', 'sana', 'mngkn', 'expediai']   \n",
              "298  ['barang', 'sesuai', 'kualitas', 'kardus', 'pe...   \n",
              "299      ['harga', 'promo', 'murah', 'kirim', 'promo']   \n",
              "300  ['proses', 'kirim', 'sabar', 'ya', 'temanteman...   \n",
              "\n",
              "                                          Ulasan_clean  label  \n",
              "1    dua kali beli sayang lambat respon order pagi ...      0  \n",
              "2                                    bagus kirim cepat      1  \n",
              "3                                  barang sesuai pesan      1  \n",
              "4                                          panas pakai      1  \n",
              "5    barang sesuai minta bagus komunikasi jual beli...      0  \n",
              "..                                                 ...    ...  \n",
              "296  barang kirim sesuai deskripsi tera ijin kemenk...      0  \n",
              "297                   kotak penyok sana mngkn expediai      1  \n",
              "298  barang sesuai kualitas kardus penyok next time...      1  \n",
              "299                      harga promo murah kirim promo      1  \n",
              "300  proses kirim sabar ya temanteman beli paket cu...      1  \n",
              "\n",
              "[300 rows x 10 columns]"
            ],
            "text/html": [
              "\n",
              "  <div id=\"df-80a3bd92-0ef9-4e49-aa1b-94a6664e3c3c\">\n",
              "    <div class=\"colab-df-container\">\n",
              "      <div>\n",
              "<style scoped>\n",
              "    .dataframe tbody tr th:only-of-type {\n",
              "        vertical-align: middle;\n",
              "    }\n",
              "\n",
              "    .dataframe tbody tr th {\n",
              "        vertical-align: top;\n",
              "    }\n",
              "\n",
              "    .dataframe thead th {\n",
              "        text-align: right;\n",
              "    }\n",
              "</style>\n",
              "<table border=\"1\" class=\"dataframe\">\n",
              "  <thead>\n",
              "    <tr style=\"text-align: right;\">\n",
              "      <th></th>\n",
              "      <th>Nama_Produk</th>\n",
              "      <th>Akun</th>\n",
              "      <th>Ulasan</th>\n",
              "      <th>rate</th>\n",
              "      <th>Ulasan_tokenize</th>\n",
              "      <th>Ulasan_normalized</th>\n",
              "      <th>Ulasan_stop_removed</th>\n",
              "      <th>Ulasan_Stemmed</th>\n",
              "      <th>Ulasan_clean</th>\n",
              "      <th>label</th>\n",
              "    </tr>\n",
              "  </thead>\n",
              "  <tbody>\n",
              "    <tr>\n",
              "      <th>1</th>\n",
              "      <td>Masker KF94 4 Ply Isi 10 Pcs Masker Medis Kese...</td>\n",
              "      <td>Stephanus</td>\n",
              "      <td>keduakali beli tapi sayang yang kedua lambat d...</td>\n",
              "      <td>3</td>\n",
              "      <td>['keduakali', 'beli', 'tapi', 'sayang', 'yang'...</td>\n",
              "      <td>['kedua kali', 'beli', 'tapi', 'sayang', 'yang...</td>\n",
              "      <td>['kedua kali', 'beli', 'sayang', 'lambat', 're...</td>\n",
              "      <td>['dua kali', 'beli', 'sayang', 'lambat', 'resp...</td>\n",
              "      <td>dua kali beli sayang lambat respon order pagi ...</td>\n",
              "      <td>0</td>\n",
              "    </tr>\n",
              "    <tr>\n",
              "      <th>2</th>\n",
              "      <td>Masker KF94 4 Ply Isi 10 Pcs Masker Medis Kese...</td>\n",
              "      <td>Yati</td>\n",
              "      <td>bagus pengiriman cepat</td>\n",
              "      <td>5</td>\n",
              "      <td>['bagus', 'pengiriman', 'cepat']</td>\n",
              "      <td>['bagus', 'pengiriman', 'cepat']</td>\n",
              "      <td>['bagus', 'pengiriman', 'cepat']</td>\n",
              "      <td>['bagus', 'kirim', 'cepat']</td>\n",
              "      <td>bagus kirim cepat</td>\n",
              "      <td>1</td>\n",
              "    </tr>\n",
              "    <tr>\n",
              "      <th>3</th>\n",
              "      <td>Masker KF94 4 Ply Isi 10 Pcs Masker Medis Kese...</td>\n",
              "      <td>Husin</td>\n",
              "      <td>barang sesuai pesanan</td>\n",
              "      <td>4</td>\n",
              "      <td>['barang', 'sesuai', 'pesanan']</td>\n",
              "      <td>['barang', 'sesuai', 'pesanan']</td>\n",
              "      <td>['barang', 'sesuai', 'pesanan']</td>\n",
              "      <td>['barang', 'sesuai', 'pesan']</td>\n",
              "      <td>barang sesuai pesan</td>\n",
              "      <td>1</td>\n",
              "    </tr>\n",
              "    <tr>\n",
              "      <th>4</th>\n",
              "      <td>Masker KF94 4 Ply Isi 10 Pcs Masker Medis Kese...</td>\n",
              "      <td>Febby</td>\n",
              "      <td>agak panas pas dipakai</td>\n",
              "      <td>5</td>\n",
              "      <td>['agak', 'panas', 'pas', 'dipakai']</td>\n",
              "      <td>['sedikit', 'panas', 'saat', 'dipakai']</td>\n",
              "      <td>['panas', 'dipakai']</td>\n",
              "      <td>['panas', 'pakai']</td>\n",
              "      <td>panas pakai</td>\n",
              "      <td>1</td>\n",
              "    </tr>\n",
              "    <tr>\n",
              "      <th>5</th>\n",
              "      <td>Masker KF94 4 Ply Isi 10 Pcs Masker Medis Kese...</td>\n",
              "      <td>Rahmat</td>\n",
              "      <td>barang sesuai permintaan dan bagus namun komun...</td>\n",
              "      <td>3</td>\n",
              "      <td>['barang', 'sesuai', 'permintaan', 'dan', 'bag...</td>\n",
              "      <td>['barang', 'sesuai', 'permintaan', 'dan', 'bag...</td>\n",
              "      <td>['barang', 'sesuai', 'permintaan', 'bagus', 'k...</td>\n",
              "      <td>['barang', 'sesuai', 'minta', 'bagus', 'komuni...</td>\n",
              "      <td>barang sesuai minta bagus komunikasi jual beli...</td>\n",
              "      <td>0</td>\n",
              "    </tr>\n",
              "    <tr>\n",
              "      <th>...</th>\n",
              "      <td>...</td>\n",
              "      <td>...</td>\n",
              "      <td>...</td>\n",
              "      <td>...</td>\n",
              "      <td>...</td>\n",
              "      <td>...</td>\n",
              "      <td>...</td>\n",
              "      <td>...</td>\n",
              "      <td>...</td>\n",
              "      <td>...</td>\n",
              "    </tr>\n",
              "    <tr>\n",
              "      <th>296</th>\n",
              "      <td>Buy 1 Get 1 - Masker Primero - Sachet</td>\n",
              "      <td>a***a</td>\n",
              "      <td>barang yg dikirim tdk sesuai deskripsi tidak t...</td>\n",
              "      <td>1</td>\n",
              "      <td>['barang', 'yg', 'dikirim', 'tdk', 'sesuai', '...</td>\n",
              "      <td>['barang', 'yang', 'dikirim', 'tidak', 'sesuai...</td>\n",
              "      <td>['barang', 'dikirim', 'sesuai', 'deskripsi', '...</td>\n",
              "      <td>['barang', 'kirim', 'sesuai', 'deskripsi', 'te...</td>\n",
              "      <td>barang kirim sesuai deskripsi tera ijin kemenk...</td>\n",
              "      <td>0</td>\n",
              "    </tr>\n",
              "    <tr>\n",
              "      <th>297</th>\n",
              "      <td>Buy 1 Get 1 - Masker Primero - Sachet</td>\n",
              "      <td>Teguh</td>\n",
              "      <td>kotaknya penyok disana sini mngkn dr pihak exp...</td>\n",
              "      <td>5</td>\n",
              "      <td>['kotaknya', 'penyok', 'disana', 'sini', 'mngk...</td>\n",
              "      <td>['kotaknya', 'penyok', 'disana', 'sini', 'mngk...</td>\n",
              "      <td>['kotaknya', 'penyok', 'disana', 'mngkn', 'exp...</td>\n",
              "      <td>['kotak', 'penyok', 'sana', 'mngkn', 'expediai']</td>\n",
              "      <td>kotak penyok sana mngkn expediai</td>\n",
              "      <td>1</td>\n",
              "    </tr>\n",
              "    <tr>\n",
              "      <th>298</th>\n",
              "      <td>Buy 1 Get 1 - Masker Primero - Sachet</td>\n",
              "      <td>F***a</td>\n",
              "      <td>barang sesuai dan kualitas baik cuma kardusnya...</td>\n",
              "      <td>5</td>\n",
              "      <td>['barang', 'sesuai', 'dan', 'kualitas', 'baik'...</td>\n",
              "      <td>['barang', 'sesuai', 'dan', 'kualitas', 'baik'...</td>\n",
              "      <td>['barang', 'sesuai', 'kualitas', 'kardusnya', ...</td>\n",
              "      <td>['barang', 'sesuai', 'kualitas', 'kardus', 'pe...</td>\n",
              "      <td>barang sesuai kualitas kardus penyok next time...</td>\n",
              "      <td>1</td>\n",
              "    </tr>\n",
              "    <tr>\n",
              "      <th>299</th>\n",
              "      <td>Buy 1 Get 1 - Masker Primero - Sachet</td>\n",
              "      <td>N***a</td>\n",
              "      <td>dapet harga promo jadi murah pengiriman agak l...</td>\n",
              "      <td>5</td>\n",
              "      <td>['dapet', 'harga', 'promo', 'jadi', 'murah', '...</td>\n",
              "      <td>['dapat', 'harga', 'promo', 'jadi', 'murah', '...</td>\n",
              "      <td>['harga', 'promo', 'murah', 'pengiriman', 'pro...</td>\n",
              "      <td>['harga', 'promo', 'murah', 'kirim', 'promo']</td>\n",
              "      <td>harga promo murah kirim promo</td>\n",
              "      <td>1</td>\n",
              "    </tr>\n",
              "    <tr>\n",
              "      <th>300</th>\n",
              "      <td>Buy 1 Get 1 - Masker Primero - Sachet</td>\n",
              "      <td>G***g</td>\n",
              "      <td>agak lama emang diproses sampe dikirim dan nya...</td>\n",
              "      <td>5</td>\n",
              "      <td>['agak', 'lama', 'emang', 'diproses', 'sampe',...</td>\n",
              "      <td>['sedikit', 'lama', 'memang', 'diproses', 'sam...</td>\n",
              "      <td>['diproses', 'dikirim', 'sabar', 'ya', 'temant...</td>\n",
              "      <td>['proses', 'kirim', 'sabar', 'ya', 'temanteman...</td>\n",
              "      <td>proses kirim sabar ya temanteman beli paket cu...</td>\n",
              "      <td>1</td>\n",
              "    </tr>\n",
              "  </tbody>\n",
              "</table>\n",
              "<p>300 rows × 10 columns</p>\n",
              "</div>\n",
              "      <button class=\"colab-df-convert\" onclick=\"convertToInteractive('df-80a3bd92-0ef9-4e49-aa1b-94a6664e3c3c')\"\n",
              "              title=\"Convert this dataframe to an interactive table.\"\n",
              "              style=\"display:none;\">\n",
              "        \n",
              "  <svg xmlns=\"http://www.w3.org/2000/svg\" height=\"24px\"viewBox=\"0 0 24 24\"\n",
              "       width=\"24px\">\n",
              "    <path d=\"M0 0h24v24H0V0z\" fill=\"none\"/>\n",
              "    <path d=\"M18.56 5.44l.94 2.06.94-2.06 2.06-.94-2.06-.94-.94-2.06-.94 2.06-2.06.94zm-11 1L8.5 8.5l.94-2.06 2.06-.94-2.06-.94L8.5 2.5l-.94 2.06-2.06.94zm10 10l.94 2.06.94-2.06 2.06-.94-2.06-.94-.94-2.06-.94 2.06-2.06.94z\"/><path d=\"M17.41 7.96l-1.37-1.37c-.4-.4-.92-.59-1.43-.59-.52 0-1.04.2-1.43.59L10.3 9.45l-7.72 7.72c-.78.78-.78 2.05 0 2.83L4 21.41c.39.39.9.59 1.41.59.51 0 1.02-.2 1.41-.59l7.78-7.78 2.81-2.81c.8-.78.8-2.07 0-2.86zM5.41 20L4 18.59l7.72-7.72 1.47 1.35L5.41 20z\"/>\n",
              "  </svg>\n",
              "      </button>\n",
              "      \n",
              "  <style>\n",
              "    .colab-df-container {\n",
              "      display:flex;\n",
              "      flex-wrap:wrap;\n",
              "      gap: 12px;\n",
              "    }\n",
              "\n",
              "    .colab-df-convert {\n",
              "      background-color: #E8F0FE;\n",
              "      border: none;\n",
              "      border-radius: 50%;\n",
              "      cursor: pointer;\n",
              "      display: none;\n",
              "      fill: #1967D2;\n",
              "      height: 32px;\n",
              "      padding: 0 0 0 0;\n",
              "      width: 32px;\n",
              "    }\n",
              "\n",
              "    .colab-df-convert:hover {\n",
              "      background-color: #E2EBFA;\n",
              "      box-shadow: 0px 1px 2px rgba(60, 64, 67, 0.3), 0px 1px 3px 1px rgba(60, 64, 67, 0.15);\n",
              "      fill: #174EA6;\n",
              "    }\n",
              "\n",
              "    [theme=dark] .colab-df-convert {\n",
              "      background-color: #3B4455;\n",
              "      fill: #D2E3FC;\n",
              "    }\n",
              "\n",
              "    [theme=dark] .colab-df-convert:hover {\n",
              "      background-color: #434B5C;\n",
              "      box-shadow: 0px 1px 3px 1px rgba(0, 0, 0, 0.15);\n",
              "      filter: drop-shadow(0px 1px 2px rgba(0, 0, 0, 0.3));\n",
              "      fill: #FFFFFF;\n",
              "    }\n",
              "  </style>\n",
              "\n",
              "      <script>\n",
              "        const buttonEl =\n",
              "          document.querySelector('#df-80a3bd92-0ef9-4e49-aa1b-94a6664e3c3c button.colab-df-convert');\n",
              "        buttonEl.style.display =\n",
              "          google.colab.kernel.accessAllowed ? 'block' : 'none';\n",
              "\n",
              "        async function convertToInteractive(key) {\n",
              "          const element = document.querySelector('#df-80a3bd92-0ef9-4e49-aa1b-94a6664e3c3c');\n",
              "          const dataTable =\n",
              "            await google.colab.kernel.invokeFunction('convertToInteractive',\n",
              "                                                     [key], {});\n",
              "          if (!dataTable) return;\n",
              "\n",
              "          const docLinkHtml = 'Like what you see? Visit the ' +\n",
              "            '<a target=\"_blank\" href=https://colab.research.google.com/notebooks/data_table.ipynb>data table notebook</a>'\n",
              "            + ' to learn more about interactive tables.';\n",
              "          element.innerHTML = '';\n",
              "          dataTable['output_type'] = 'display_data';\n",
              "          await google.colab.output.renderOutput(dataTable, element);\n",
              "          const docLink = document.createElement('div');\n",
              "          docLink.innerHTML = docLinkHtml;\n",
              "          element.appendChild(docLink);\n",
              "        }\n",
              "      </script>\n",
              "    </div>\n",
              "  </div>\n",
              "  "
            ]
          },
          "metadata": {},
          "execution_count": 4
        }
      ],
      "source": [
        "label = []\n",
        "for index, row in data.iterrows():\n",
        "    if row[\"rate\"] == 5 or row[\"rate\"] == 4:\n",
        "        label.append(1)\n",
        "    else:\n",
        "        label.append(0)\n",
        "\n",
        "data[\"label\"] = label\n",
        "\n",
        "data"
      ]
    },
    {
      "cell_type": "code",
      "execution_count": 5,
      "id": "charitable-background",
      "metadata": {
        "execution": {
          "iopub.execute_input": "2021-06-25T04:23:22.833362Z",
          "iopub.status.busy": "2021-06-25T04:23:22.832551Z",
          "iopub.status.idle": "2021-06-25T04:23:22.835866Z",
          "shell.execute_reply": "2021-06-25T04:23:22.836292Z",
          "shell.execute_reply.started": "2021-06-25T03:59:06.717092Z"
        },
        "id": "charitable-background",
        "outputId": "92b61bfe-8a48-45fe-c99a-f46ea79dad85",
        "papermill": {
          "duration": 0.056363,
          "end_time": "2021-06-25T04:23:22.836437",
          "exception": false,
          "start_time": "2021-06-25T04:23:22.780074",
          "status": "completed"
        },
        "tags": [],
        "colab": {
          "base_uri": "https://localhost:8080/"
        }
      },
      "outputs": [
        {
          "output_type": "execute_result",
          "data": {
            "text/plain": [
              "1    270\n",
              "0     30\n",
              "Name: label, dtype: int64"
            ]
          },
          "metadata": {},
          "execution_count": 5
        }
      ],
      "source": [
        "data[\"label\"].value_counts()"
      ]
    },
    {
      "cell_type": "markdown",
      "id": "smooth-patrick",
      "metadata": {
        "id": "smooth-patrick",
        "papermill": {
          "duration": 0.043684,
          "end_time": "2021-06-25T04:23:22.924777",
          "exception": false,
          "start_time": "2021-06-25T04:23:22.881093",
          "status": "completed"
        },
        "tags": []
      },
      "source": [
        "**Menghitung Kata Dengan TF-IDF**"
      ]
    },
    {
      "cell_type": "code",
      "execution_count": 6,
      "id": "foster-concentration",
      "metadata": {
        "execution": {
          "iopub.execute_input": "2021-06-25T04:23:23.016530Z",
          "iopub.status.busy": "2021-06-25T04:23:23.015930Z",
          "iopub.status.idle": "2021-06-25T04:23:23.839468Z",
          "shell.execute_reply": "2021-06-25T04:23:23.838884Z",
          "shell.execute_reply.started": "2021-06-25T03:59:08.67628Z"
        },
        "id": "foster-concentration",
        "papermill": {
          "duration": 0.871024,
          "end_time": "2021-06-25T04:23:23.839595",
          "exception": false,
          "start_time": "2021-06-25T04:23:22.968571",
          "status": "completed"
        },
        "tags": []
      },
      "outputs": [],
      "source": [
        "from sklearn.feature_extraction.text import CountVectorizer, TfidfTransformer"
      ]
    },
    {
      "cell_type": "code",
      "execution_count": 7,
      "id": "initial-reality",
      "metadata": {
        "execution": {
          "iopub.execute_input": "2021-06-25T04:23:23.932308Z",
          "iopub.status.busy": "2021-06-25T04:23:23.931745Z",
          "iopub.status.idle": "2021-06-25T04:23:23.933448Z",
          "shell.execute_reply": "2021-06-25T04:23:23.933902Z",
          "shell.execute_reply.started": "2021-06-25T03:59:10.2753Z"
        },
        "id": "initial-reality",
        "papermill": {
          "duration": 0.050102,
          "end_time": "2021-06-25T04:23:23.934053",
          "exception": false,
          "start_time": "2021-06-25T04:23:23.883951",
          "status": "completed"
        },
        "tags": []
      },
      "outputs": [],
      "source": [
        "Ulasan = data['Ulasan_clean']"
      ]
    },
    {
      "cell_type": "code",
      "execution_count": 8,
      "id": "valued-summit",
      "metadata": {
        "execution": {
          "iopub.execute_input": "2021-06-25T04:23:24.023218Z",
          "iopub.status.busy": "2021-06-25T04:23:24.022612Z",
          "iopub.status.idle": "2021-06-25T04:23:24.027403Z",
          "shell.execute_reply": "2021-06-25T04:23:24.027926Z",
          "shell.execute_reply.started": "2021-06-25T03:59:11.642563Z"
        },
        "id": "valued-summit",
        "outputId": "18626b8f-37a1-48e2-95ec-c132737218b8",
        "papermill": {
          "duration": 0.050766,
          "end_time": "2021-06-25T04:23:24.028085",
          "exception": false,
          "start_time": "2021-06-25T04:23:23.977319",
          "status": "completed"
        },
        "tags": [],
        "colab": {
          "base_uri": "https://localhost:8080/"
        }
      },
      "outputs": [
        {
          "output_type": "execute_result",
          "data": {
            "text/plain": [
              "11"
            ]
          },
          "metadata": {},
          "execution_count": 8
        }
      ],
      "source": [
        "Ulasan.isnull().sum()"
      ]
    },
    {
      "cell_type": "code",
      "execution_count": 9,
      "id": "least-medicine",
      "metadata": {
        "execution": {
          "iopub.execute_input": "2021-06-25T04:23:24.121551Z",
          "iopub.status.busy": "2021-06-25T04:23:24.120941Z",
          "iopub.status.idle": "2021-06-25T04:23:24.124551Z",
          "shell.execute_reply": "2021-06-25T04:23:24.125042Z",
          "shell.execute_reply.started": "2021-06-25T03:59:13.262968Z"
        },
        "id": "least-medicine",
        "papermill": {
          "duration": 0.053401,
          "end_time": "2021-06-25T04:23:24.125198",
          "exception": false,
          "start_time": "2021-06-25T04:23:24.071797",
          "status": "completed"
        },
        "tags": []
      },
      "outputs": [],
      "source": [
        "Ulasan = Ulasan.fillna('tidak ada komentar')"
      ]
    },
    {
      "cell_type": "code",
      "execution_count": 10,
      "id": "magnetic-cosmetic",
      "metadata": {
        "execution": {
          "iopub.execute_input": "2021-06-25T04:23:24.217202Z",
          "iopub.status.busy": "2021-06-25T04:23:24.216630Z",
          "iopub.status.idle": "2021-06-25T04:23:24.228903Z",
          "shell.execute_reply": "2021-06-25T04:23:24.229309Z",
          "shell.execute_reply.started": "2021-06-25T03:59:15.453267Z"
        },
        "id": "magnetic-cosmetic",
        "outputId": "5821315c-24f0-4ca5-9fb4-1613b0b866bd",
        "papermill": {
          "duration": 0.05951,
          "end_time": "2021-06-25T04:23:24.229455",
          "exception": false,
          "start_time": "2021-06-25T04:23:24.169945",
          "status": "completed"
        },
        "tags": [],
        "colab": {
          "base_uri": "https://localhost:8080/"
        }
      },
      "outputs": [
        {
          "output_type": "stream",
          "name": "stdout",
          "text": [
            "468\n"
          ]
        }
      ],
      "source": [
        "#untuk menghitung jumlah kata yang telah di steming\n",
        "cv = CountVectorizer()\n",
        "term_fit = cv.fit(Ulasan)\n",
        "\n",
        "print (len(term_fit.vocabulary_))"
      ]
    },
    {
      "cell_type": "code",
      "execution_count": 11,
      "id": "viral-married",
      "metadata": {
        "execution": {
          "iopub.execute_input": "2021-06-25T04:23:24.319304Z",
          "iopub.status.busy": "2021-06-25T04:23:24.318803Z",
          "iopub.status.idle": "2021-06-25T04:23:24.337771Z",
          "shell.execute_reply": "2021-06-25T04:23:24.338203Z",
          "shell.execute_reply.started": "2021-06-25T03:59:17.729987Z"
        },
        "id": "viral-married",
        "outputId": "e2f9a6ad-ed51-4c56-d5d0-91c2b02b74bc",
        "papermill": {
          "duration": 0.065165,
          "end_time": "2021-06-25T04:23:24.338347",
          "exception": false,
          "start_time": "2021-06-25T04:23:24.273182",
          "status": "completed"
        },
        "tags": [],
        "colab": {
          "base_uri": "https://localhost:8080/"
        }
      },
      "outputs": [
        {
          "output_type": "execute_result",
          "data": {
            "text/plain": [
              "{'abal': 0,\n",
              " 'ada': 1,\n",
              " 'admin': 2,\n",
              " 'affordable': 3,\n",
              " 'aktif': 4,\n",
              " 'akurat': 5,\n",
              " 'alhamdulillah': 6,\n",
              " 'alias': 7,\n",
              " 'aman': 8,\n",
              " 'amanseller': 9,\n",
              " 'amburadul': 10,\n",
              " 'an': 11,\n",
              " 'anak': 12,\n",
              " 'anakanak': 13,\n",
              " 'and': 14,\n",
              " 'andal': 15,\n",
              " 'anjas': 16,\n",
              " 'apa': 17,\n",
              " 'asa': 18,\n",
              " 'asli': 19,\n",
              " 'ati': 20,\n",
              " 'auto': 21,\n",
              " 'awet': 22,\n",
              " 'bada': 23,\n",
              " 'bagus': 24,\n",
              " 'baguz': 25,\n",
              " 'bahan': 26,\n",
              " 'baik': 27,\n",
              " 'baju': 28,\n",
              " 'banding': 29,\n",
              " 'bandung': 30,\n",
              " 'banget': 31,\n",
              " 'bangetdapet': 32,\n",
              " 'banyak': 33,\n",
              " 'barang': 34,\n",
              " 'bareng': 35,\n",
              " 'barokah': 36,\n",
              " 'bayang': 37,\n",
              " 'beda': 38,\n",
              " 'belanja': 39,\n",
              " 'beli': 40,\n",
              " 'berat': 41,\n",
              " 'besar': 42,\n",
              " 'besi': 43,\n",
              " 'besok': 44,\n",
              " 'better': 45,\n",
              " 'bgtthank': 46,\n",
              " 'biar': 47,\n",
              " 'bini': 48,\n",
              " 'bintang': 49,\n",
              " 'bolong': 50,\n",
              " 'bonus': 51,\n",
              " 'bos': 52,\n",
              " 'bosssku': 53,\n",
              " 'box': 54,\n",
              " 'boxnya': 55,\n",
              " 'brgnya': 56,\n",
              " 'brng': 57,\n",
              " 'btw': 58,\n",
              " 'bubble': 59,\n",
              " 'bubblewrap': 60,\n",
              " 'buka': 61,\n",
              " 'bunafit': 62,\n",
              " 'bunda': 63,\n",
              " 'bungkus': 64,\n",
              " 'cancel': 65,\n",
              " 'cashback': 66,\n",
              " 'cepat': 67,\n",
              " 'cerita': 68,\n",
              " 'chatdan': 69,\n",
              " 'china': 70,\n",
              " 'coba': 71,\n",
              " 'cocok': 72,\n",
              " 'complain': 73,\n",
              " 'covid': 74,\n",
              " 'cucu': 75,\n",
              " 'cuman': 76,\n",
              " 'customer': 77,\n",
              " 'cute': 78,\n",
              " 'daily': 79,\n",
              " 'dalem': 80,\n",
              " 'datang': 81,\n",
              " 'date': 82,\n",
              " 'debu': 83,\n",
              " 'deh': 84,\n",
              " 'delivery': 85,\n",
              " 'deskripsi': 86,\n",
              " 'deskripsimakasih': 87,\n",
              " 'dikirimbelanja': 88,\n",
              " 'dikotakin': 89,\n",
              " 'dikupingmantap': 90,\n",
              " 'dipacking': 91,\n",
              " 'dipakenya': 92,\n",
              " 'diskon': 93,\n",
              " 'ditanyain': 94,\n",
              " 'ditawarin': 95,\n",
              " 'dkrm': 96,\n",
              " 'dngn': 97,\n",
              " 'doang': 98,\n",
              " 'dterima': 99,\n",
              " 'dua': 100,\n",
              " 'dus': 101,\n",
              " 'dusnyarecommemded': 102,\n",
              " 'ekspektasi': 103,\n",
              " 'ekspetasi': 104,\n",
              " 'emas': 105,\n",
              " 'enak': 106,\n",
              " 'enggak': 107,\n",
              " 'estimasi': 108,\n",
              " 'everything': 109,\n",
              " 'evorecomended': 110,\n",
              " 'exp': 111,\n",
              " 'expediai': 112,\n",
              " 'fast': 113,\n",
              " 'faste': 114,\n",
              " 'favorite': 115,\n",
              " 'fisik': 116,\n",
              " 'for': 117,\n",
              " 'foto': 118,\n",
              " 'free': 119,\n",
              " 'gambar': 120,\n",
              " 'gampang': 121,\n",
              " 'gan': 122,\n",
              " 'gann': 123,\n",
              " 'good': 124,\n",
              " 'gosend': 125,\n",
              " 'gratis': 126,\n",
              " 'halus': 127,\n",
              " 'harga': 128,\n",
              " 'hargany': 129,\n",
              " 'hari': 130,\n",
              " 'headloop': 131,\n",
              " 'higienis': 132,\n",
              " 'hijab': 133,\n",
              " 'hijau': 134,\n",
              " 'hitam': 135,\n",
              " 'hrga': 136,\n",
              " 'ijin': 137,\n",
              " 'ikin': 138,\n",
              " 'import': 139,\n",
              " 'indmret': 140,\n",
              " 'iram': 141,\n",
              " 'is': 142,\n",
              " 'isi': 143,\n",
              " 'isolasi': 144,\n",
              " 'istri': 145,\n",
              " 'isya': 146,\n",
              " 'its': 147,\n",
              " 'itu': 148,\n",
              " 'jaga': 149,\n",
              " 'jahit': 150,\n",
              " 'jam': 151,\n",
              " 'jamin': 152,\n",
              " 'jangkau': 153,\n",
              " 'janji': 154,\n",
              " 'jelek': 155,\n",
              " 'jemput': 156,\n",
              " 'jenis': 157,\n",
              " 'jiwa': 158,\n",
              " 'jm': 159,\n",
              " 'job': 160,\n",
              " 'jossss': 161,\n",
              " 'jual': 162,\n",
              " 'kadang': 163,\n",
              " 'kaget': 164,\n",
              " 'kakak': 165,\n",
              " 'kalem': 166,\n",
              " 'kali': 167,\n",
              " 'kaliny': 168,\n",
              " 'kaliterima': 169,\n",
              " 'kalo': 170,\n",
              " 'kardus': 171,\n",
              " 'karet': 172,\n",
              " 'kasih': 173,\n",
              " 'kayak': 174,\n",
              " 'kecewa': 175,\n",
              " 'kecil': 176,\n",
              " 'kedau': 177,\n",
              " 'kejar': 178,\n",
              " 'keluarga': 179,\n",
              " 'kemarin': 180,\n",
              " 'kemas': 181,\n",
              " 'kemenkes': 182,\n",
              " 'keramean': 183,\n",
              " 'keren': 184,\n",
              " 'kes': 185,\n",
              " 'kesana': 186,\n",
              " 'ketat': 187,\n",
              " 'kf': 188,\n",
              " 'khusus': 189,\n",
              " 'kilat': 190,\n",
              " 'kirim': 191,\n",
              " 'kirimminta': 192,\n",
              " 'komentar': 193,\n",
              " 'komplit': 194,\n",
              " 'komunikasi': 195,\n",
              " 'kondisi': 196,\n",
              " 'konsumen': 197,\n",
              " 'kotak': 198,\n",
              " 'kotor': 199,\n",
              " 'kualitas': 200,\n",
              " 'kuat': 201,\n",
              " 'kuping': 202,\n",
              " 'kurir': 203,\n",
              " 'kurrir': 204,\n",
              " 'kwalitas': 205,\n",
              " 'lama': 206,\n",
              " 'lambat': 207,\n",
              " 'landa': 208,\n",
              " 'langgan': 209,\n",
              " 'langsung': 210,\n",
              " 'langusng': 211,\n",
              " 'lapak': 212,\n",
              " 'late': 213,\n",
              " 'layan': 214,\n",
              " 'lembut': 215,\n",
              " 'lengkap': 216,\n",
              " 'lindung': 217,\n",
              " 'lipat': 218,\n",
              " 'loh': 219,\n",
              " 'lumanyan': 220,\n",
              " 'lumayan': 221,\n",
              " 'mahal': 222,\n",
              " 'makasih': 223,\n",
              " 'makasihhhh': 224,\n",
              " 'maksimal': 225,\n",
              " 'malam': 226,\n",
              " 'manfaat': 227,\n",
              " 'manstap': 228,\n",
              " 'mantaaaaaapp': 229,\n",
              " 'mantab': 230,\n",
              " 'mantabspesan': 231,\n",
              " 'mantaf': 232,\n",
              " 'mantap': 233,\n",
              " 'mantaprekomendasi': 234,\n",
              " 'mantaps': 235,\n",
              " 'mantapssss': 236,\n",
              " 'mantul': 237,\n",
              " 'mantulll': 238,\n",
              " 'mari': 239,\n",
              " 'masak': 240,\n",
              " 'mask': 241,\n",
              " 'maskdijual': 242,\n",
              " 'masker': 243,\n",
              " 'masuk': 244,\n",
              " 'medis': 245,\n",
              " 'menurit': 246,\n",
              " 'merek': 247,\n",
              " 'merk': 248,\n",
              " 'merkembossed': 249,\n",
              " 'merosot': 250,\n",
              " 'mesan': 251,\n",
              " 'minggu': 252,\n",
              " 'minimarket': 253,\n",
              " 'minta': 254,\n",
              " 'mmakasih': 255,\n",
              " 'mmasker': 256,\n",
              " 'mngkn': 257,\n",
              " 'model': 258,\n",
              " 'moga': 259,\n",
              " 'mohon': 260,\n",
              " 'muas': 261,\n",
              " 'mudah': 262,\n",
              " 'muka': 263,\n",
              " 'murah': 264,\n",
              " 'murahansmoga': 265,\n",
              " 'mutu': 266,\n",
              " 'nampaknya': 267,\n",
              " 'napas': 268,\n",
              " 'nerawangnya': 269,\n",
              " 'nexcare': 270,\n",
              " 'next': 271,\n",
              " 'niattt': 272,\n",
              " 'nice': 273,\n",
              " 'no': 274,\n",
              " 'nonmedical': 275,\n",
              " 'normal': 276,\n",
              " 'note': 277,\n",
              " 'nya': 278,\n",
              " 'nyaman': 279,\n",
              " 'nyasampai': 280,\n",
              " 'nytrima': 281,\n",
              " 'official': 282,\n",
              " 'ok': 283,\n",
              " 'oke': 284,\n",
              " 'okeeee': 285,\n",
              " 'okeeehhh': 286,\n",
              " 'okpengiriman': 287,\n",
              " 'olshop': 288,\n",
              " 'on': 289,\n",
              " 'one': 290,\n",
              " 'onemed': 291,\n",
              " 'ongkir': 292,\n",
              " 'order': 293,\n",
              " 'original': 294,\n",
              " 'orisinal': 295,\n",
              " 'over': 296,\n",
              " 'overall': 297,\n",
              " 'overpersis': 298,\n",
              " 'packaging': 299,\n",
              " 'packagingnya': 300,\n",
              " 'packing': 301,\n",
              " 'packingan': 302,\n",
              " 'packingnya': 303,\n",
              " 'pagi': 304,\n",
              " 'pakai': 305,\n",
              " 'pakcagin': 306,\n",
              " 'paket': 307,\n",
              " 'panas': 308,\n",
              " 'pandemi': 309,\n",
              " 'parahini': 310,\n",
              " 'pcs': 311,\n",
              " 'peaanan': 312,\n",
              " 'pendek': 313,\n",
              " 'pengirimannyamantul': 314,\n",
              " 'pengirimn': 315,\n",
              " 'penyok': 316,\n",
              " 'percaya': 317,\n",
              " 'pesan': 318,\n",
              " 'pesawat': 319,\n",
              " 'pic': 320,\n",
              " 'pict': 321,\n",
              " 'pilih': 322,\n",
              " 'pink': 323,\n",
              " 'pis': 324,\n",
              " 'plastik': 325,\n",
              " 'ply': 326,\n",
              " 'pokok': 327,\n",
              " 'pouch': 328,\n",
              " 'premium': 329,\n",
              " 'price': 330,\n",
              " 'pro': 331,\n",
              " 'product': 332,\n",
              " 'produk': 333,\n",
              " 'promo': 334,\n",
              " 'promonya': 335,\n",
              " 'proses': 336,\n",
              " 'puaas': 337,\n",
              " 'puas': 338,\n",
              " 'puass': 339,\n",
              " 'puasssss': 340,\n",
              " 'puassssss': 341,\n",
              " 'putih': 342,\n",
              " 'putus': 343,\n",
              " 'puuaaassss': 344,\n",
              " 'quality': 345,\n",
              " 'quantitas': 346,\n",
              " 'ragu': 347,\n",
              " 'ramah': 348,\n",
              " 'range': 349,\n",
              " 'rapat': 350,\n",
              " 'rapi': 351,\n",
              " 'rapipesanan': 352,\n",
              " 're': 353,\n",
              " 'rekomendasi': 354,\n",
              " 'relatif': 355,\n",
              " 'reply': 356,\n",
              " 'respon': 357,\n",
              " 'respond': 358,\n",
              " 'responramahbarang': 359,\n",
              " 'response': 360,\n",
              " 'responsif': 361,\n",
              " 'ribu': 362,\n",
              " 'rising': 363,\n",
              " 'rugi': 364,\n",
              " 'rumah': 365,\n",
              " 'rusa': 366,\n",
              " 'sabar': 367,\n",
              " 'safety': 368,\n",
              " 'sajakrn': 369,\n",
              " 'sakit': 370,\n",
              " 'sameday': 371,\n",
              " 'sampai': 372,\n",
              " 'sana': 373,\n",
              " 'sayang': 374,\n",
              " 'sealed': 375,\n",
              " 'segel': 376,\n",
              " 'seharihari': 377,\n",
              " 'sehat': 378,\n",
              " 'sek': 379,\n",
              " 'sekian': 380,\n",
              " 'selamat': 381,\n",
              " 'selektif': 382,\n",
              " 'selisih': 383,\n",
              " 'seller': 384,\n",
              " 'semenjak': 385,\n",
              " 'senang': 386,\n",
              " 'sertifikasi': 387,\n",
              " 'service': 388,\n",
              " 'sesuai': 389,\n",
              " 'siang': 390,\n",
              " 'sih': 391,\n",
              " 'siiiip': 392,\n",
              " 'sip': 393,\n",
              " 'sippp': 394,\n",
              " 'sisi': 395,\n",
              " 'size': 396,\n",
              " 'skripsi': 397,\n",
              " 'slow': 398,\n",
              " 'sobek': 399,\n",
              " 'sore': 400,\n",
              " 'souvenir': 401,\n",
              " 'sritexgood': 402,\n",
              " 'star': 403,\n",
              " 'store': 404,\n",
              " 'subuh': 405,\n",
              " 'suka': 406,\n",
              " 'sukaaaaa': 407,\n",
              " 'sukses': 408,\n",
              " 'supeeeer': 409,\n",
              " 'surgical': 410,\n",
              " 'suruh': 411,\n",
              " 'tali': 412,\n",
              " 'tambah': 413,\n",
              " 'tanggal': 414,\n",
              " 'tani': 415,\n",
              " 'tarik': 416,\n",
              " 'tawar': 417,\n",
              " 'tebal': 418,\n",
              " 'telinga': 419,\n",
              " 'teman': 420,\n",
              " 'temanteman': 421,\n",
              " 'tempel': 422,\n",
              " 'tera': 423,\n",
              " 'terang': 424,\n",
              " 'terbang': 425,\n",
              " 'terima': 426,\n",
              " 'terimakasih': 427,\n",
              " 'thank': 428,\n",
              " 'thanks': 429,\n",
              " 'thankyou': 430,\n",
              " 'thx': 431,\n",
              " 'tidak': 432,\n",
              " 'time': 433,\n",
              " 'tingkat': 434,\n",
              " 'tipe': 435,\n",
              " 'tipis': 436,\n",
              " 'tipu': 437,\n",
              " 'tks': 438,\n",
              " 'toko': 439,\n",
              " 'tokopedia': 440,\n",
              " 'tooopp': 441,\n",
              " 'top': 442,\n",
              " 'toped': 443,\n",
              " 'topmarkotop': 444,\n",
              " 'tq': 445,\n",
              " 'tuju': 446,\n",
              " 'tunda': 447,\n",
              " 'turun': 448,\n",
              " 'type': 449,\n",
              " 'ukur': 450,\n",
              " 'ukurannyaselalu': 451,\n",
              " 'untung': 452,\n",
              " 'use': 453,\n",
              " 'utuh': 454,\n",
              " 'vacum': 455,\n",
              " 'very': 456,\n",
              " 'virus': 457,\n",
              " 'wabah': 458,\n",
              " 'wajah': 459,\n",
              " 'warna': 460,\n",
              " 'warp': 461,\n",
              " 'wes': 462,\n",
              " 'wrap': 463,\n",
              " 'ya': 464,\n",
              " 'yasoalnya': 465,\n",
              " 'you': 466,\n",
              " 'youu': 467}"
            ]
          },
          "metadata": {},
          "execution_count": 11
        }
      ],
      "source": [
        "term_fit.vocabulary_ #mengurutkan berdasarkan urutab abjad kata "
      ]
    },
    {
      "cell_type": "code",
      "execution_count": 12,
      "id": "instructional-sociology",
      "metadata": {
        "execution": {
          "iopub.execute_input": "2021-06-25T04:23:24.431099Z",
          "iopub.status.busy": "2021-06-25T04:23:24.430489Z",
          "iopub.status.idle": "2021-06-25T04:23:24.441397Z",
          "shell.execute_reply": "2021-06-25T04:23:24.440759Z",
          "shell.execute_reply.started": "2021-06-25T03:59:27.357039Z"
        },
        "id": "instructional-sociology",
        "outputId": "05c88935-b829-404a-938a-010412e0c292",
        "papermill": {
          "duration": 0.058,
          "end_time": "2021-06-25T04:23:24.441546",
          "exception": false,
          "start_time": "2021-06-25T04:23:24.383546",
          "status": "completed"
        },
        "tags": [],
        "colab": {
          "base_uri": "https://localhost:8080/"
        }
      },
      "outputs": [
        {
          "output_type": "stream",
          "name": "stdout",
          "text": [
            "  (0, 24)\t1\n",
            "  (0, 34)\t1\n",
            "  (0, 40)\t1\n",
            "  (0, 44)\t1\n",
            "  (0, 100)\t1\n",
            "  (0, 128)\t1\n",
            "  (0, 148)\t1\n",
            "  (0, 167)\t1\n",
            "  (0, 191)\t2\n",
            "  (0, 207)\t1\n",
            "  (0, 293)\t1\n",
            "  (0, 304)\t1\n",
            "  (0, 357)\t3\n",
            "  (0, 374)\t1\n",
            "  (0, 389)\t1\n",
            "  (0, 400)\t1\n",
            "  (1, 24)\t1\n",
            "  (1, 67)\t1\n",
            "  (1, 191)\t1\n",
            "  (2, 34)\t1\n",
            "  (2, 318)\t1\n",
            "  (2, 389)\t1\n",
            "  (3, 305)\t1\n",
            "  (3, 308)\t1\n",
            "  (4, 4)\t1\n",
            "  :\t:\n",
            "  (299, 8)\t1\n",
            "  (299, 17)\t1\n",
            "  (299, 24)\t1\n",
            "  (299, 40)\t2\n",
            "  (299, 59)\t1\n",
            "  (299, 71)\t1\n",
            "  (299, 76)\t1\n",
            "  (299, 107)\t1\n",
            "  (299, 143)\t1\n",
            "  (299, 191)\t1\n",
            "  (299, 200)\t2\n",
            "  (299, 243)\t1\n",
            "  (299, 248)\t1\n",
            "  (299, 253)\t1\n",
            "  (299, 300)\t1\n",
            "  (299, 305)\t1\n",
            "  (299, 307)\t1\n",
            "  (299, 311)\t1\n",
            "  (299, 316)\t1\n",
            "  (299, 336)\t1\n",
            "  (299, 367)\t1\n",
            "  (299, 375)\t1\n",
            "  (299, 421)\t1\n",
            "  (299, 463)\t1\n",
            "  (299, 464)\t1\n"
          ]
        }
      ],
      "source": [
        "#kolom pertama ini berarti jumlah dokumen\n",
        "#kolom kedua berarti letak katanya\n",
        "#kolom ketiga hasil dari tf\n",
        "\n",
        "term_frequency_all = term_fit.transform(Ulasan)\n",
        "print (term_frequency_all)"
      ]
    },
    {
      "cell_type": "code",
      "execution_count": 13,
      "id": "understood-success",
      "metadata": {
        "execution": {
          "iopub.execute_input": "2021-06-25T04:23:24.560545Z",
          "iopub.status.busy": "2021-06-25T04:23:24.559888Z",
          "iopub.status.idle": "2021-06-25T04:23:24.562366Z",
          "shell.execute_reply": "2021-06-25T04:23:24.562955Z",
          "shell.execute_reply.started": "2021-06-25T03:59:30.481139Z"
        },
        "id": "understood-success",
        "outputId": "70cb6224-278b-4a4f-d572-4fbba26639e9",
        "papermill": {
          "duration": 0.070258,
          "end_time": "2021-06-25T04:23:24.563128",
          "exception": false,
          "start_time": "2021-06-25T04:23:24.492870",
          "status": "completed"
        },
        "tags": [],
        "colab": {
          "base_uri": "https://localhost:8080/"
        }
      },
      "outputs": [
        {
          "output_type": "stream",
          "name": "stdout",
          "text": [
            "dua kali beli sayang lambat respon order pagi kirim sore respon respon itu kirim besok barang bagus sesuai harga\n"
          ]
        }
      ],
      "source": [
        "ulasan_tf = Ulasan[1] #memanggil kata pada index ke 1\n",
        "print (ulasan_tf)"
      ]
    },
    {
      "cell_type": "code",
      "execution_count": 14,
      "id": "suffering-power",
      "metadata": {
        "execution": {
          "iopub.execute_input": "2021-06-25T04:23:24.667911Z",
          "iopub.status.busy": "2021-06-25T04:23:24.667010Z",
          "iopub.status.idle": "2021-06-25T04:23:24.672633Z",
          "shell.execute_reply": "2021-06-25T04:23:24.673134Z",
          "shell.execute_reply.started": "2021-06-25T03:59:32.162064Z"
        },
        "id": "suffering-power",
        "outputId": "a1addee0-5493-4a73-d622-0f032ee1e00c",
        "papermill": {
          "duration": 0.059173,
          "end_time": "2021-06-25T04:23:24.673285",
          "exception": false,
          "start_time": "2021-06-25T04:23:24.614112",
          "status": "completed"
        },
        "tags": [],
        "colab": {
          "base_uri": "https://localhost:8080/"
        }
      },
      "outputs": [
        {
          "output_type": "stream",
          "name": "stdout",
          "text": [
            "  (0, 24)\t1\n",
            "  (0, 34)\t1\n",
            "  (0, 40)\t1\n",
            "  (0, 44)\t1\n",
            "  (0, 100)\t1\n",
            "  (0, 128)\t1\n",
            "  (0, 148)\t1\n",
            "  (0, 167)\t1\n",
            "  (0, 191)\t2\n",
            "  (0, 207)\t1\n",
            "  (0, 293)\t1\n",
            "  (0, 304)\t1\n",
            "  (0, 357)\t3\n",
            "  (0, 374)\t1\n",
            "  (0, 389)\t1\n",
            "  (0, 400)\t1\n"
          ]
        }
      ],
      "source": [
        "term_frequency = term_fit.transform([ulasan_tf]) #hanya menampilkan hasil document 1\n",
        "print (term_frequency)"
      ]
    },
    {
      "cell_type": "code",
      "execution_count": 15,
      "id": "amino-parent",
      "metadata": {
        "execution": {
          "iopub.execute_input": "2021-06-25T04:23:24.786958Z",
          "iopub.status.busy": "2021-06-25T04:23:24.786037Z",
          "iopub.status.idle": "2021-06-25T04:23:24.809274Z",
          "shell.execute_reply": "2021-06-25T04:23:24.810161Z",
          "shell.execute_reply.started": "2021-06-25T03:59:34.347396Z"
        },
        "id": "amino-parent",
        "outputId": "99a25c9f-32b8-4cd2-af84-7e0c124527c8",
        "papermill": {
          "duration": 0.082532,
          "end_time": "2021-06-25T04:23:24.810414",
          "exception": false,
          "start_time": "2021-06-25T04:23:24.727882",
          "status": "completed"
        },
        "tags": [],
        "colab": {
          "base_uri": "https://localhost:8080/"
        }
      },
      "outputs": [
        {
          "output_type": "stream",
          "name": "stdout",
          "text": [
            "[6.01396308 4.22220361 5.60849798 6.01396308 5.60849798 6.01396308\n",
            " 6.01396308 6.01396308 4.06805294 6.01396308 6.01396308 6.01396308\n",
            " 5.3208159  6.01396308 6.01396308 6.01396308 5.60849798 6.01396308\n",
            " 6.01396308 5.09767235 6.01396308 6.01396308 6.01396308 6.01396308\n",
            " 2.50241765 6.01396308 4.9153508  5.3208159  6.01396308 5.3208159\n",
            " 6.01396308 3.61606781 6.01396308 6.01396308 2.36330484 5.60849798\n",
            " 6.01396308 6.01396308 5.3208159  5.09767235 3.27312306 6.01396308\n",
            " 6.01396308 6.01396308 5.3208159  6.01396308 6.01396308 6.01396308\n",
            " 6.01396308 6.01396308 6.01396308 4.62766872 6.01396308 6.01396308\n",
            " 4.76120012 6.01396308 6.01396308 5.60849798 6.01396308 4.76120012\n",
            " 6.01396308 5.3208159  6.01396308 6.01396308 5.09767235 6.01396308\n",
            " 6.01396308 2.40304517 6.01396308 6.01396308 6.01396308 5.60849798\n",
            " 5.60849798 6.01396308 5.60849798 6.01396308 5.3208159  6.01396308\n",
            " 6.01396308 6.01396308 5.60849798 6.01396308 6.01396308 5.60849798\n",
            " 5.09767235 5.60849798 4.22220361 6.01396308 6.01396308 6.01396308\n",
            " 6.01396308 6.01396308 6.01396308 5.60849798 6.01396308 6.01396308\n",
            " 6.01396308 6.01396308 6.01396308 6.01396308 5.60849798 4.62766872\n",
            " 6.01396308 6.01396308 6.01396308 5.3208159  5.09767235 6.01396308\n",
            " 5.60849798 6.01396308 6.01396308 6.01396308 6.01396308 4.40452517\n",
            " 6.01396308 6.01396308 6.01396308 6.01396308 5.09767235 6.01396308\n",
            " 5.09767235 5.3208159  4.76120012 6.01396308 4.76120012 6.01396308\n",
            " 6.01396308 6.01396308 3.93452154 6.01396308 5.3208159  6.01396308\n",
            " 6.01396308 5.3208159  6.01396308 5.60849798 5.60849798 6.01396308\n",
            " 6.01396308 6.01396308 6.01396308 6.01396308 6.01396308 5.3208159\n",
            " 6.01396308 6.01396308 6.01396308 6.01396308 5.60849798 5.60849798\n",
            " 6.01396308 5.60849798 5.60849798 6.01396308 6.01396308 6.01396308\n",
            " 5.60849798 5.60849798 6.01396308 6.01396308 6.01396308 6.01396308\n",
            " 4.40452517 6.01396308 6.01396308 6.01396308 6.01396308 4.40452517\n",
            " 6.01396308 6.01396308 4.9153508  5.3208159  5.3208159  3.52905643\n",
            " 5.60849798 6.01396308 6.01396308 6.01396308 6.01396308 6.01396308\n",
            " 6.01396308 4.76120012 6.01396308 6.01396308 5.60849798 5.60849798\n",
            " 6.01396308 6.01396308 5.3208159  6.01396308 6.01396308 2.71812622\n",
            " 6.01396308 4.22220361 5.60849798 5.60849798 5.60849798 5.3208159\n",
            " 5.09767235 6.01396308 3.57161605 6.01396308 6.01396308 4.9153508\n",
            " 6.01396308 6.01396308 6.01396308 5.60849798 6.01396308 4.9153508\n",
            " 5.09767235 6.01396308 6.01396308 6.01396308 4.76120012 5.3208159\n",
            " 6.01396308 6.01396308 6.01396308 6.01396308 6.01396308 4.50988569\n",
            " 6.01396308 5.60849798 6.01396308 6.01396308 5.60849798 5.3208159\n",
            " 6.01396308 6.01396308 5.3208159  6.01396308 6.01396308 3.76267129\n",
            " 6.01396308 6.01396308 6.01396308 5.3208159  6.01396308 5.60849798\n",
            " 6.01396308 6.01396308 6.01396308 2.92292063 5.3208159  5.3208159\n",
            " 6.01396308 6.01396308 5.09767235 6.01396308 6.01396308 6.01396308\n",
            " 6.01396308 6.01396308 5.60849798 6.01396308 6.01396308 6.01396308\n",
            " 6.01396308 4.50988569 6.01396308 5.60849798 5.60849798 6.01396308\n",
            " 4.62766872 6.01396308 6.01396308 6.01396308 5.60849798 6.01396308\n",
            " 6.01396308 5.60849798 6.01396308 6.01396308 6.01396308 6.01396308\n",
            " 6.01396308 6.01396308 3.71137799 4.9153508  6.01396308 6.01396308\n",
            " 5.60849798 3.99906006 4.62766872 6.01396308 6.01396308 6.01396308\n",
            " 6.01396308 6.01396308 6.01396308 5.60849798 6.01396308 4.06805294\n",
            " 5.09767235 6.01396308 6.01396308 6.01396308 6.01396308 5.3208159\n",
            " 5.60849798 3.57161605 5.60849798 5.3208159  5.09767235 3.66258783\n",
            " 6.01396308 5.09767235 5.60849798 6.01396308 6.01396308 5.09767235\n",
            " 6.01396308 5.60849798 6.01396308 5.3208159  4.40452517 5.3208159\n",
            " 3.30591288 6.01396308 6.01396308 6.01396308 6.01396308 5.60849798\n",
            " 6.01396308 4.50988569 5.09767235 5.09767235 5.60849798 6.01396308\n",
            " 6.01396308 5.60849798 6.01396308 3.93452154 5.60849798 6.01396308\n",
            " 4.14216091 6.01396308 4.62766872 6.01396308 6.01396308 6.01396308\n",
            " 5.3208159  5.09767235 6.01396308 5.60849798 6.01396308 6.01396308\n",
            " 4.62766872 6.01396308 6.01396308 3.57161605 6.01396308 6.01396308\n",
            " 4.14216091 6.01396308 6.01396308 3.66258783 6.01396308 6.01396308\n",
            " 5.60849798 5.3208159  5.3208159  6.01396308 6.01396308 6.01396308\n",
            " 6.01396308 6.01396308 6.01396308 6.01396308 5.09767235 6.01396308\n",
            " 6.01396308 6.01396308 4.62766872 5.60849798 5.09767235 6.01396308\n",
            " 6.01396308 5.60849798 6.01396308 5.60849798 6.01396308 6.01396308\n",
            " 4.06805294 6.01396308 6.01396308 6.01396308 5.60849798 2.45861502\n",
            " 6.01396308 5.09767235 6.01396308 5.3208159  6.01396308 6.01396308\n",
            " 5.60849798 6.01396308 6.01396308 6.01396308 5.09767235 6.01396308\n",
            " 6.01396308 6.01396308 5.60849798 6.01396308 4.9153508  6.01396308\n",
            " 5.3208159  6.01396308 6.01396308 6.01396308 4.76120012 5.3208159\n",
            " 6.01396308 6.01396308 6.01396308 5.60849798 5.60849798 5.3208159\n",
            " 6.01396308 6.01396308 6.01396308 6.01396308 6.01396308 6.01396308\n",
            " 3.4112734  5.3208159  5.3208159  4.50988569 5.60849798 6.01396308\n",
            " 4.22220361 6.01396308 5.60849798 6.01396308 4.50988569 6.01396308\n",
            " 6.01396308 4.50988569 6.01396308 6.01396308 5.3208159  6.01396308\n",
            " 6.01396308 5.3208159  6.01396308 6.01396308 5.60849798 6.01396308\n",
            " 6.01396308 6.01396308 5.3208159  6.01396308 5.60849798 6.01396308\n",
            " 6.01396308 6.01396308 6.01396308 6.01396308 4.62766872 6.01396308\n",
            " 6.01396308 4.9153508  4.14216091 6.01396308 5.60849798 6.01396308]\n",
            "  (0, 400)\t0.24687201004260864\n",
            "  (0, 389)\t0.1190667407839915\n",
            "  (0, 374)\t0.2241104960299381\n",
            "  (0, 357)\t0.5321195771270694\n",
            "  (0, 304)\t0.24687201004260864\n",
            "  (0, 293)\t0.19700921040955832\n",
            "  (0, 207)\t0.2716104670882278\n",
            "  (0, 191)\t0.2632688947645066\n",
            "  (0, 167)\t0.21330401549652953\n",
            "  (0, 148)\t0.2716104670882278\n",
            "  (0, 128)\t0.190542501483859\n",
            "  (0, 100)\t0.2716104670882278\n",
            "  (0, 44)\t0.25767849057601727\n",
            "  (0, 40)\t0.15851204494090357\n",
            "  (0, 34)\t0.11445102324868703\n",
            "  (0, 24)\t0.1211880308068595\n"
          ]
        }
      ],
      "source": [
        "dokumen = term_fit.transform(Ulasan) #hasil perhitungan tf idf dalam 1 doc\n",
        "tfidf_transformer = TfidfTransformer().fit(dokumen)\n",
        "print (tfidf_transformer.idf_)\n",
        "\n",
        "tfidf=tfidf_transformer.transform(term_frequency)\n",
        "print (tfidf) #hasil manual dengan sistem pyhton"
      ]
    },
    {
      "cell_type": "markdown",
      "id": "former-synthesis",
      "metadata": {
        "id": "former-synthesis",
        "papermill": {
          "duration": 0.048511,
          "end_time": "2021-06-25T04:23:24.914261",
          "exception": false,
          "start_time": "2021-06-25T04:23:24.865750",
          "status": "completed"
        },
        "tags": []
      },
      "source": [
        "# 3. Data Exploration"
      ]
    },
    {
      "cell_type": "markdown",
      "source": [
        "Sebelum kita membangun model yang sebenarnya. Mari kita lakukan beberapa eksplorasi analisis data pada model. Untuk melihat jumlah ulasan positif dan negatif dalam bentuk plot bar."
      ],
      "metadata": {
        "id": "zi6cXWUsUywx"
      },
      "id": "zi6cXWUsUywx"
    },
    {
      "cell_type": "code",
      "execution_count": 16,
      "id": "understood-cleaners",
      "metadata": {
        "execution": {
          "iopub.execute_input": "2021-06-25T04:23:25.016243Z",
          "iopub.status.busy": "2021-06-25T04:23:25.015237Z",
          "iopub.status.idle": "2021-06-25T04:23:25.017190Z",
          "shell.execute_reply": "2021-06-25T04:23:25.017862Z",
          "shell.execute_reply.started": "2021-06-25T03:59:38.045686Z"
        },
        "id": "understood-cleaners",
        "papermill": {
          "duration": 0.055718,
          "end_time": "2021-06-25T04:23:25.018099",
          "exception": false,
          "start_time": "2021-06-25T04:23:24.962381",
          "status": "completed"
        },
        "tags": []
      },
      "outputs": [],
      "source": [
        "data_label = data[[\"Nama_Produk\", \"Akun\", \"Ulasan_clean\", \"label\"]]"
      ]
    },
    {
      "cell_type": "code",
      "execution_count": 17,
      "id": "secure-corps",
      "metadata": {
        "execution": {
          "iopub.execute_input": "2021-06-25T04:23:25.120912Z",
          "iopub.status.busy": "2021-06-25T04:23:25.119934Z",
          "iopub.status.idle": "2021-06-25T04:23:25.127521Z",
          "shell.execute_reply": "2021-06-25T04:23:25.127032Z",
          "shell.execute_reply.started": "2021-06-25T03:59:39.448056Z"
        },
        "id": "secure-corps",
        "outputId": "cf63890b-2a87-4810-be65-2b6e502ddcc1",
        "papermill": {
          "duration": 0.057495,
          "end_time": "2021-06-25T04:23:25.127687",
          "exception": false,
          "start_time": "2021-06-25T04:23:25.070192",
          "status": "completed"
        },
        "tags": [],
        "colab": {
          "base_uri": "https://localhost:8080/"
        }
      },
      "outputs": [
        {
          "output_type": "stream",
          "name": "stderr",
          "text": [
            "/usr/local/lib/python3.7/dist-packages/ipykernel_launcher.py:1: SettingWithCopyWarning: \n",
            "A value is trying to be set on a copy of a slice from a DataFrame.\n",
            "Try using .loc[row_indexer,col_indexer] = value instead\n",
            "\n",
            "See the caveats in the documentation: https://pandas.pydata.org/pandas-docs/stable/user_guide/indexing.html#returning-a-view-versus-a-copy\n",
            "  \"\"\"Entry point for launching an IPython kernel.\n"
          ]
        }
      ],
      "source": [
        "data_label[\"Ulasan_clean\"] = data_label[\"Ulasan_clean\"].fillna(\"tidak ada komentar\")"
      ]
    },
    {
      "cell_type": "code",
      "execution_count": 18,
      "id": "answering-bouquet",
      "metadata": {
        "execution": {
          "iopub.execute_input": "2021-06-25T04:23:25.235043Z",
          "iopub.status.busy": "2021-06-25T04:23:25.234114Z",
          "iopub.status.idle": "2021-06-25T04:23:25.308229Z",
          "shell.execute_reply": "2021-06-25T04:23:25.308752Z",
          "shell.execute_reply.started": "2021-06-25T03:59:41.573412Z"
        },
        "id": "answering-bouquet",
        "papermill": {
          "duration": 0.131775,
          "end_time": "2021-06-25T04:23:25.308911",
          "exception": false,
          "start_time": "2021-06-25T04:23:25.177136",
          "status": "completed"
        },
        "tags": []
      },
      "outputs": [],
      "source": [
        "data_label.to_excel(\"data_label.xlsx\")"
      ]
    },
    {
      "cell_type": "code",
      "execution_count": 45,
      "id": "confidential-necklace",
      "metadata": {
        "execution": {
          "iopub.execute_input": "2021-06-25T04:23:25.412296Z",
          "iopub.status.busy": "2021-06-25T04:23:25.411690Z",
          "iopub.status.idle": "2021-06-25T04:23:25.566715Z",
          "shell.execute_reply": "2021-06-25T04:23:25.566189Z",
          "shell.execute_reply.started": "2021-06-25T04:00:16.443912Z"
        },
        "id": "confidential-necklace",
        "outputId": "749ba8e6-e0c6-447a-9f75-7e0149515cee",
        "papermill": {
          "duration": 0.209983,
          "end_time": "2021-06-25T04:23:25.566876",
          "exception": false,
          "start_time": "2021-06-25T04:23:25.356893",
          "status": "completed"
        },
        "tags": [],
        "colab": {
          "base_uri": "https://localhost:8080/",
          "height": 277
        }
      },
      "outputs": [
        {
          "output_type": "display_data",
          "data": {
            "text/plain": [
              "<Figure size 432x288 with 1 Axes>"
            ],
            "image/png": "[encoded data removed]"
          },
          "metadata": {
            "needs_background": "light"
          }
        }
      ],
      "source": [
        "sentimen_data=pd.value_counts(data_label[\"label\"], sort= True)\n",
        "sentimen_data.plot(kind= 'bar', color= [\"green\", \"red\"])\n",
        "plt.title('Ulasan Masker di Tokopedia')\n",
        "plt.show()"
      ]
    },
    {
      "cell_type": "markdown",
      "id": "macro-anthropology",
      "metadata": {
        "papermill": {
          "duration": 0.047046,
          "end_time": "2021-06-25T04:23:25.661037",
          "exception": false,
          "start_time": "2021-06-25T04:23:25.613991",
          "status": "completed"
        },
        "tags": [],
        "id": "macro-anthropology"
      },
      "source": [
        "Ulasan produk lebih banyak pada label 1 atau ulasan  postif ini berarti konsumen merasa puas bertansaksi di marketplace Tokopedia khususnya prosuk masker medis sehingga memberikan feedback atau ulasan komentar lebih banyak yang positif."
      ]
    },
    {
      "cell_type": "code",
      "execution_count": 20,
      "id": "innocent-malaysia",
      "metadata": {
        "execution": {
          "iopub.execute_input": "2021-06-25T04:23:25.763842Z",
          "iopub.status.busy": "2021-06-25T04:23:25.763210Z",
          "iopub.status.idle": "2021-06-25T04:23:25.802586Z",
          "shell.execute_reply": "2021-06-25T04:23:25.801854Z",
          "shell.execute_reply.started": "2021-06-25T04:00:24.226784Z"
        },
        "id": "innocent-malaysia",
        "papermill": {
          "duration": 0.091952,
          "end_time": "2021-06-25T04:23:25.802775",
          "exception": false,
          "start_time": "2021-06-25T04:23:25.710823",
          "status": "completed"
        },
        "tags": []
      },
      "outputs": [],
      "source": [
        "from wordcloud import WordCloud"
      ]
    },
    {
      "cell_type": "markdown",
      "id": "mineral-statement",
      "metadata": {
        "papermill": {
          "duration": 0.049443,
          "end_time": "2021-06-25T04:23:25.903432",
          "exception": false,
          "start_time": "2021-06-25T04:23:25.853989",
          "status": "completed"
        },
        "tags": [],
        "id": "mineral-statement"
      },
      "source": [
        "**Ulasan Negatif**"
      ]
    },
    {
      "cell_type": "code",
      "execution_count": 21,
      "id": "miniature-anderson",
      "metadata": {
        "execution": {
          "iopub.execute_input": "2021-06-25T04:23:26.006250Z",
          "iopub.status.busy": "2021-06-25T04:23:26.005269Z",
          "iopub.status.idle": "2021-06-25T04:23:26.023591Z",
          "shell.execute_reply": "2021-06-25T04:23:26.023104Z",
          "shell.execute_reply.started": "2021-06-25T04:00:26.154999Z"
        },
        "id": "miniature-anderson",
        "papermill": {
          "duration": 0.071385,
          "end_time": "2021-06-25T04:23:26.023730",
          "exception": false,
          "start_time": "2021-06-25T04:23:25.952345",
          "status": "completed"
        },
        "tags": []
      },
      "outputs": [],
      "source": [
        "train_s0 = data_label[data_label[\"label\"] == 0]"
      ]
    },
    {
      "cell_type": "code",
      "execution_count": 22,
      "id": "specific-driving",
      "metadata": {
        "execution": {
          "iopub.execute_input": "2021-06-25T04:23:26.125659Z",
          "iopub.status.busy": "2021-06-25T04:23:26.124980Z",
          "iopub.status.idle": "2021-06-25T04:23:26.127515Z",
          "shell.execute_reply": "2021-06-25T04:23:26.127964Z",
          "shell.execute_reply.started": "2021-06-25T04:00:27.841348Z"
        },
        "id": "specific-driving",
        "outputId": "82c7dcc3-3e9b-4479-9fda-9c365ce05348",
        "papermill": {
          "duration": 0.056485,
          "end_time": "2021-06-25T04:23:26.128106",
          "exception": false,
          "start_time": "2021-06-25T04:23:26.071621",
          "status": "completed"
        },
        "tags": [],
        "colab": {
          "base_uri": "https://localhost:8080/"
        }
      },
      "outputs": [
        {
          "output_type": "stream",
          "name": "stderr",
          "text": [
            "/usr/local/lib/python3.7/dist-packages/ipykernel_launcher.py:1: SettingWithCopyWarning: \n",
            "A value is trying to be set on a copy of a slice from a DataFrame.\n",
            "Try using .loc[row_indexer,col_indexer] = value instead\n",
            "\n",
            "See the caveats in the documentation: https://pandas.pydata.org/pandas-docs/stable/user_guide/indexing.html#returning-a-view-versus-a-copy\n",
            "  \"\"\"Entry point for launching an IPython kernel.\n"
          ]
        }
      ],
      "source": [
        "train_s0[\"Ulasan_clean\"] = train_s0[\"Ulasan_clean\"].fillna(\"tidak ada komentar\")"
      ]
    },
    {
      "cell_type": "code",
      "execution_count": 23,
      "id": "colonial-general",
      "metadata": {
        "execution": {
          "iopub.execute_input": "2021-06-25T04:23:26.233924Z",
          "iopub.status.busy": "2021-06-25T04:23:26.233216Z",
          "iopub.status.idle": "2021-06-25T04:23:26.253528Z",
          "shell.execute_reply": "2021-06-25T04:23:26.252784Z",
          "shell.execute_reply.started": "2021-06-25T04:00:30.465445Z"
        },
        "id": "colonial-general",
        "outputId": "6262328c-9ef1-42b4-ec93-28e1f7918005",
        "papermill": {
          "duration": 0.077911,
          "end_time": "2021-06-25T04:23:26.253734",
          "exception": false,
          "start_time": "2021-06-25T04:23:26.175823",
          "status": "completed"
        },
        "tags": [],
        "colab": {
          "base_uri": "https://localhost:8080/",
          "height": 990
        }
      },
      "outputs": [
        {
          "output_type": "execute_result",
          "data": {
            "text/plain": [
              "                                           Nama_Produk        Akun  \\\n",
              "1    Masker KF94 4 Ply Isi 10 Pcs Masker Medis Kese...   Stephanus   \n",
              "5    Masker KF94 4 Ply Isi 10 Pcs Masker Medis Kese...      Rahmat   \n",
              "9    Masker KF94 4 Ply Isi 10 Pcs Masker Medis Kese...       n***l   \n",
              "14   MASKER 3PLY IZIN KEMENKES MASKER MEDIS KESEHAT...      Renold   \n",
              "16   MASKER 3PLY IZIN KEMENKES MASKER MEDIS KESEHAT...      Ridwan   \n",
              "36                 Masker Evo PlusMed 4d Medis - Putih       J***a   \n",
              "57   Disposable Mask KN95 N95 Facemask Kesehatan Ma...      Anggia   \n",
              "85   ONEMED - Masker Karet 3 Ply / Masker Non-Medis...        Adhi   \n",
              "104  C care Duckbill 3D Stereo 3 Ply Isi 50 Pcs Mas...       Risca   \n",
              "116  Masker KN95 Alkindo Masker Medis 5ply 1 Box 10...      Duarte   \n",
              "117  Masker KN95 Alkindo Masker Medis 5ply 1 Box 10...       M***a   \n",
              "166  Facemask 50s / BOX Masker Wajah Kesehatan 3ply...  NURHASANAH   \n",
              "170  Facemask 50s / BOX Masker Wajah Kesehatan 3ply...        Jhon   \n",
              "171  Masker Karet Putih 3 Ply Daily Use Onemed Box ...        Luke   \n",
              "173  Masker Karet Putih 3 Ply Daily Use Onemed Box ...       H***h   \n",
              "193  Disposable Mask KN95 Facemask Kesehatan Masker...       M***r   \n",
              "199  Disposable Mask KN95 Facemask Kesehatan Masker...   Sekardewi   \n",
              "202  Masker KF94 4 Ply Isi 10 Pcs Masker Medis Kese...   Stephanus   \n",
              "203  Masker KF94 4 Ply Isi 10 Pcs Masker Medis Kese...      Rahmat   \n",
              "207  Masker KF94 4 Ply Isi 10 Pcs Masker Medis Kese...       n***l   \n",
              "243  Nexcare 3M Masker 3 Lapis Earloop 3 Ply Daily ...       n***a   \n",
              "245  Nexcare 3M Masker 3 Lapis Earloop 3 Ply Daily ...       Elike   \n",
              "267  Face Mask Earloop 50pcs Masker mulut/ Masker W...    Ariyanto   \n",
              "271  Goto Disposable Mask KN 95 Facemask 5Ply Earlo...       T***o   \n",
              "281  Madame Gie Protect You KN95 Mask - Masker Kese...       A***i   \n",
              "284  Madame Gie Protect You KN95 Mask - Masker Kese...     Afrizal   \n",
              "288  Madame Gie Protect You KN95 Mask - Masker Kese...        Joko   \n",
              "293              Buy 1 Get 1 - Masker Primero - Sachet       a***a   \n",
              "295              Buy 1 Get 1 - Masker Primero - Sachet       M***l   \n",
              "296              Buy 1 Get 1 - Masker Primero - Sachet       a***a   \n",
              "\n",
              "                                          Ulasan_clean  label  \n",
              "1    dua kali beli sayang lambat respon order pagi ...      0  \n",
              "5    barang sesuai minta bagus komunikasi jual beli...      0  \n",
              "9        proses barang jemput kurir banget anjas pokok      0  \n",
              "14   kecewa berat masker hijab warna hitam tali mas...      0  \n",
              "16   karet headloop nya pendek istri pakai untung anak      0  \n",
              "36          pesan masker warna hijau datang warna pink      0  \n",
              "57                   bungkus plastik sealed debu kotor      0  \n",
              "85           tipis sih ragu banding type jenis ply ply      0  \n",
              "104                              masker tipis ya bunda      0  \n",
              "116  kualitas masker jelek masker bolong jahit isi ...      0  \n",
              "117                                       size telinga      0  \n",
              "166  fast respon kirim cepat sayang box khusus hija...      0  \n",
              "170                    pesan box hijab box model hijab      0  \n",
              "171                       masak debu masuk masker hari      0  \n",
              "173  tipis banget masker beda onemed warna putih tipis      0  \n",
              "193  cerita beli pcs dikotakin kes bunafit ply saya...      0  \n",
              "199         pesan plastik masker plastik masker masker      0  \n",
              "202  dua kali beli sayang lambat respon order pagi ...      0  \n",
              "203  barang sesuai minta bagus komunikasi jual beli...      0  \n",
              "207      proses barang jemput kurir banget anjas pokok      0  \n",
              "243  beli box bonus kf kirimminta produk foto prose...      0  \n",
              "245  packing amburadul dus masker penyok penyok nya...      0  \n",
              "267  merk dus masker merk kualitas ya masker merk p...      0  \n",
              "271                   tali nya sakit kuping pakai lama      0  \n",
              "281  kaget kemas sesuai bayang beli hrga kejar disk...      0  \n",
              "284  kayak masker jenis merkembossed ati teman tipu...      0  \n",
              "288                                 tidak ada komentar      0  \n",
              "293  deskripsi produk sesuai terima iram slow respo...      0  \n",
              "295  parahini masker hargany overpersis harga ribu ...      0  \n",
              "296  barang kirim sesuai deskripsi tera ijin kemenk...      0  "
            ],
            "text/html": [
              "\n",
              "  <div id=\"df-aaa64344-8f07-4f39-a782-dc30f72b6a00\">\n",
              "    <div class=\"colab-df-container\">\n",
              "      <div>\n",
              "<style scoped>\n",
              "    .dataframe tbody tr th:only-of-type {\n",
              "        vertical-align: middle;\n",
              "    }\n",
              "\n",
              "    .dataframe tbody tr th {\n",
              "        vertical-align: top;\n",
              "    }\n",
              "\n",
              "    .dataframe thead th {\n",
              "        text-align: right;\n",
              "    }\n",
              "</style>\n",
              "<table border=\"1\" class=\"dataframe\">\n",
              "  <thead>\n",
              "    <tr style=\"text-align: right;\">\n",
              "      <th></th>\n",
              "      <th>Nama_Produk</th>\n",
              "      <th>Akun</th>\n",
              "      <th>Ulasan_clean</th>\n",
              "      <th>label</th>\n",
              "    </tr>\n",
              "  </thead>\n",
              "  <tbody>\n",
              "    <tr>\n",
              "      <th>1</th>\n",
              "      <td>Masker KF94 4 Ply Isi 10 Pcs Masker Medis Kese...</td>\n",
              "      <td>Stephanus</td>\n",
              "      <td>dua kali beli sayang lambat respon order pagi ...</td>\n",
              "      <td>0</td>\n",
              "    </tr>\n",
              "    <tr>\n",
              "      <th>5</th>\n",
              "      <td>Masker KF94 4 Ply Isi 10 Pcs Masker Medis Kese...</td>\n",
              "      <td>Rahmat</td>\n",
              "      <td>barang sesuai minta bagus komunikasi jual beli...</td>\n",
              "      <td>0</td>\n",
              "    </tr>\n",
              "    <tr>\n",
              "      <th>9</th>\n",
              "      <td>Masker KF94 4 Ply Isi 10 Pcs Masker Medis Kese...</td>\n",
              "      <td>n***l</td>\n",
              "      <td>proses barang jemput kurir banget anjas pokok</td>\n",
              "      <td>0</td>\n",
              "    </tr>\n",
              "    <tr>\n",
              "      <th>14</th>\n",
              "      <td>MASKER 3PLY IZIN KEMENKES MASKER MEDIS KESEHAT...</td>\n",
              "      <td>Renold</td>\n",
              "      <td>kecewa berat masker hijab warna hitam tali mas...</td>\n",
              "      <td>0</td>\n",
              "    </tr>\n",
              "    <tr>\n",
              "      <th>16</th>\n",
              "      <td>MASKER 3PLY IZIN KEMENKES MASKER MEDIS KESEHAT...</td>\n",
              "      <td>Ridwan</td>\n",
              "      <td>karet headloop nya pendek istri pakai untung anak</td>\n",
              "      <td>0</td>\n",
              "    </tr>\n",
              "    <tr>\n",
              "      <th>36</th>\n",
              "      <td>Masker Evo PlusMed 4d Medis - Putih</td>\n",
              "      <td>J***a</td>\n",
              "      <td>pesan masker warna hijau datang warna pink</td>\n",
              "      <td>0</td>\n",
              "    </tr>\n",
              "    <tr>\n",
              "      <th>57</th>\n",
              "      <td>Disposable Mask KN95 N95 Facemask Kesehatan Ma...</td>\n",
              "      <td>Anggia</td>\n",
              "      <td>bungkus plastik sealed debu kotor</td>\n",
              "      <td>0</td>\n",
              "    </tr>\n",
              "    <tr>\n",
              "      <th>85</th>\n",
              "      <td>ONEMED - Masker Karet 3 Ply / Masker Non-Medis...</td>\n",
              "      <td>Adhi</td>\n",
              "      <td>tipis sih ragu banding type jenis ply ply</td>\n",
              "      <td>0</td>\n",
              "    </tr>\n",
              "    <tr>\n",
              "      <th>104</th>\n",
              "      <td>C care Duckbill 3D Stereo 3 Ply Isi 50 Pcs Mas...</td>\n",
              "      <td>Risca</td>\n",
              "      <td>masker tipis ya bunda</td>\n",
              "      <td>0</td>\n",
              "    </tr>\n",
              "    <tr>\n",
              "      <th>116</th>\n",
              "      <td>Masker KN95 Alkindo Masker Medis 5ply 1 Box 10...</td>\n",
              "      <td>Duarte</td>\n",
              "      <td>kualitas masker jelek masker bolong jahit isi ...</td>\n",
              "      <td>0</td>\n",
              "    </tr>\n",
              "    <tr>\n",
              "      <th>117</th>\n",
              "      <td>Masker KN95 Alkindo Masker Medis 5ply 1 Box 10...</td>\n",
              "      <td>M***a</td>\n",
              "      <td>size telinga</td>\n",
              "      <td>0</td>\n",
              "    </tr>\n",
              "    <tr>\n",
              "      <th>166</th>\n",
              "      <td>Facemask 50s / BOX Masker Wajah Kesehatan 3ply...</td>\n",
              "      <td>NURHASANAH</td>\n",
              "      <td>fast respon kirim cepat sayang box khusus hija...</td>\n",
              "      <td>0</td>\n",
              "    </tr>\n",
              "    <tr>\n",
              "      <th>170</th>\n",
              "      <td>Facemask 50s / BOX Masker Wajah Kesehatan 3ply...</td>\n",
              "      <td>Jhon</td>\n",
              "      <td>pesan box hijab box model hijab</td>\n",
              "      <td>0</td>\n",
              "    </tr>\n",
              "    <tr>\n",
              "      <th>171</th>\n",
              "      <td>Masker Karet Putih 3 Ply Daily Use Onemed Box ...</td>\n",
              "      <td>Luke</td>\n",
              "      <td>masak debu masuk masker hari</td>\n",
              "      <td>0</td>\n",
              "    </tr>\n",
              "    <tr>\n",
              "      <th>173</th>\n",
              "      <td>Masker Karet Putih 3 Ply Daily Use Onemed Box ...</td>\n",
              "      <td>H***h</td>\n",
              "      <td>tipis banget masker beda onemed warna putih tipis</td>\n",
              "      <td>0</td>\n",
              "    </tr>\n",
              "    <tr>\n",
              "      <th>193</th>\n",
              "      <td>Disposable Mask KN95 Facemask Kesehatan Masker...</td>\n",
              "      <td>M***r</td>\n",
              "      <td>cerita beli pcs dikotakin kes bunafit ply saya...</td>\n",
              "      <td>0</td>\n",
              "    </tr>\n",
              "    <tr>\n",
              "      <th>199</th>\n",
              "      <td>Disposable Mask KN95 Facemask Kesehatan Masker...</td>\n",
              "      <td>Sekardewi</td>\n",
              "      <td>pesan plastik masker plastik masker masker</td>\n",
              "      <td>0</td>\n",
              "    </tr>\n",
              "    <tr>\n",
              "      <th>202</th>\n",
              "      <td>Masker KF94 4 Ply Isi 10 Pcs Masker Medis Kese...</td>\n",
              "      <td>Stephanus</td>\n",
              "      <td>dua kali beli sayang lambat respon order pagi ...</td>\n",
              "      <td>0</td>\n",
              "    </tr>\n",
              "    <tr>\n",
              "      <th>203</th>\n",
              "      <td>Masker KF94 4 Ply Isi 10 Pcs Masker Medis Kese...</td>\n",
              "      <td>Rahmat</td>\n",
              "      <td>barang sesuai minta bagus komunikasi jual beli...</td>\n",
              "      <td>0</td>\n",
              "    </tr>\n",
              "    <tr>\n",
              "      <th>207</th>\n",
              "      <td>Masker KF94 4 Ply Isi 10 Pcs Masker Medis Kese...</td>\n",
              "      <td>n***l</td>\n",
              "      <td>proses barang jemput kurir banget anjas pokok</td>\n",
              "      <td>0</td>\n",
              "    </tr>\n",
              "    <tr>\n",
              "      <th>243</th>\n",
              "      <td>Nexcare 3M Masker 3 Lapis Earloop 3 Ply Daily ...</td>\n",
              "      <td>n***a</td>\n",
              "      <td>beli box bonus kf kirimminta produk foto prose...</td>\n",
              "      <td>0</td>\n",
              "    </tr>\n",
              "    <tr>\n",
              "      <th>245</th>\n",
              "      <td>Nexcare 3M Masker 3 Lapis Earloop 3 Ply Daily ...</td>\n",
              "      <td>Elike</td>\n",
              "      <td>packing amburadul dus masker penyok penyok nya...</td>\n",
              "      <td>0</td>\n",
              "    </tr>\n",
              "    <tr>\n",
              "      <th>267</th>\n",
              "      <td>Face Mask Earloop 50pcs Masker mulut/ Masker W...</td>\n",
              "      <td>Ariyanto</td>\n",
              "      <td>merk dus masker merk kualitas ya masker merk p...</td>\n",
              "      <td>0</td>\n",
              "    </tr>\n",
              "    <tr>\n",
              "      <th>271</th>\n",
              "      <td>Goto Disposable Mask KN 95 Facemask 5Ply Earlo...</td>\n",
              "      <td>T***o</td>\n",
              "      <td>tali nya sakit kuping pakai lama</td>\n",
              "      <td>0</td>\n",
              "    </tr>\n",
              "    <tr>\n",
              "      <th>281</th>\n",
              "      <td>Madame Gie Protect You KN95 Mask - Masker Kese...</td>\n",
              "      <td>A***i</td>\n",
              "      <td>kaget kemas sesuai bayang beli hrga kejar disk...</td>\n",
              "      <td>0</td>\n",
              "    </tr>\n",
              "    <tr>\n",
              "      <th>284</th>\n",
              "      <td>Madame Gie Protect You KN95 Mask - Masker Kese...</td>\n",
              "      <td>Afrizal</td>\n",
              "      <td>kayak masker jenis merkembossed ati teman tipu...</td>\n",
              "      <td>0</td>\n",
              "    </tr>\n",
              "    <tr>\n",
              "      <th>288</th>\n",
              "      <td>Madame Gie Protect You KN95 Mask - Masker Kese...</td>\n",
              "      <td>Joko</td>\n",
              "      <td>tidak ada komentar</td>\n",
              "      <td>0</td>\n",
              "    </tr>\n",
              "    <tr>\n",
              "      <th>293</th>\n",
              "      <td>Buy 1 Get 1 - Masker Primero - Sachet</td>\n",
              "      <td>a***a</td>\n",
              "      <td>deskripsi produk sesuai terima iram slow respo...</td>\n",
              "      <td>0</td>\n",
              "    </tr>\n",
              "    <tr>\n",
              "      <th>295</th>\n",
              "      <td>Buy 1 Get 1 - Masker Primero - Sachet</td>\n",
              "      <td>M***l</td>\n",
              "      <td>parahini masker hargany overpersis harga ribu ...</td>\n",
              "      <td>0</td>\n",
              "    </tr>\n",
              "    <tr>\n",
              "      <th>296</th>\n",
              "      <td>Buy 1 Get 1 - Masker Primero - Sachet</td>\n",
              "      <td>a***a</td>\n",
              "      <td>barang kirim sesuai deskripsi tera ijin kemenk...</td>\n",
              "      <td>0</td>\n",
              "    </tr>\n",
              "  </tbody>\n",
              "</table>\n",
              "</div>\n",
              "      <button class=\"colab-df-convert\" onclick=\"convertToInteractive('df-aaa64344-8f07-4f39-a782-dc30f72b6a00')\"\n",
              "              title=\"Convert this dataframe to an interactive table.\"\n",
              "              style=\"display:none;\">\n",
              "        \n",
              "  <svg xmlns=\"http://www.w3.org/2000/svg\" height=\"24px\"viewBox=\"0 0 24 24\"\n",
              "       width=\"24px\">\n",
              "    <path d=\"M0 0h24v24H0V0z\" fill=\"none\"/>\n",
              "    <path d=\"M18.56 5.44l.94 2.06.94-2.06 2.06-.94-2.06-.94-.94-2.06-.94 2.06-2.06.94zm-11 1L8.5 8.5l.94-2.06 2.06-.94-2.06-.94L8.5 2.5l-.94 2.06-2.06.94zm10 10l.94 2.06.94-2.06 2.06-.94-2.06-.94-.94-2.06-.94 2.06-2.06.94z\"/><path d=\"M17.41 7.96l-1.37-1.37c-.4-.4-.92-.59-1.43-.59-.52 0-1.04.2-1.43.59L10.3 9.45l-7.72 7.72c-.78.78-.78 2.05 0 2.83L4 21.41c.39.39.9.59 1.41.59.51 0 1.02-.2 1.41-.59l7.78-7.78 2.81-2.81c.8-.78.8-2.07 0-2.86zM5.41 20L4 18.59l7.72-7.72 1.47 1.35L5.41 20z\"/>\n",
              "  </svg>\n",
              "      </button>\n",
              "      \n",
              "  <style>\n",
              "    .colab-df-container {\n",
              "      display:flex;\n",
              "      flex-wrap:wrap;\n",
              "      gap: 12px;\n",
              "    }\n",
              "\n",
              "    .colab-df-convert {\n",
              "      background-color: #E8F0FE;\n",
              "      border: none;\n",
              "      border-radius: 50%;\n",
              "      cursor: pointer;\n",
              "      display: none;\n",
              "      fill: #1967D2;\n",
              "      height: 32px;\n",
              "      padding: 0 0 0 0;\n",
              "      width: 32px;\n",
              "    }\n",
              "\n",
              "    .colab-df-convert:hover {\n",
              "      background-color: #E2EBFA;\n",
              "      box-shadow: 0px 1px 2px rgba(60, 64, 67, 0.3), 0px 1px 3px 1px rgba(60, 64, 67, 0.15);\n",
              "      fill: #174EA6;\n",
              "    }\n",
              "\n",
              "    [theme=dark] .colab-df-convert {\n",
              "      background-color: #3B4455;\n",
              "      fill: #D2E3FC;\n",
              "    }\n",
              "\n",
              "    [theme=dark] .colab-df-convert:hover {\n",
              "      background-color: #434B5C;\n",
              "      box-shadow: 0px 1px 3px 1px rgba(0, 0, 0, 0.15);\n",
              "      filter: drop-shadow(0px 1px 2px rgba(0, 0, 0, 0.3));\n",
              "      fill: #FFFFFF;\n",
              "    }\n",
              "  </style>\n",
              "\n",
              "      <script>\n",
              "        const buttonEl =\n",
              "          document.querySelector('#df-aaa64344-8f07-4f39-a782-dc30f72b6a00 button.colab-df-convert');\n",
              "        buttonEl.style.display =\n",
              "          google.colab.kernel.accessAllowed ? 'block' : 'none';\n",
              "\n",
              "        async function convertToInteractive(key) {\n",
              "          const element = document.querySelector('#df-aaa64344-8f07-4f39-a782-dc30f72b6a00');\n",
              "          const dataTable =\n",
              "            await google.colab.kernel.invokeFunction('convertToInteractive',\n",
              "                                                     [key], {});\n",
              "          if (!dataTable) return;\n",
              "\n",
              "          const docLinkHtml = 'Like what you see? Visit the ' +\n",
              "            '<a target=\"_blank\" href=https://colab.research.google.com/notebooks/data_table.ipynb>data table notebook</a>'\n",
              "            + ' to learn more about interactive tables.';\n",
              "          element.innerHTML = '';\n",
              "          dataTable['output_type'] = 'display_data';\n",
              "          await google.colab.output.renderOutput(dataTable, element);\n",
              "          const docLink = document.createElement('div');\n",
              "          docLink.innerHTML = docLinkHtml;\n",
              "          element.appendChild(docLink);\n",
              "        }\n",
              "      </script>\n",
              "    </div>\n",
              "  </div>\n",
              "  "
            ]
          },
          "metadata": {},
          "execution_count": 23
        }
      ],
      "source": [
        "train_s0"
      ]
    },
    {
      "cell_type": "code",
      "execution_count": 46,
      "id": "alert-future",
      "metadata": {
        "execution": {
          "iopub.execute_input": "2021-06-25T04:23:26.376886Z",
          "iopub.status.busy": "2021-06-25T04:23:26.374865Z",
          "iopub.status.idle": "2021-06-25T04:23:28.376287Z",
          "shell.execute_reply": "2021-06-25T04:23:28.376745Z",
          "shell.execute_reply.started": "2021-06-25T04:00:33.52708Z"
        },
        "id": "alert-future",
        "outputId": "4fdc0f54-08f0-4864-f587-152fa8c1bbd9",
        "papermill": {
          "duration": 2.060583,
          "end_time": "2021-06-25T04:23:28.376916",
          "exception": false,
          "start_time": "2021-06-25T04:23:26.316333",
          "status": "completed"
        },
        "tags": [],
        "colab": {
          "base_uri": "https://localhost:8080/",
          "height": 465
        }
      },
      "outputs": [
        {
          "output_type": "display_data",
          "data": {
            "text/plain": [
              "<Figure size 1080x576 with 1 Axes>"
            ],
            "image/png": "[encoded data removed]"
          },
          "metadata": {
            "needs_background": "light"
          }
        }
      ],
      "source": [
        "all_text_s0 = ' '.join(word for word in train_s0[\"Ulasan_clean\"])\n",
        "wordcloud = WordCloud(colormap='Oranges', width=1000, height=1000, mode='RGBA', background_color='white').generate(all_text_s0)\n",
        "plt.figure(figsize=(15,8))\n",
        "plt.imshow(wordcloud, interpolation='bilinear')\n",
        "plt.axis(\"off\")\n",
        "plt.margins(x=0, y=0)\n",
        "plt.show()"
      ]
    },
    {
      "cell_type": "markdown",
      "id": "federal-directory",
      "metadata": {
        "papermill": {
          "duration": 0.0581,
          "end_time": "2021-06-25T04:23:28.492434",
          "exception": false,
          "start_time": "2021-06-25T04:23:28.434334",
          "status": "completed"
        },
        "tags": [],
        "id": "federal-directory"
      },
      "source": [
        "Diatas merupakan wordcloud ulasan dengan label sentimen negatif. Kata yang paling sering muncul yaitu : barang, harga, kotak, penyok, box, dus, tipis, putus, sobek, kualitas, karet, bolong dan sebagainya. Sehingga dari kata-kata ini bisa menjadi masukan untuk penjual dan marketplace Tokopedia untuk meningkatkan kualitas barang (produk masker kesehatan)."
      ]
    },
    {
      "cell_type": "markdown",
      "id": "essential-plaintiff",
      "metadata": {
        "papermill": {
          "duration": 0.058518,
          "end_time": "2021-06-25T04:23:28.610007",
          "exception": false,
          "start_time": "2021-06-25T04:23:28.551489",
          "status": "completed"
        },
        "tags": [],
        "id": "essential-plaintiff"
      },
      "source": [
        "**Ulasan Positif**"
      ]
    },
    {
      "cell_type": "code",
      "execution_count": 25,
      "id": "crude-religious",
      "metadata": {
        "execution": {
          "iopub.execute_input": "2021-06-25T04:23:28.732358Z",
          "iopub.status.busy": "2021-06-25T04:23:28.731404Z",
          "iopub.status.idle": "2021-06-25T04:23:28.736300Z",
          "shell.execute_reply": "2021-06-25T04:23:28.736821Z",
          "shell.execute_reply.started": "2021-06-25T04:00:35.867107Z"
        },
        "id": "crude-religious",
        "papermill": {
          "duration": 0.067957,
          "end_time": "2021-06-25T04:23:28.736977",
          "exception": false,
          "start_time": "2021-06-25T04:23:28.669020",
          "status": "completed"
        },
        "tags": []
      },
      "outputs": [],
      "source": [
        "train_s1 = data_label[data_label[\"label\"] == 1]"
      ]
    },
    {
      "cell_type": "code",
      "execution_count": 26,
      "id": "nuclear-century",
      "metadata": {
        "execution": {
          "iopub.execute_input": "2021-06-25T04:23:28.859873Z",
          "iopub.status.busy": "2021-06-25T04:23:28.858888Z",
          "iopub.status.idle": "2021-06-25T04:23:28.865199Z",
          "shell.execute_reply": "2021-06-25T04:23:28.865838Z",
          "shell.execute_reply.started": "2021-06-25T04:00:39.208099Z"
        },
        "id": "nuclear-century",
        "outputId": "105719f3-6b62-4dab-86e0-f3473249e9fb",
        "papermill": {
          "duration": 0.070008,
          "end_time": "2021-06-25T04:23:28.866001",
          "exception": false,
          "start_time": "2021-06-25T04:23:28.795993",
          "status": "completed"
        },
        "tags": [],
        "colab": {
          "base_uri": "https://localhost:8080/"
        }
      },
      "outputs": [
        {
          "output_type": "stream",
          "name": "stderr",
          "text": [
            "/usr/local/lib/python3.7/dist-packages/ipykernel_launcher.py:1: SettingWithCopyWarning: \n",
            "A value is trying to be set on a copy of a slice from a DataFrame.\n",
            "Try using .loc[row_indexer,col_indexer] = value instead\n",
            "\n",
            "See the caveats in the documentation: https://pandas.pydata.org/pandas-docs/stable/user_guide/indexing.html#returning-a-view-versus-a-copy\n",
            "  \"\"\"Entry point for launching an IPython kernel.\n"
          ]
        }
      ],
      "source": [
        "train_s1[\"Ulasan_clean\"] = train_s1[\"Ulasan_clean\"].fillna(\"tidak ada komentar\")"
      ]
    },
    {
      "cell_type": "code",
      "execution_count": 27,
      "id": "aquatic-kenya",
      "metadata": {
        "execution": {
          "iopub.execute_input": "2021-06-25T04:23:28.988774Z",
          "iopub.status.busy": "2021-06-25T04:23:28.987729Z",
          "iopub.status.idle": "2021-06-25T04:23:29.002322Z",
          "shell.execute_reply": "2021-06-25T04:23:29.002886Z",
          "shell.execute_reply.started": "2021-06-25T04:00:40.771408Z"
        },
        "id": "aquatic-kenya",
        "outputId": "d239ba9b-fe44-4c4b-b270-dcd3ca38a1a0",
        "papermill": {
          "duration": 0.077472,
          "end_time": "2021-06-25T04:23:29.003068",
          "exception": false,
          "start_time": "2021-06-25T04:23:28.925596",
          "status": "completed"
        },
        "tags": [],
        "colab": {
          "base_uri": "https://localhost:8080/",
          "height": 423
        }
      },
      "outputs": [
        {
          "output_type": "execute_result",
          "data": {
            "text/plain": [
              "                                           Nama_Produk   Akun  \\\n",
              "2    Masker KF94 4 Ply Isi 10 Pcs Masker Medis Kese...   Yati   \n",
              "3    Masker KF94 4 Ply Isi 10 Pcs Masker Medis Kese...  Husin   \n",
              "4    Masker KF94 4 Ply Isi 10 Pcs Masker Medis Kese...  Febby   \n",
              "6    Masker KF94 4 Ply Isi 10 Pcs Masker Medis Kese...  Alden   \n",
              "7    Masker KF94 4 Ply Isi 10 Pcs Masker Medis Kese...   Heni   \n",
              "..                                                 ...    ...   \n",
              "294              Buy 1 Get 1 - Masker Primero - Sachet  M***y   \n",
              "297              Buy 1 Get 1 - Masker Primero - Sachet  Teguh   \n",
              "298              Buy 1 Get 1 - Masker Primero - Sachet  F***a   \n",
              "299              Buy 1 Get 1 - Masker Primero - Sachet  N***a   \n",
              "300              Buy 1 Get 1 - Masker Primero - Sachet  G***g   \n",
              "\n",
              "                                          Ulasan_clean  label  \n",
              "2                                    bagus kirim cepat      1  \n",
              "3                                  barang sesuai pesan      1  \n",
              "4                                          panas pakai      1  \n",
              "6                                         bagus masker      1  \n",
              "7    pengirimn cepat produk bagus konsumen suka mak...      1  \n",
              "..                                                 ...    ...  \n",
              "294                                          top keren      1  \n",
              "297                   kotak penyok sana mngkn expediai      1  \n",
              "298  barang sesuai kualitas kardus penyok next time...      1  \n",
              "299                      harga promo murah kirim promo      1  \n",
              "300  proses kirim sabar ya temanteman beli paket cu...      1  \n",
              "\n",
              "[270 rows x 4 columns]"
            ],
            "text/html": [
              "\n",
              "  <div id=\"df-212b5d52-0e0d-4bce-8255-7ada57ff7373\">\n",
              "    <div class=\"colab-df-container\">\n",
              "      <div>\n",
              "<style scoped>\n",
              "    .dataframe tbody tr th:only-of-type {\n",
              "        vertical-align: middle;\n",
              "    }\n",
              "\n",
              "    .dataframe tbody tr th {\n",
              "        vertical-align: top;\n",
              "    }\n",
              "\n",
              "    .dataframe thead th {\n",
              "        text-align: right;\n",
              "    }\n",
              "</style>\n",
              "<table border=\"1\" class=\"dataframe\">\n",
              "  <thead>\n",
              "    <tr style=\"text-align: right;\">\n",
              "      <th></th>\n",
              "      <th>Nama_Produk</th>\n",
              "      <th>Akun</th>\n",
              "      <th>Ulasan_clean</th>\n",
              "      <th>label</th>\n",
              "    </tr>\n",
              "  </thead>\n",
              "  <tbody>\n",
              "    <tr>\n",
              "      <th>2</th>\n",
              "      <td>Masker KF94 4 Ply Isi 10 Pcs Masker Medis Kese...</td>\n",
              "      <td>Yati</td>\n",
              "      <td>bagus kirim cepat</td>\n",
              "      <td>1</td>\n",
              "    </tr>\n",
              "    <tr>\n",
              "      <th>3</th>\n",
              "      <td>Masker KF94 4 Ply Isi 10 Pcs Masker Medis Kese...</td>\n",
              "      <td>Husin</td>\n",
              "      <td>barang sesuai pesan</td>\n",
              "      <td>1</td>\n",
              "    </tr>\n",
              "    <tr>\n",
              "      <th>4</th>\n",
              "      <td>Masker KF94 4 Ply Isi 10 Pcs Masker Medis Kese...</td>\n",
              "      <td>Febby</td>\n",
              "      <td>panas pakai</td>\n",
              "      <td>1</td>\n",
              "    </tr>\n",
              "    <tr>\n",
              "      <th>6</th>\n",
              "      <td>Masker KF94 4 Ply Isi 10 Pcs Masker Medis Kese...</td>\n",
              "      <td>Alden</td>\n",
              "      <td>bagus masker</td>\n",
              "      <td>1</td>\n",
              "    </tr>\n",
              "    <tr>\n",
              "      <th>7</th>\n",
              "      <td>Masker KF94 4 Ply Isi 10 Pcs Masker Medis Kese...</td>\n",
              "      <td>Heni</td>\n",
              "      <td>pengirimn cepat produk bagus konsumen suka mak...</td>\n",
              "      <td>1</td>\n",
              "    </tr>\n",
              "    <tr>\n",
              "      <th>...</th>\n",
              "      <td>...</td>\n",
              "      <td>...</td>\n",
              "      <td>...</td>\n",
              "      <td>...</td>\n",
              "    </tr>\n",
              "    <tr>\n",
              "      <th>294</th>\n",
              "      <td>Buy 1 Get 1 - Masker Primero - Sachet</td>\n",
              "      <td>M***y</td>\n",
              "      <td>top keren</td>\n",
              "      <td>1</td>\n",
              "    </tr>\n",
              "    <tr>\n",
              "      <th>297</th>\n",
              "      <td>Buy 1 Get 1 - Masker Primero - Sachet</td>\n",
              "      <td>Teguh</td>\n",
              "      <td>kotak penyok sana mngkn expediai</td>\n",
              "      <td>1</td>\n",
              "    </tr>\n",
              "    <tr>\n",
              "      <th>298</th>\n",
              "      <td>Buy 1 Get 1 - Masker Primero - Sachet</td>\n",
              "      <td>F***a</td>\n",
              "      <td>barang sesuai kualitas kardus penyok next time...</td>\n",
              "      <td>1</td>\n",
              "    </tr>\n",
              "    <tr>\n",
              "      <th>299</th>\n",
              "      <td>Buy 1 Get 1 - Masker Primero - Sachet</td>\n",
              "      <td>N***a</td>\n",
              "      <td>harga promo murah kirim promo</td>\n",
              "      <td>1</td>\n",
              "    </tr>\n",
              "    <tr>\n",
              "      <th>300</th>\n",
              "      <td>Buy 1 Get 1 - Masker Primero - Sachet</td>\n",
              "      <td>G***g</td>\n",
              "      <td>proses kirim sabar ya temanteman beli paket cu...</td>\n",
              "      <td>1</td>\n",
              "    </tr>\n",
              "  </tbody>\n",
              "</table>\n",
              "<p>270 rows × 4 columns</p>\n",
              "</div>\n",
              "      <button class=\"colab-df-convert\" onclick=\"convertToInteractive('df-212b5d52-0e0d-4bce-8255-7ada57ff7373')\"\n",
              "              title=\"Convert this dataframe to an interactive table.\"\n",
              "              style=\"display:none;\">\n",
              "        \n",
              "  <svg xmlns=\"http://www.w3.org/2000/svg\" height=\"24px\"viewBox=\"0 0 24 24\"\n",
              "       width=\"24px\">\n",
              "    <path d=\"M0 0h24v24H0V0z\" fill=\"none\"/>\n",
              "    <path d=\"M18.56 5.44l.94 2.06.94-2.06 2.06-.94-2.06-.94-.94-2.06-.94 2.06-2.06.94zm-11 1L8.5 8.5l.94-2.06 2.06-.94-2.06-.94L8.5 2.5l-.94 2.06-2.06.94zm10 10l.94 2.06.94-2.06 2.06-.94-2.06-.94-.94-2.06-.94 2.06-2.06.94z\"/><path d=\"M17.41 7.96l-1.37-1.37c-.4-.4-.92-.59-1.43-.59-.52 0-1.04.2-1.43.59L10.3 9.45l-7.72 7.72c-.78.78-.78 2.05 0 2.83L4 21.41c.39.39.9.59 1.41.59.51 0 1.02-.2 1.41-.59l7.78-7.78 2.81-2.81c.8-.78.8-2.07 0-2.86zM5.41 20L4 18.59l7.72-7.72 1.47 1.35L5.41 20z\"/>\n",
              "  </svg>\n",
              "      </button>\n",
              "      \n",
              "  <style>\n",
              "    .colab-df-container {\n",
              "      display:flex;\n",
              "      flex-wrap:wrap;\n",
              "      gap: 12px;\n",
              "    }\n",
              "\n",
              "    .colab-df-convert {\n",
              "      background-color: #E8F0FE;\n",
              "      border: none;\n",
              "      border-radius: 50%;\n",
              "      cursor: pointer;\n",
              "      display: none;\n",
              "      fill: #1967D2;\n",
              "      height: 32px;\n",
              "      padding: 0 0 0 0;\n",
              "      width: 32px;\n",
              "    }\n",
              "\n",
              "    .colab-df-convert:hover {\n",
              "      background-color: #E2EBFA;\n",
              "      box-shadow: 0px 1px 2px rgba(60, 64, 67, 0.3), 0px 1px 3px 1px rgba(60, 64, 67, 0.15);\n",
              "      fill: #174EA6;\n",
              "    }\n",
              "\n",
              "    [theme=dark] .colab-df-convert {\n",
              "      background-color: #3B4455;\n",
              "      fill: #D2E3FC;\n",
              "    }\n",
              "\n",
              "    [theme=dark] .colab-df-convert:hover {\n",
              "      background-color: #434B5C;\n",
              "      box-shadow: 0px 1px 3px 1px rgba(0, 0, 0, 0.15);\n",
              "      filter: drop-shadow(0px 1px 2px rgba(0, 0, 0, 0.3));\n",
              "      fill: #FFFFFF;\n",
              "    }\n",
              "  </style>\n",
              "\n",
              "      <script>\n",
              "        const buttonEl =\n",
              "          document.querySelector('#df-212b5d52-0e0d-4bce-8255-7ada57ff7373 button.colab-df-convert');\n",
              "        buttonEl.style.display =\n",
              "          google.colab.kernel.accessAllowed ? 'block' : 'none';\n",
              "\n",
              "        async function convertToInteractive(key) {\n",
              "          const element = document.querySelector('#df-212b5d52-0e0d-4bce-8255-7ada57ff7373');\n",
              "          const dataTable =\n",
              "            await google.colab.kernel.invokeFunction('convertToInteractive',\n",
              "                                                     [key], {});\n",
              "          if (!dataTable) return;\n",
              "\n",
              "          const docLinkHtml = 'Like what you see? Visit the ' +\n",
              "            '<a target=\"_blank\" href=https://colab.research.google.com/notebooks/data_table.ipynb>data table notebook</a>'\n",
              "            + ' to learn more about interactive tables.';\n",
              "          element.innerHTML = '';\n",
              "          dataTable['output_type'] = 'display_data';\n",
              "          await google.colab.output.renderOutput(dataTable, element);\n",
              "          const docLink = document.createElement('div');\n",
              "          docLink.innerHTML = docLinkHtml;\n",
              "          element.appendChild(docLink);\n",
              "        }\n",
              "      </script>\n",
              "    </div>\n",
              "  </div>\n",
              "  "
            ]
          },
          "metadata": {},
          "execution_count": 27
        }
      ],
      "source": [
        "train_s1"
      ]
    },
    {
      "cell_type": "code",
      "execution_count": 47,
      "id": "numerical-hearts",
      "metadata": {
        "execution": {
          "iopub.execute_input": "2021-06-25T04:23:29.126917Z",
          "iopub.status.busy": "2021-06-25T04:23:29.125959Z",
          "iopub.status.idle": "2021-06-25T04:23:31.423814Z",
          "shell.execute_reply": "2021-06-25T04:23:31.424247Z",
          "shell.execute_reply.started": "2021-06-25T04:00:43.234494Z"
        },
        "id": "numerical-hearts",
        "outputId": "7b98462d-7016-4255-9d2b-76454ab30fb0",
        "papermill": {
          "duration": 2.360501,
          "end_time": "2021-06-25T04:23:31.424400",
          "exception": false,
          "start_time": "2021-06-25T04:23:29.063899",
          "status": "completed"
        },
        "tags": [],
        "colab": {
          "base_uri": "https://localhost:8080/",
          "height": 482
        }
      },
      "outputs": [
        {
          "output_type": "display_data",
          "data": {
            "text/plain": [
              "<Figure size 1080x576 with 1 Axes>"
            ],
            "image/png": "[encoded data removed]"
          },
          "metadata": {
            "needs_background": "light"
          }
        }
      ],
      "source": [
        "all_text_s1 = ' '.join(word for word in train_s1[\"Ulasan_clean\"])\n",
        "wordcloud = WordCloud(colormap='Greens', width=1000, height=1000, mode='RGBA', background_color='white').generate(all_text_s1)\n",
        "plt.figure(figsize=(15,8))\n",
        "plt.imshow(wordcloud, interpolation='bilinear')\n",
        "plt.axis(\"off\")\n",
        "plt.title(\"Ulasan Positif\")\n",
        "plt.margins(x=0, y=0)\n",
        "plt.show()"
      ]
    },
    {
      "cell_type": "markdown",
      "source": [
        "Diatas merupakan wordcloud ulasan dengan label sentimen positif. Kata yang paling sering muncul yaitu : barang, cepat, bagus, masker, aman, kualitas, sesuai, rapi, respon, aman, recommended, dan sebagainya. Sehingga dari kata-kata ini bisa menjadi masukan untuk penjual dan marketplace Tokopedia untuk menjaga kualitas atau meningkatkan kembali kualitas barang (produk masker kesehatan)."
      ],
      "metadata": {
        "id": "sDuSch-TtY2r"
      },
      "id": "sDuSch-TtY2r"
    },
    {
      "cell_type": "markdown",
      "id": "literary-integration",
      "metadata": {
        "id": "literary-integration",
        "papermill": {
          "duration": 0.065992,
          "end_time": "2021-06-25T04:23:31.688593",
          "exception": false,
          "start_time": "2021-06-25T04:23:31.622601",
          "status": "completed"
        },
        "tags": []
      },
      "source": [
        "**Data Train dan Test**"
      ]
    },
    {
      "cell_type": "markdown",
      "id": "polyphonic-academy",
      "metadata": {
        "papermill": {
          "duration": 0.065752,
          "end_time": "2021-06-25T04:23:31.819798",
          "exception": false,
          "start_time": "2021-06-25T04:23:31.754046",
          "status": "completed"
        },
        "tags": [],
        "id": "polyphonic-academy"
      },
      "source": [
        "Kita menggunakan library sklearn.model_selection dengan modul train_test _split untuk membagi data latih (X_train dan y_train) dan data uji (X_test dan y_test) dengan proporsi data training 70% dan data testing 30%."
      ]
    },
    {
      "cell_type": "code",
      "execution_count": 29,
      "id": "international-necklace",
      "metadata": {
        "execution": {
          "iopub.execute_input": "2021-06-25T04:23:31.956585Z",
          "iopub.status.busy": "2021-06-25T04:23:31.955643Z",
          "iopub.status.idle": "2021-06-25T04:23:31.961821Z",
          "shell.execute_reply": "2021-06-25T04:23:31.962271Z",
          "shell.execute_reply.started": "2021-06-25T04:00:45.859573Z"
        },
        "id": "international-necklace",
        "outputId": "fd7f83aa-750c-4de9-d206-6ef7cab6ef8a",
        "papermill": {
          "duration": 0.075704,
          "end_time": "2021-06-25T04:23:31.962436",
          "exception": false,
          "start_time": "2021-06-25T04:23:31.886732",
          "status": "completed"
        },
        "tags": [],
        "colab": {
          "base_uri": "https://localhost:8080/"
        }
      },
      "outputs": [
        {
          "output_type": "stream",
          "name": "stderr",
          "text": [
            "/usr/local/lib/python3.7/dist-packages/ipykernel_launcher.py:1: SettingWithCopyWarning: \n",
            "A value is trying to be set on a copy of a slice from a DataFrame.\n",
            "Try using .loc[row_indexer,col_indexer] = value instead\n",
            "\n",
            "See the caveats in the documentation: https://pandas.pydata.org/pandas-docs/stable/user_guide/indexing.html#returning-a-view-versus-a-copy\n",
            "  \"\"\"Entry point for launching an IPython kernel.\n"
          ]
        }
      ],
      "source": [
        "data_label['Ulasan_clean'] = data_label['Ulasan_clean'].fillna(\"tidak ada komentar\")"
      ]
    },
    {
      "cell_type": "code",
      "execution_count": 30,
      "id": "adopted-sacrifice",
      "metadata": {
        "execution": {
          "iopub.execute_input": "2021-06-25T04:23:32.104955Z",
          "iopub.status.busy": "2021-06-25T04:23:32.104250Z",
          "iopub.status.idle": "2021-06-25T04:23:32.168793Z",
          "shell.execute_reply": "2021-06-25T04:23:32.168095Z",
          "shell.execute_reply.started": "2021-06-25T04:00:46.667605Z"
        },
        "id": "adopted-sacrifice",
        "papermill": {
          "duration": 0.136302,
          "end_time": "2021-06-25T04:23:32.168953",
          "exception": false,
          "start_time": "2021-06-25T04:23:32.032651",
          "status": "completed"
        },
        "tags": []
      },
      "outputs": [],
      "source": [
        "from sklearn.model_selection import train_test_split\n",
        "\n",
        "X_train, X_test, y_train, y_test = train_test_split(data_label['Ulasan_clean'], data_label['label'], \n",
        "                                                    test_size=0.1, stratify=data_label['label'], random_state=30)"
      ]
    },
    {
      "cell_type": "markdown",
      "id": "cellular-copyright",
      "metadata": {
        "id": "cellular-copyright",
        "papermill": {
          "duration": 0.066672,
          "end_time": "2021-06-25T04:23:32.302710",
          "exception": false,
          "start_time": "2021-06-25T04:23:32.236038",
          "status": "completed"
        },
        "tags": []
      },
      "source": [
        "# 4. Modelling"
      ]
    },
    {
      "cell_type": "markdown",
      "source": [
        "**TF-IDF**"
      ],
      "metadata": {
        "id": "PhZXIN6OVtgJ"
      },
      "id": "PhZXIN6OVtgJ"
    },
    {
      "cell_type": "markdown",
      "id": "chubby-charlotte",
      "metadata": {
        "papermill": {
          "duration": 0.066863,
          "end_time": "2021-06-25T04:23:32.436410",
          "exception": false,
          "start_time": "2021-06-25T04:23:32.369547",
          "status": "completed"
        },
        "tags": [],
        "id": "chubby-charlotte"
      },
      "source": [
        "Pada proses ini kami menggunakan pembobotan TF-IDF(term frequency–inverse document) untuk menghitung manual dengan menggunakan python pembobotan kata dalam dokumen data ulasan."
      ]
    },
    {
      "cell_type": "code",
      "execution_count": 31,
      "id": "solid-raleigh",
      "metadata": {
        "execution": {
          "iopub.execute_input": "2021-06-25T04:23:32.573533Z",
          "iopub.status.busy": "2021-06-25T04:23:32.572925Z",
          "iopub.status.idle": "2021-06-25T04:23:32.574867Z",
          "shell.execute_reply": "2021-06-25T04:23:32.575323Z",
          "shell.execute_reply.started": "2021-06-25T04:00:48.999229Z"
        },
        "id": "solid-raleigh",
        "papermill": {
          "duration": 0.072539,
          "end_time": "2021-06-25T04:23:32.575480",
          "exception": false,
          "start_time": "2021-06-25T04:23:32.502941",
          "status": "completed"
        },
        "tags": []
      },
      "outputs": [],
      "source": [
        "import numpy as np"
      ]
    },
    {
      "cell_type": "code",
      "execution_count": 32,
      "id": "square-matter",
      "metadata": {
        "execution": {
          "iopub.execute_input": "2021-06-25T04:23:32.714156Z",
          "iopub.status.busy": "2021-06-25T04:23:32.713542Z",
          "iopub.status.idle": "2021-06-25T04:23:32.717476Z",
          "shell.execute_reply": "2021-06-25T04:23:32.717928Z",
          "shell.execute_reply.started": "2021-06-25T04:00:50.886904Z"
        },
        "id": "square-matter",
        "papermill": {
          "duration": 0.074501,
          "end_time": "2021-06-25T04:23:32.718082",
          "exception": false,
          "start_time": "2021-06-25T04:23:32.643581",
          "status": "completed"
        },
        "tags": []
      },
      "outputs": [],
      "source": [
        "from sklearn.feature_extraction.text import TfidfVectorizer\n",
        "vectorizer = TfidfVectorizer(decode_error='replace', encoding='utf-8')"
      ]
    },
    {
      "cell_type": "code",
      "execution_count": 33,
      "id": "serial-arrest",
      "metadata": {
        "execution": {
          "iopub.execute_input": "2021-06-25T04:23:32.856972Z",
          "iopub.status.busy": "2021-06-25T04:23:32.856359Z",
          "iopub.status.idle": "2021-06-25T04:23:32.869188Z",
          "shell.execute_reply": "2021-06-25T04:23:32.868458Z",
          "shell.execute_reply.started": "2021-06-25T04:00:52.917145Z"
        },
        "id": "serial-arrest",
        "outputId": "23b19ca5-fa91-42e4-fab4-ccf2e1becdd5",
        "papermill": {
          "duration": 0.084509,
          "end_time": "2021-06-25T04:23:32.869378",
          "exception": false,
          "start_time": "2021-06-25T04:23:32.784869",
          "status": "completed"
        },
        "tags": [],
        "colab": {
          "base_uri": "https://localhost:8080/"
        }
      },
      "outputs": [
        {
          "output_type": "stream",
          "name": "stdout",
          "text": [
            "(270, 428)\n",
            "(30, 428)\n"
          ]
        }
      ],
      "source": [
        "X_train = vectorizer.fit_transform(X_train)\n",
        "X_test = vectorizer.transform(X_test)\n",
        "\n",
        "print(X_train.shape)\n",
        "print(X_test.shape)"
      ]
    },
    {
      "cell_type": "code",
      "execution_count": 34,
      "id": "northern-intensity",
      "metadata": {
        "execution": {
          "iopub.execute_input": "2021-06-25T04:23:33.011458Z",
          "iopub.status.busy": "2021-06-25T04:23:33.010857Z",
          "iopub.status.idle": "2021-06-25T04:23:33.013596Z",
          "shell.execute_reply": "2021-06-25T04:23:33.014061Z",
          "shell.execute_reply.started": "2021-06-25T04:01:57.636631Z"
        },
        "papermill": {
          "duration": 0.07567,
          "end_time": "2021-06-25T04:23:33.014208",
          "exception": false,
          "start_time": "2021-06-25T04:23:32.938538",
          "status": "completed"
        },
        "tags": [],
        "id": "northern-intensity"
      },
      "outputs": [],
      "source": [
        "X_train = X_train.toarray()"
      ]
    },
    {
      "cell_type": "code",
      "execution_count": 35,
      "id": "radical-funeral",
      "metadata": {
        "execution": {
          "iopub.execute_input": "2021-06-25T04:23:33.152688Z",
          "iopub.status.busy": "2021-06-25T04:23:33.152024Z",
          "iopub.status.idle": "2021-06-25T04:23:33.154791Z",
          "shell.execute_reply": "2021-06-25T04:23:33.154290Z",
          "shell.execute_reply.started": "2021-06-25T04:02:03.559786Z"
        },
        "papermill": {
          "duration": 0.073621,
          "end_time": "2021-06-25T04:23:33.154942",
          "exception": false,
          "start_time": "2021-06-25T04:23:33.081321",
          "status": "completed"
        },
        "tags": [],
        "id": "radical-funeral"
      },
      "outputs": [],
      "source": [
        "X_test = X_test.toarray()"
      ]
    },
    {
      "cell_type": "markdown",
      "id": "accurate-connecticut",
      "metadata": {
        "papermill": {
          "duration": 0.067033,
          "end_time": "2021-06-25T04:23:33.292642",
          "exception": false,
          "start_time": "2021-06-25T04:23:33.225609",
          "status": "completed"
        },
        "tags": [],
        "id": "accurate-connecticut"
      },
      "source": [
        "# 5. Evaluation"
      ]
    },
    {
      "cell_type": "code",
      "execution_count": 36,
      "id": "conceptual-score",
      "metadata": {
        "execution": {
          "iopub.execute_input": "2021-06-25T04:23:33.429470Z",
          "iopub.status.busy": "2021-06-25T04:23:33.428698Z",
          "iopub.status.idle": "2021-06-25T04:23:33.433265Z",
          "shell.execute_reply": "2021-06-25T04:23:33.433936Z",
          "shell.execute_reply.started": "2021-06-25T04:02:10.355498Z"
        },
        "papermill": {
          "duration": 0.075259,
          "end_time": "2021-06-25T04:23:33.434098",
          "exception": false,
          "start_time": "2021-06-25T04:23:33.358839",
          "status": "completed"
        },
        "tags": [],
        "id": "conceptual-score"
      },
      "outputs": [],
      "source": [
        "from sklearn.naive_bayes import GaussianNB\n",
        "\n",
        "nb = GaussianNB()"
      ]
    },
    {
      "cell_type": "code",
      "execution_count": 37,
      "id": "regulation-details",
      "metadata": {
        "execution": {
          "iopub.execute_input": "2021-06-25T04:23:33.595803Z",
          "iopub.status.busy": "2021-06-25T04:23:33.595136Z",
          "iopub.status.idle": "2021-06-25T04:23:37.771029Z",
          "shell.execute_reply": "2021-06-25T04:23:37.770437Z",
          "shell.execute_reply.started": "2021-06-25T04:02:18.524001Z"
        },
        "papermill": {
          "duration": 4.269245,
          "end_time": "2021-06-25T04:23:37.771164",
          "exception": false,
          "start_time": "2021-06-25T04:23:33.501919",
          "status": "completed"
        },
        "tags": [],
        "id": "regulation-details",
        "outputId": "a3dd010a-8b4f-4f28-b9a5-998cdbeaf5b5",
        "colab": {
          "base_uri": "https://localhost:8080/"
        }
      },
      "outputs": [
        {
          "output_type": "stream",
          "name": "stdout",
          "text": [
            "Fitting 15 folds for each of 100 candidates, totalling 1500 fits\n"
          ]
        },
        {
          "output_type": "execute_result",
          "data": {
            "text/plain": [
              "{'var_smoothing': 1.0}"
            ]
          },
          "metadata": {},
          "execution_count": 37
        }
      ],
      "source": [
        "from sklearn.model_selection import RepeatedStratifiedKFold\n",
        "from sklearn.model_selection import GridSearchCV\n",
        "from sklearn.model_selection import StratifiedKFold\n",
        "\n",
        "#deklarasi metode cross validation\n",
        "cv_method = RepeatedStratifiedKFold(n_splits=5,  n_repeats=3, random_state=999)\n",
        "#tuning hyperparameter menggunakan gridsearch\n",
        "\n",
        "params_NB = {'var_smoothing': np.logspace(0,-9, num=100)}\n",
        "gscv_nb = GridSearchCV(estimator=nb, \n",
        "                 param_grid=params_NB, \n",
        "                 cv=cv_method,   # use any cross validation technique \n",
        "                 verbose=1, \n",
        "                 scoring='accuracy') \n",
        "\n",
        "#Fitting ke Model\n",
        "gscv_nb.fit(X_train,y_train)\n",
        "#mendapatkan hyperparameters terbaik\n",
        "gscv_nb.best_params_"
      ]
    },
    {
      "cell_type": "code",
      "execution_count": 38,
      "id": "hindu-invalid",
      "metadata": {
        "execution": {
          "iopub.execute_input": "2021-06-25T04:23:37.908233Z",
          "iopub.status.busy": "2021-06-25T04:23:37.907602Z",
          "iopub.status.idle": "2021-06-25T04:23:37.910064Z",
          "shell.execute_reply": "2021-06-25T04:23:37.910539Z",
          "shell.execute_reply.started": "2021-06-25T04:02:26.962871Z"
        },
        "papermill": {
          "duration": 0.073568,
          "end_time": "2021-06-25T04:23:37.910704",
          "exception": false,
          "start_time": "2021-06-25T04:23:37.837136",
          "status": "completed"
        },
        "tags": [],
        "id": "hindu-invalid"
      },
      "outputs": [],
      "source": [
        "nb = GaussianNB(var_smoothing=1.0)"
      ]
    },
    {
      "cell_type": "code",
      "execution_count": 39,
      "id": "concerned-defeat",
      "metadata": {
        "execution": {
          "iopub.execute_input": "2021-06-25T04:23:38.050347Z",
          "iopub.status.busy": "2021-06-25T04:23:38.049726Z",
          "iopub.status.idle": "2021-06-25T04:23:38.059203Z",
          "shell.execute_reply": "2021-06-25T04:23:38.058684Z",
          "shell.execute_reply.started": "2021-06-25T04:02:34.033953Z"
        },
        "papermill": {
          "duration": 0.081343,
          "end_time": "2021-06-25T04:23:38.059336",
          "exception": false,
          "start_time": "2021-06-25T04:23:37.977993",
          "status": "completed"
        },
        "tags": [],
        "id": "concerned-defeat",
        "outputId": "65418321-ebf9-4621-a653-dbf3ef51ca16",
        "colab": {
          "base_uri": "https://localhost:8080/"
        }
      },
      "outputs": [
        {
          "output_type": "execute_result",
          "data": {
            "text/plain": [
              "GaussianNB(var_smoothing=1.0)"
            ]
          },
          "metadata": {},
          "execution_count": 39
        }
      ],
      "source": [
        "nb.fit(X_train, y_train)"
      ]
    },
    {
      "cell_type": "code",
      "execution_count": 40,
      "id": "minute-article",
      "metadata": {
        "execution": {
          "iopub.execute_input": "2021-06-25T04:23:38.199274Z",
          "iopub.status.busy": "2021-06-25T04:23:38.198661Z",
          "iopub.status.idle": "2021-06-25T04:23:38.200946Z",
          "shell.execute_reply": "2021-06-25T04:23:38.201539Z",
          "shell.execute_reply.started": "2021-06-25T04:02:41.253853Z"
        },
        "papermill": {
          "duration": 0.074773,
          "end_time": "2021-06-25T04:23:38.201717",
          "exception": false,
          "start_time": "2021-06-25T04:23:38.126944",
          "status": "completed"
        },
        "tags": [],
        "id": "minute-article"
      },
      "outputs": [],
      "source": [
        "y_pred_nb = nb.predict(X_test)"
      ]
    },
    {
      "cell_type": "code",
      "execution_count": 41,
      "id": "smart-tooth",
      "metadata": {
        "execution": {
          "iopub.execute_input": "2021-06-25T04:23:38.339992Z",
          "iopub.status.busy": "2021-06-25T04:23:38.339416Z",
          "iopub.status.idle": "2021-06-25T04:23:38.342603Z",
          "shell.execute_reply": "2021-06-25T04:23:38.343216Z",
          "shell.execute_reply.started": "2021-06-25T04:02:47.19137Z"
        },
        "papermill": {
          "duration": 0.074645,
          "end_time": "2021-06-25T04:23:38.343362",
          "exception": false,
          "start_time": "2021-06-25T04:23:38.268717",
          "status": "completed"
        },
        "tags": [],
        "id": "smart-tooth"
      },
      "outputs": [],
      "source": [
        "from sklearn.metrics import confusion_matrix\n",
        "from sklearn.metrics import classification_report"
      ]
    },
    {
      "cell_type": "code",
      "execution_count": 42,
      "id": "introductory-rebecca",
      "metadata": {
        "execution": {
          "iopub.execute_input": "2021-06-25T04:23:38.478983Z",
          "iopub.status.busy": "2021-06-25T04:23:38.478429Z",
          "iopub.status.idle": "2021-06-25T04:23:38.489035Z",
          "shell.execute_reply": "2021-06-25T04:23:38.489678Z",
          "shell.execute_reply.started": "2021-06-25T04:02:53.443294Z"
        },
        "papermill": {
          "duration": 0.079686,
          "end_time": "2021-06-25T04:23:38.489892",
          "exception": false,
          "start_time": "2021-06-25T04:23:38.410206",
          "status": "completed"
        },
        "tags": [],
        "id": "introductory-rebecca",
        "outputId": "4c3bae83-2e67-4031-b119-c59d29443d7a",
        "colab": {
          "base_uri": "https://localhost:8080/"
        }
      },
      "outputs": [
        {
          "output_type": "stream",
          "name": "stdout",
          "text": [
            "--------------------- confusion matrix  ----------------------------\n",
            "[[ 0  3]\n",
            " [ 1 26]]\n",
            "--------------------- classification report  ----------------------------\n",
            "              precision    recall  f1-score   support\n",
            "\n",
            "           0       0.00      0.00      0.00         3\n",
            "           1       0.90      0.96      0.93        27\n",
            "\n",
            "    accuracy                           0.87        30\n",
            "   macro avg       0.45      0.48      0.46        30\n",
            "weighted avg       0.81      0.87      0.84        30\n",
            "\n"
          ]
        }
      ],
      "source": [
        "print('--------------------- confusion matrix  ----------------------------')\n",
        "print(confusion_matrix(y_test, y_pred_nb))\n",
        "print('--------------------- classification report  ----------------------------')\n",
        "print(classification_report(y_test, y_pred_nb))"
      ]
    },
    {
      "cell_type": "markdown",
      "id": "moved-pillow",
      "metadata": {
        "papermill": {
          "duration": 0.069762,
          "end_time": "2021-06-25T04:23:38.626999",
          "exception": false,
          "start_time": "2021-06-25T04:23:38.557237",
          "status": "completed"
        },
        "tags": [],
        "id": "moved-pillow"
      },
      "source": [
        "Setelah dilakukan training dan testing data serta  tf-idf selanjutnya dapat dilakukan proses klasifikasi prediksi menggunakan model algoritma Naïve Bayes. Didapatkan model algoritma Naïve Bayes dapat memberikan akurasi yang cukup baik sampai 87%."
      ]
    },
    {
      "cell_type": "markdown",
      "id": "prerequisite-medicare",
      "metadata": {
        "papermill": {
          "duration": 0.066653,
          "end_time": "2021-06-25T04:23:38.761349",
          "exception": false,
          "start_time": "2021-06-25T04:23:38.694696",
          "status": "completed"
        },
        "tags": [],
        "id": "prerequisite-medicare"
      },
      "source": [
        "Dari Metode Algoritma Naïve Bayes diketahui bahwa nilai akurasi dalam mini project NLP ini sebesar 87%. Selain itu, didapatkan bahwa Analisa Sentimen pada ulasan marketplace Tokopedia pada produk masker medis menunjukan lebih banyak pada ulasan yang positif. Ini berarti pelayanan dan produk masker medis yang disediakan di marketplace Tokopedia sudah cukup baik dan perlu mempertahankan kualitas penjualan masker.\n"
      ]
    },
    {
      "cell_type": "markdown",
      "source": [
        "**TERIMA KASIH**"
      ],
      "metadata": {
        "id": "gb2Ir1-SwbJr"
      },
      "id": "gb2Ir1-SwbJr"
    }
  ],
  "metadata": {
    "kernelspec": {
      "display_name": "Python 3",
      "language": "python",
      "name": "python3"
    },
    "language_info": {
      "codemirror_mode": {
        "name": "ipython",
        "version": 3
      },
      "file_extension": ".py",
      "mimetype": "text/x-python",
      "name": "python",
      "nbconvert_exporter": "python",
      "pygments_lexer": "ipython3",
      "version": "3.7.10"
    },
    "papermill": {
      "default_parameters": {},
      "duration": 33.445863,
      "end_time": "2021-06-25T04:23:39.540324",
      "environment_variables": {},
      "exception": null,
      "input_path": "__notebook__.ipynb",
      "output_path": "__notebook__.ipynb",
      "parameters": {},
      "start_time": "2021-06-25T04:23:06.094461",
      "version": "2.3.3"
    },
    "colab": {
      "name": "Kelompok 6_Sentiment Analysis_Ulasan Masker di Tokopedia.ipynb",
      "provenance": [],
      "include_colab_link": true
    }
  },
  "nbformat": 4,
  "nbformat_minor": 5
}